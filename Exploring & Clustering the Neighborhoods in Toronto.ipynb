{
 "cells": [
  {
   "cell_type": "markdown",
   "metadata": {},
   "source": [
    "# Exploring & Clustering the Neighborhoods in Toronto\n",
    "\n",
    "- **Problem 1: In first section of notebook, we have collected data from Wikipedia and manipulate it.**  \n",
    "- **Problem 2: In Second section of notebook, we have used 'https://cocl.us/Geospatial_data' to collect latitude and longitude after that we will save that to existing table.**  \n",
    "- **Problem 3: In third section of notebook, we will explore and cluster the neighborhoods in Toronto and generate map to visualize neighborhoods of Toronto**\n",
    "\n",
    "Wikipedia Page: https://en.wikipedia.org/wiki/List_of_postal_codes_of_Canada:_M"
   ]
  },
  {
   "cell_type": "markdown",
   "metadata": {},
   "source": [
    "## Solution of Problem 1:"
   ]
  },
  {
   "cell_type": "code",
   "execution_count": 1,
   "metadata": {},
   "outputs": [
    {
     "name": "stdout",
     "output_type": "stream",
     "text": [
      "Packages have been imported!\n"
     ]
    }
   ],
   "source": [
    "#importing required libraries\n",
    "import pandas as pd\n",
    "import numpy as np\n",
    "print(\"Packages have been imported!\")"
   ]
  },
  {
   "cell_type": "markdown",
   "metadata": {},
   "source": [
    "**Using Pandas html method to fetch the data and use list index to grab the table, also replaced the Not Assigned with Nan**"
   ]
  },
  {
   "cell_type": "code",
   "execution_count": 2,
   "metadata": {},
   "outputs": [],
   "source": [
    "data = pd.read_html(\"https://en.wikipedia.org/wiki/List_of_postal_codes_of_Canada:_M\", na_values=\"Not assigned\")[0]"
   ]
  },
  {
   "cell_type": "code",
   "execution_count": 3,
   "metadata": {},
   "outputs": [
    {
     "data": {
      "text/html": [
       "<div>\n",
       "<style scoped>\n",
       "    .dataframe tbody tr th:only-of-type {\n",
       "        vertical-align: middle;\n",
       "    }\n",
       "\n",
       "    .dataframe tbody tr th {\n",
       "        vertical-align: top;\n",
       "    }\n",
       "\n",
       "    .dataframe thead th {\n",
       "        text-align: right;\n",
       "    }\n",
       "</style>\n",
       "<table border=\"1\" class=\"dataframe\">\n",
       "  <thead>\n",
       "    <tr style=\"text-align: right;\">\n",
       "      <th></th>\n",
       "      <th>Postal code</th>\n",
       "      <th>Borough</th>\n",
       "      <th>Neighborhood</th>\n",
       "    </tr>\n",
       "  </thead>\n",
       "  <tbody>\n",
       "    <tr>\n",
       "      <th>0</th>\n",
       "      <td>M1A</td>\n",
       "      <td>NaN</td>\n",
       "      <td>NaN</td>\n",
       "    </tr>\n",
       "    <tr>\n",
       "      <th>1</th>\n",
       "      <td>M2A</td>\n",
       "      <td>NaN</td>\n",
       "      <td>NaN</td>\n",
       "    </tr>\n",
       "    <tr>\n",
       "      <th>2</th>\n",
       "      <td>M3A</td>\n",
       "      <td>North York</td>\n",
       "      <td>Parkwoods</td>\n",
       "    </tr>\n",
       "    <tr>\n",
       "      <th>3</th>\n",
       "      <td>M4A</td>\n",
       "      <td>North York</td>\n",
       "      <td>Victoria Village</td>\n",
       "    </tr>\n",
       "    <tr>\n",
       "      <th>4</th>\n",
       "      <td>M5A</td>\n",
       "      <td>Downtown Toronto</td>\n",
       "      <td>Regent Park / Harbourfront</td>\n",
       "    </tr>\n",
       "  </tbody>\n",
       "</table>\n",
       "</div>"
      ],
      "text/plain": [
       "  Postal code           Borough                Neighborhood\n",
       "0         M1A               NaN                         NaN\n",
       "1         M2A               NaN                         NaN\n",
       "2         M3A        North York                   Parkwoods\n",
       "3         M4A        North York            Victoria Village\n",
       "4         M5A  Downtown Toronto  Regent Park / Harbourfront"
      ]
     },
     "execution_count": 3,
     "metadata": {},
     "output_type": "execute_result"
    }
   ],
   "source": [
    "#showing the first five results:\n",
    "data.head()"
   ]
  },
  {
   "cell_type": "code",
   "execution_count": 4,
   "metadata": {},
   "outputs": [
    {
     "data": {
      "text/html": [
       "<div>\n",
       "<style scoped>\n",
       "    .dataframe tbody tr th:only-of-type {\n",
       "        vertical-align: middle;\n",
       "    }\n",
       "\n",
       "    .dataframe tbody tr th {\n",
       "        vertical-align: top;\n",
       "    }\n",
       "\n",
       "    .dataframe thead th {\n",
       "        text-align: right;\n",
       "    }\n",
       "</style>\n",
       "<table border=\"1\" class=\"dataframe\">\n",
       "  <thead>\n",
       "    <tr style=\"text-align: right;\">\n",
       "      <th></th>\n",
       "      <th>Postal code</th>\n",
       "      <th>Borough</th>\n",
       "      <th>Neighborhood</th>\n",
       "    </tr>\n",
       "  </thead>\n",
       "  <tbody>\n",
       "    <tr>\n",
       "      <th>175</th>\n",
       "      <td>M5Z</td>\n",
       "      <td>NaN</td>\n",
       "      <td>NaN</td>\n",
       "    </tr>\n",
       "    <tr>\n",
       "      <th>176</th>\n",
       "      <td>M6Z</td>\n",
       "      <td>NaN</td>\n",
       "      <td>NaN</td>\n",
       "    </tr>\n",
       "    <tr>\n",
       "      <th>177</th>\n",
       "      <td>M7Z</td>\n",
       "      <td>NaN</td>\n",
       "      <td>NaN</td>\n",
       "    </tr>\n",
       "    <tr>\n",
       "      <th>178</th>\n",
       "      <td>M8Z</td>\n",
       "      <td>Etobicoke</td>\n",
       "      <td>Mimico NW / The Queensway West / South of Bloo...</td>\n",
       "    </tr>\n",
       "    <tr>\n",
       "      <th>179</th>\n",
       "      <td>M9Z</td>\n",
       "      <td>NaN</td>\n",
       "      <td>NaN</td>\n",
       "    </tr>\n",
       "  </tbody>\n",
       "</table>\n",
       "</div>"
      ],
      "text/plain": [
       "    Postal code    Borough                                       Neighborhood\n",
       "175         M5Z        NaN                                                NaN\n",
       "176         M6Z        NaN                                                NaN\n",
       "177         M7Z        NaN                                                NaN\n",
       "178         M8Z  Etobicoke  Mimico NW / The Queensway West / South of Bloo...\n",
       "179         M9Z        NaN                                                NaN"
      ]
     },
     "execution_count": 4,
     "metadata": {},
     "output_type": "execute_result"
    }
   ],
   "source": [
    "#showing the last five results:\n",
    "data.tail()"
   ]
  },
  {
   "cell_type": "markdown",
   "metadata": {},
   "source": [
    "**Now, We will drop those rows which has Nan in 'Borough' column and store the result set in new variable 'data_process'**"
   ]
  },
  {
   "cell_type": "code",
   "execution_count": 5,
   "metadata": {},
   "outputs": [
    {
     "data": {
      "text/html": [
       "<div>\n",
       "<style scoped>\n",
       "    .dataframe tbody tr th:only-of-type {\n",
       "        vertical-align: middle;\n",
       "    }\n",
       "\n",
       "    .dataframe tbody tr th {\n",
       "        vertical-align: top;\n",
       "    }\n",
       "\n",
       "    .dataframe thead th {\n",
       "        text-align: right;\n",
       "    }\n",
       "</style>\n",
       "<table border=\"1\" class=\"dataframe\">\n",
       "  <thead>\n",
       "    <tr style=\"text-align: right;\">\n",
       "      <th></th>\n",
       "      <th>Postal code</th>\n",
       "      <th>Borough</th>\n",
       "      <th>Neighborhood</th>\n",
       "    </tr>\n",
       "  </thead>\n",
       "  <tbody>\n",
       "    <tr>\n",
       "      <th>0</th>\n",
       "      <td>M3A</td>\n",
       "      <td>North York</td>\n",
       "      <td>Parkwoods</td>\n",
       "    </tr>\n",
       "    <tr>\n",
       "      <th>1</th>\n",
       "      <td>M4A</td>\n",
       "      <td>North York</td>\n",
       "      <td>Victoria Village</td>\n",
       "    </tr>\n",
       "    <tr>\n",
       "      <th>2</th>\n",
       "      <td>M5A</td>\n",
       "      <td>Downtown Toronto</td>\n",
       "      <td>Regent Park / Harbourfront</td>\n",
       "    </tr>\n",
       "    <tr>\n",
       "      <th>3</th>\n",
       "      <td>M6A</td>\n",
       "      <td>North York</td>\n",
       "      <td>Lawrence Manor / Lawrence Heights</td>\n",
       "    </tr>\n",
       "    <tr>\n",
       "      <th>4</th>\n",
       "      <td>M7A</td>\n",
       "      <td>Downtown Toronto</td>\n",
       "      <td>Queen's Park / Ontario Provincial Government</td>\n",
       "    </tr>\n",
       "    <tr>\n",
       "      <th>...</th>\n",
       "      <td>...</td>\n",
       "      <td>...</td>\n",
       "      <td>...</td>\n",
       "    </tr>\n",
       "    <tr>\n",
       "      <th>98</th>\n",
       "      <td>M8X</td>\n",
       "      <td>Etobicoke</td>\n",
       "      <td>The Kingsway / Montgomery Road / Old Mill North</td>\n",
       "    </tr>\n",
       "    <tr>\n",
       "      <th>99</th>\n",
       "      <td>M4Y</td>\n",
       "      <td>Downtown Toronto</td>\n",
       "      <td>Church and Wellesley</td>\n",
       "    </tr>\n",
       "    <tr>\n",
       "      <th>100</th>\n",
       "      <td>M7Y</td>\n",
       "      <td>East Toronto</td>\n",
       "      <td>Business reply mail Processing CentrE</td>\n",
       "    </tr>\n",
       "    <tr>\n",
       "      <th>101</th>\n",
       "      <td>M8Y</td>\n",
       "      <td>Etobicoke</td>\n",
       "      <td>Old Mill South / King's Mill Park / Sunnylea /...</td>\n",
       "    </tr>\n",
       "    <tr>\n",
       "      <th>102</th>\n",
       "      <td>M8Z</td>\n",
       "      <td>Etobicoke</td>\n",
       "      <td>Mimico NW / The Queensway West / South of Bloo...</td>\n",
       "    </tr>\n",
       "  </tbody>\n",
       "</table>\n",
       "<p>103 rows × 3 columns</p>\n",
       "</div>"
      ],
      "text/plain": [
       "    Postal code           Borough  \\\n",
       "0           M3A        North York   \n",
       "1           M4A        North York   \n",
       "2           M5A  Downtown Toronto   \n",
       "3           M6A        North York   \n",
       "4           M7A  Downtown Toronto   \n",
       "..          ...               ...   \n",
       "98          M8X         Etobicoke   \n",
       "99          M4Y  Downtown Toronto   \n",
       "100         M7Y      East Toronto   \n",
       "101         M8Y         Etobicoke   \n",
       "102         M8Z         Etobicoke   \n",
       "\n",
       "                                          Neighborhood  \n",
       "0                                            Parkwoods  \n",
       "1                                     Victoria Village  \n",
       "2                           Regent Park / Harbourfront  \n",
       "3                    Lawrence Manor / Lawrence Heights  \n",
       "4         Queen's Park / Ontario Provincial Government  \n",
       "..                                                 ...  \n",
       "98     The Kingsway / Montgomery Road / Old Mill North  \n",
       "99                                Church and Wellesley  \n",
       "100              Business reply mail Processing CentrE  \n",
       "101  Old Mill South / King's Mill Park / Sunnylea /...  \n",
       "102  Mimico NW / The Queensway West / South of Bloo...  \n",
       "\n",
       "[103 rows x 3 columns]"
      ]
     },
     "execution_count": 5,
     "metadata": {},
     "output_type": "execute_result"
    }
   ],
   "source": [
    "#Now, dropping Nan values:\n",
    "data_process = data.dropna(subset=[\"Borough\"])\n",
    "\n",
    "#Also reset the index value. Use 'drop = True', for not creating old index column\n",
    "data_process.reset_index(drop = True, inplace=True)\n",
    "data_process"
   ]
  },
  {
   "cell_type": "markdown",
   "metadata": {},
   "source": [
    "**To replace the \"/\" with \",\", We will use replace method with regex = True Argument and print the result set**"
   ]
  },
  {
   "cell_type": "code",
   "execution_count": 7,
   "metadata": {},
   "outputs": [
    {
     "data": {
      "text/html": [
       "<div>\n",
       "<style scoped>\n",
       "    .dataframe tbody tr th:only-of-type {\n",
       "        vertical-align: middle;\n",
       "    }\n",
       "\n",
       "    .dataframe tbody tr th {\n",
       "        vertical-align: top;\n",
       "    }\n",
       "\n",
       "    .dataframe thead th {\n",
       "        text-align: right;\n",
       "    }\n",
       "</style>\n",
       "<table border=\"1\" class=\"dataframe\">\n",
       "  <thead>\n",
       "    <tr style=\"text-align: right;\">\n",
       "      <th></th>\n",
       "      <th>Postal code</th>\n",
       "      <th>Borough</th>\n",
       "      <th>Neighborhood</th>\n",
       "    </tr>\n",
       "  </thead>\n",
       "  <tbody>\n",
       "    <tr>\n",
       "      <th>0</th>\n",
       "      <td>M3A</td>\n",
       "      <td>North York</td>\n",
       "      <td>Parkwoods</td>\n",
       "    </tr>\n",
       "    <tr>\n",
       "      <th>1</th>\n",
       "      <td>M4A</td>\n",
       "      <td>North York</td>\n",
       "      <td>Victoria Village</td>\n",
       "    </tr>\n",
       "    <tr>\n",
       "      <th>2</th>\n",
       "      <td>M5A</td>\n",
       "      <td>Downtown Toronto</td>\n",
       "      <td>Regent Park , Harbourfront</td>\n",
       "    </tr>\n",
       "    <tr>\n",
       "      <th>3</th>\n",
       "      <td>M6A</td>\n",
       "      <td>North York</td>\n",
       "      <td>Lawrence Manor , Lawrence Heights</td>\n",
       "    </tr>\n",
       "    <tr>\n",
       "      <th>4</th>\n",
       "      <td>M7A</td>\n",
       "      <td>Downtown Toronto</td>\n",
       "      <td>Queen's Park , Ontario Provincial Government</td>\n",
       "    </tr>\n",
       "    <tr>\n",
       "      <th>...</th>\n",
       "      <td>...</td>\n",
       "      <td>...</td>\n",
       "      <td>...</td>\n",
       "    </tr>\n",
       "    <tr>\n",
       "      <th>98</th>\n",
       "      <td>M8X</td>\n",
       "      <td>Etobicoke</td>\n",
       "      <td>The Kingsway , Montgomery Road , Old Mill North</td>\n",
       "    </tr>\n",
       "    <tr>\n",
       "      <th>99</th>\n",
       "      <td>M4Y</td>\n",
       "      <td>Downtown Toronto</td>\n",
       "      <td>Church and Wellesley</td>\n",
       "    </tr>\n",
       "    <tr>\n",
       "      <th>100</th>\n",
       "      <td>M7Y</td>\n",
       "      <td>East Toronto</td>\n",
       "      <td>Business reply mail Processing CentrE</td>\n",
       "    </tr>\n",
       "    <tr>\n",
       "      <th>101</th>\n",
       "      <td>M8Y</td>\n",
       "      <td>Etobicoke</td>\n",
       "      <td>Old Mill South , King's Mill Park , Sunnylea ,...</td>\n",
       "    </tr>\n",
       "    <tr>\n",
       "      <th>102</th>\n",
       "      <td>M8Z</td>\n",
       "      <td>Etobicoke</td>\n",
       "      <td>Mimico NW , The Queensway West , South of Bloo...</td>\n",
       "    </tr>\n",
       "  </tbody>\n",
       "</table>\n",
       "<p>103 rows × 3 columns</p>\n",
       "</div>"
      ],
      "text/plain": [
       "    Postal code           Borough  \\\n",
       "0           M3A        North York   \n",
       "1           M4A        North York   \n",
       "2           M5A  Downtown Toronto   \n",
       "3           M6A        North York   \n",
       "4           M7A  Downtown Toronto   \n",
       "..          ...               ...   \n",
       "98          M8X         Etobicoke   \n",
       "99          M4Y  Downtown Toronto   \n",
       "100         M7Y      East Toronto   \n",
       "101         M8Y         Etobicoke   \n",
       "102         M8Z         Etobicoke   \n",
       "\n",
       "                                          Neighborhood  \n",
       "0                                            Parkwoods  \n",
       "1                                     Victoria Village  \n",
       "2                           Regent Park , Harbourfront  \n",
       "3                    Lawrence Manor , Lawrence Heights  \n",
       "4         Queen's Park , Ontario Provincial Government  \n",
       "..                                                 ...  \n",
       "98     The Kingsway , Montgomery Road , Old Mill North  \n",
       "99                                Church and Wellesley  \n",
       "100              Business reply mail Processing CentrE  \n",
       "101  Old Mill South , King's Mill Park , Sunnylea ,...  \n",
       "102  Mimico NW , The Queensway West , South of Bloo...  \n",
       "\n",
       "[103 rows x 3 columns]"
      ]
     },
     "execution_count": 7,
     "metadata": {},
     "output_type": "execute_result"
    }
   ],
   "source": [
    "data_process[\"Neighborhood\"].replace(r\"/\", \",\", regex=True, inplace=True)\n",
    "data_process"
   ]
  },
  {
   "cell_type": "markdown",
   "metadata": {},
   "source": [
    "**Printing the shape of data_process dataframe**"
   ]
  },
  {
   "cell_type": "code",
   "execution_count": 8,
   "metadata": {},
   "outputs": [
    {
     "name": "stdout",
     "output_type": "stream",
     "text": [
      "Shape of data_process is: (103, 3)\n"
     ]
    }
   ],
   "source": [
    "print(\"Shape of data_process is: {}\".format(data_process.shape))"
   ]
  },
  {
   "cell_type": "markdown",
   "metadata": {},
   "source": [
    "**Now, save the result in csv to later use:**"
   ]
  },
  {
   "cell_type": "code",
   "execution_count": 9,
   "metadata": {},
   "outputs": [],
   "source": [
    "data_process.to_csv(\"Wikipedia_Scrapping.csv\")"
   ]
  },
  {
   "cell_type": "markdown",
   "metadata": {},
   "source": [
    "## Solution of Problem 2:\n",
    "\n",
    "- In this part, we have used latitude and longitude CSV file which is provided by the instrunctor"
   ]
  },
  {
   "cell_type": "code",
   "execution_count": 10,
   "metadata": {},
   "outputs": [],
   "source": [
    "#importing lat,longitude to collect latitude & longitude data\n",
    "#provided by the instrunctor: https://cocl.us/Geospatial_data\n",
    "lat = pd.read_csv(\"https://cocl.us/Geospatial_data\")"
   ]
  },
  {
   "cell_type": "code",
   "execution_count": 11,
   "metadata": {},
   "outputs": [],
   "source": [
    "result = [list(lat.loc[lambda lat: lat[\"Postal Code\"] == x][[\"Latitude\", \"Longitude\"]].values[0]) \\\n",
    "          for x in data_process[\"Postal code\"].values]"
   ]
  },
  {
   "cell_type": "code",
   "execution_count": 12,
   "metadata": {},
   "outputs": [],
   "source": [
    "data_with_location = pd.concat([data_process, pd.DataFrame(columns=[\"Latitude\", \"Longitude\"], data=result)], axis=1)"
   ]
  },
  {
   "cell_type": "code",
   "execution_count": 13,
   "metadata": {},
   "outputs": [
    {
     "data": {
      "text/html": [
       "<div>\n",
       "<style scoped>\n",
       "    .dataframe tbody tr th:only-of-type {\n",
       "        vertical-align: middle;\n",
       "    }\n",
       "\n",
       "    .dataframe tbody tr th {\n",
       "        vertical-align: top;\n",
       "    }\n",
       "\n",
       "    .dataframe thead th {\n",
       "        text-align: right;\n",
       "    }\n",
       "</style>\n",
       "<table border=\"1\" class=\"dataframe\">\n",
       "  <thead>\n",
       "    <tr style=\"text-align: right;\">\n",
       "      <th></th>\n",
       "      <th>Postal code</th>\n",
       "      <th>Borough</th>\n",
       "      <th>Neighborhood</th>\n",
       "      <th>Latitude</th>\n",
       "      <th>Longitude</th>\n",
       "    </tr>\n",
       "  </thead>\n",
       "  <tbody>\n",
       "    <tr>\n",
       "      <th>0</th>\n",
       "      <td>M3A</td>\n",
       "      <td>North York</td>\n",
       "      <td>Parkwoods</td>\n",
       "      <td>43.753259</td>\n",
       "      <td>-79.329656</td>\n",
       "    </tr>\n",
       "    <tr>\n",
       "      <th>1</th>\n",
       "      <td>M4A</td>\n",
       "      <td>North York</td>\n",
       "      <td>Victoria Village</td>\n",
       "      <td>43.725882</td>\n",
       "      <td>-79.315572</td>\n",
       "    </tr>\n",
       "    <tr>\n",
       "      <th>2</th>\n",
       "      <td>M5A</td>\n",
       "      <td>Downtown Toronto</td>\n",
       "      <td>Regent Park , Harbourfront</td>\n",
       "      <td>43.654260</td>\n",
       "      <td>-79.360636</td>\n",
       "    </tr>\n",
       "    <tr>\n",
       "      <th>3</th>\n",
       "      <td>M6A</td>\n",
       "      <td>North York</td>\n",
       "      <td>Lawrence Manor , Lawrence Heights</td>\n",
       "      <td>43.718518</td>\n",
       "      <td>-79.464763</td>\n",
       "    </tr>\n",
       "    <tr>\n",
       "      <th>4</th>\n",
       "      <td>M7A</td>\n",
       "      <td>Downtown Toronto</td>\n",
       "      <td>Queen's Park , Ontario Provincial Government</td>\n",
       "      <td>43.662301</td>\n",
       "      <td>-79.389494</td>\n",
       "    </tr>\n",
       "  </tbody>\n",
       "</table>\n",
       "</div>"
      ],
      "text/plain": [
       "  Postal code           Borough                                  Neighborhood  \\\n",
       "0         M3A        North York                                     Parkwoods   \n",
       "1         M4A        North York                              Victoria Village   \n",
       "2         M5A  Downtown Toronto                    Regent Park , Harbourfront   \n",
       "3         M6A        North York             Lawrence Manor , Lawrence Heights   \n",
       "4         M7A  Downtown Toronto  Queen's Park , Ontario Provincial Government   \n",
       "\n",
       "    Latitude  Longitude  \n",
       "0  43.753259 -79.329656  \n",
       "1  43.725882 -79.315572  \n",
       "2  43.654260 -79.360636  \n",
       "3  43.718518 -79.464763  \n",
       "4  43.662301 -79.389494  "
      ]
     },
     "execution_count": 13,
     "metadata": {},
     "output_type": "execute_result"
    }
   ],
   "source": [
    "data_with_location.head()"
   ]
  },
  {
   "cell_type": "markdown",
   "metadata": {},
   "source": [
    "## Solution of Problem 3"
   ]
  },
  {
   "cell_type": "code",
   "execution_count": 14,
   "metadata": {},
   "outputs": [
    {
     "name": "stdout",
     "output_type": "stream",
     "text": [
      "Address String is: Downtown, Toronto \n",
      "latitude: 43.654599 \n",
      "Longitude: -79.386306\n"
     ]
    }
   ],
   "source": [
    "#importing required libraries:\n",
    "import folium\n",
    "\n",
    "#To focus on Map first, we will choose a location randomly in Toronto\n",
    "address_string = \"Downtown, Toronto\"\n",
    "lat = 43.654599\n",
    "long = -79.386306\n",
    "\n",
    "#Printing the location, and address we have picked\n",
    "print(\"Address String is: {} \\nlatitude: {} \\nLongitude: {}\".format(address_string, lat, long))"
   ]
  },
  {
   "cell_type": "code",
   "execution_count": 15,
   "metadata": {},
   "outputs": [
    {
     "name": "stdout",
     "output_type": "stream",
     "text": [
      "Processing the Map!\n"
     ]
    },
    {
     "data": {
      "text/html": [
       "<div style=\"width:100%;\"><div style=\"position:relative;width:100%;height:0;padding-bottom:60%;\"><iframe src=\"about:blank\" style=\"position:absolute;width:100%;height:100%;left:0;top:0;border:none !important;\" data-html=PCFET0NUWVBFIGh0bWw+CjxoZWFkPiAgICAKICAgIDxtZXRhIGh0dHAtZXF1aXY9ImNvbnRlbnQtdHlwZSIgY29udGVudD0idGV4dC9odG1sOyBjaGFyc2V0PVVURi04IiAvPgogICAgCiAgICAgICAgPHNjcmlwdD4KICAgICAgICAgICAgTF9OT19UT1VDSCA9IGZhbHNlOwogICAgICAgICAgICBMX0RJU0FCTEVfM0QgPSBmYWxzZTsKICAgICAgICA8L3NjcmlwdD4KICAgIAogICAgPHNjcmlwdCBzcmM9Imh0dHBzOi8vY2RuLmpzZGVsaXZyLm5ldC9ucG0vbGVhZmxldEAxLjUuMS9kaXN0L2xlYWZsZXQuanMiPjwvc2NyaXB0PgogICAgPHNjcmlwdCBzcmM9Imh0dHBzOi8vY29kZS5qcXVlcnkuY29tL2pxdWVyeS0xLjEyLjQubWluLmpzIj48L3NjcmlwdD4KICAgIDxzY3JpcHQgc3JjPSJodHRwczovL21heGNkbi5ib290c3RyYXBjZG4uY29tL2Jvb3RzdHJhcC8zLjIuMC9qcy9ib290c3RyYXAubWluLmpzIj48L3NjcmlwdD4KICAgIDxzY3JpcHQgc3JjPSJodHRwczovL2NkbmpzLmNsb3VkZmxhcmUuY29tL2FqYXgvbGlicy9MZWFmbGV0LmF3ZXNvbWUtbWFya2Vycy8yLjAuMi9sZWFmbGV0LmF3ZXNvbWUtbWFya2Vycy5qcyI+PC9zY3JpcHQ+CiAgICA8bGluayByZWw9InN0eWxlc2hlZXQiIGhyZWY9Imh0dHBzOi8vY2RuLmpzZGVsaXZyLm5ldC9ucG0vbGVhZmxldEAxLjUuMS9kaXN0L2xlYWZsZXQuY3NzIi8+CiAgICA8bGluayByZWw9InN0eWxlc2hlZXQiIGhyZWY9Imh0dHBzOi8vbWF4Y2RuLmJvb3RzdHJhcGNkbi5jb20vYm9vdHN0cmFwLzMuMi4wL2Nzcy9ib290c3RyYXAubWluLmNzcyIvPgogICAgPGxpbmsgcmVsPSJzdHlsZXNoZWV0IiBocmVmPSJodHRwczovL21heGNkbi5ib290c3RyYXBjZG4uY29tL2Jvb3RzdHJhcC8zLjIuMC9jc3MvYm9vdHN0cmFwLXRoZW1lLm1pbi5jc3MiLz4KICAgIDxsaW5rIHJlbD0ic3R5bGVzaGVldCIgaHJlZj0iaHR0cHM6Ly9tYXhjZG4uYm9vdHN0cmFwY2RuLmNvbS9mb250LWF3ZXNvbWUvNC42LjMvY3NzL2ZvbnQtYXdlc29tZS5taW4uY3NzIi8+CiAgICA8bGluayByZWw9InN0eWxlc2hlZXQiIGhyZWY9Imh0dHBzOi8vY2RuanMuY2xvdWRmbGFyZS5jb20vYWpheC9saWJzL0xlYWZsZXQuYXdlc29tZS1tYXJrZXJzLzIuMC4yL2xlYWZsZXQuYXdlc29tZS1tYXJrZXJzLmNzcyIvPgogICAgPGxpbmsgcmVsPSJzdHlsZXNoZWV0IiBocmVmPSJodHRwczovL3Jhd2Nkbi5naXRoYWNrLmNvbS9weXRob24tdmlzdWFsaXphdGlvbi9mb2xpdW0vbWFzdGVyL2ZvbGl1bS90ZW1wbGF0ZXMvbGVhZmxldC5hd2Vzb21lLnJvdGF0ZS5jc3MiLz4KICAgIDxzdHlsZT5odG1sLCBib2R5IHt3aWR0aDogMTAwJTtoZWlnaHQ6IDEwMCU7bWFyZ2luOiAwO3BhZGRpbmc6IDA7fTwvc3R5bGU+CiAgICA8c3R5bGU+I21hcCB7cG9zaXRpb246YWJzb2x1dGU7dG9wOjA7Ym90dG9tOjA7cmlnaHQ6MDtsZWZ0OjA7fTwvc3R5bGU+CiAgICAKICAgICAgICAgICAgPG1ldGEgbmFtZT0idmlld3BvcnQiIGNvbnRlbnQ9IndpZHRoPWRldmljZS13aWR0aCwKICAgICAgICAgICAgICAgIGluaXRpYWwtc2NhbGU9MS4wLCBtYXhpbXVtLXNjYWxlPTEuMCwgdXNlci1zY2FsYWJsZT1ubyIgLz4KICAgICAgICAgICAgPHN0eWxlPgogICAgICAgICAgICAgICAgI21hcF9hZDRkNjhjYmJiZWI0YzQyOGEzYmNmMDYyYWQ3MTYxNCB7CiAgICAgICAgICAgICAgICAgICAgcG9zaXRpb246IHJlbGF0aXZlOwogICAgICAgICAgICAgICAgICAgIHdpZHRoOiAxMDAuMCU7CiAgICAgICAgICAgICAgICAgICAgaGVpZ2h0OiAxMDAuMCU7CiAgICAgICAgICAgICAgICAgICAgbGVmdDogMC4wJTsKICAgICAgICAgICAgICAgICAgICB0b3A6IDAuMCU7CiAgICAgICAgICAgICAgICB9CiAgICAgICAgICAgIDwvc3R5bGU+CiAgICAgICAgCjwvaGVhZD4KPGJvZHk+ICAgIAogICAgCiAgICAgICAgICAgIDxkaXYgY2xhc3M9ImZvbGl1bS1tYXAiIGlkPSJtYXBfYWQ0ZDY4Y2JiYmViNGM0MjhhM2JjZjA2MmFkNzE2MTQiID48L2Rpdj4KICAgICAgICAKPC9ib2R5Pgo8c2NyaXB0PiAgICAKICAgIAogICAgICAgICAgICB2YXIgbWFwX2FkNGQ2OGNiYmJlYjRjNDI4YTNiY2YwNjJhZDcxNjE0ID0gTC5tYXAoCiAgICAgICAgICAgICAgICAibWFwX2FkNGQ2OGNiYmJlYjRjNDI4YTNiY2YwNjJhZDcxNjE0IiwKICAgICAgICAgICAgICAgIHsKICAgICAgICAgICAgICAgICAgICBjZW50ZXI6IFs0My42NTQ1OTksIC03OS4zODYzMDZdLAogICAgICAgICAgICAgICAgICAgIGNyczogTC5DUlMuRVBTRzM4NTcsCiAgICAgICAgICAgICAgICAgICAgem9vbTogMTEsCiAgICAgICAgICAgICAgICAgICAgem9vbUNvbnRyb2w6IHRydWUsCiAgICAgICAgICAgICAgICAgICAgcHJlZmVyQ2FudmFzOiBmYWxzZSwKICAgICAgICAgICAgICAgIH0KICAgICAgICAgICAgKTsKCiAgICAgICAgICAgIAoKICAgICAgICAKICAgIAogICAgICAgICAgICB2YXIgdGlsZV9sYXllcl81Yjg5NWY1NGI4MWM0ZjI1YjQwZTZhYjljMjc2YjRhZCA9IEwudGlsZUxheWVyKAogICAgICAgICAgICAgICAgImh0dHBzOi8ve3N9LnRpbGUub3BlbnN0cmVldG1hcC5vcmcve3p9L3t4fS97eX0ucG5nIiwKICAgICAgICAgICAgICAgIHsiYXR0cmlidXRpb24iOiAiRGF0YSBieSBcdTAwMjZjb3B5OyBcdTAwM2NhIGhyZWY9XCJodHRwOi8vb3BlbnN0cmVldG1hcC5vcmdcIlx1MDAzZU9wZW5TdHJlZXRNYXBcdTAwM2MvYVx1MDAzZSwgdW5kZXIgXHUwMDNjYSBocmVmPVwiaHR0cDovL3d3dy5vcGVuc3RyZWV0bWFwLm9yZy9jb3B5cmlnaHRcIlx1MDAzZU9EYkxcdTAwM2MvYVx1MDAzZS4iLCAiZGV0ZWN0UmV0aW5hIjogZmFsc2UsICJtYXhOYXRpdmVab29tIjogMTgsICJtYXhab29tIjogMTgsICJtaW5ab29tIjogMCwgIm5vV3JhcCI6IGZhbHNlLCAib3BhY2l0eSI6IDEsICJzdWJkb21haW5zIjogImFiYyIsICJ0bXMiOiBmYWxzZX0KICAgICAgICAgICAgKS5hZGRUbyhtYXBfYWQ0ZDY4Y2JiYmViNGM0MjhhM2JjZjA2MmFkNzE2MTQpOwogICAgICAgIAogICAgCiAgICAgICAgICAgIHZhciBtYXJrZXJfMmY4ZWE5OTM2Njg2NGMwMWFlMTI4ZWZmMDU1ODNhNTcgPSBMLm1hcmtlcigKICAgICAgICAgICAgICAgIFs0My43NTMyNTg2LCAtNzkuMzI5NjU2NV0sCiAgICAgICAgICAgICAgICB7fQogICAgICAgICAgICApLmFkZFRvKG1hcF9hZDRkNjhjYmJiZWI0YzQyOGEzYmNmMDYyYWQ3MTYxNCk7CiAgICAgICAgCiAgICAKICAgICAgICB2YXIgcG9wdXBfNjI5NjU5YTYzYTA4NDcyN2E2ZDY1OTQ2MDIwMTcwOTcgPSBMLnBvcHVwKHsibWF4V2lkdGgiOiAiMTAwJSJ9KTsKCiAgICAgICAgCiAgICAgICAgICAgIHZhciBodG1sXzM2ZWY3YWQ3ZmUwNDRiYzM5YWU4NDkwOTgwOWVjMzUxID0gJChgPGRpdiBpZD0iaHRtbF8zNmVmN2FkN2ZlMDQ0YmMzOWFlODQ5MDk4MDllYzM1MSIgc3R5bGU9IndpZHRoOiAxMDAuMCU7IGhlaWdodDogMTAwLjAlOyI+UGFya3dvb2RzPC9kaXY+YClbMF07CiAgICAgICAgICAgIHBvcHVwXzYyOTY1OWE2M2EwODQ3MjdhNmQ2NTk0NjAyMDE3MDk3LnNldENvbnRlbnQoaHRtbF8zNmVmN2FkN2ZlMDQ0YmMzOWFlODQ5MDk4MDllYzM1MSk7CiAgICAgICAgCgogICAgICAgIG1hcmtlcl8yZjhlYTk5MzY2ODY0YzAxYWUxMjhlZmYwNTU4M2E1Ny5iaW5kUG9wdXAocG9wdXBfNjI5NjU5YTYzYTA4NDcyN2E2ZDY1OTQ2MDIwMTcwOTcpCiAgICAgICAgOwoKICAgICAgICAKICAgIAogICAgCiAgICAgICAgICAgIHZhciBtYXJrZXJfNGRmNzE3NzMzN2Q4NDcwMDgzMTE3YWVmMTE5Mjc0NjggPSBMLm1hcmtlcigKICAgICAgICAgICAgICAgIFs0My43MjU4ODIyOTk5OTk5OTUsIC03OS4zMTU1NzE1OTk5OTk5OF0sCiAgICAgICAgICAgICAgICB7fQogICAgICAgICAgICApLmFkZFRvKG1hcF9hZDRkNjhjYmJiZWI0YzQyOGEzYmNmMDYyYWQ3MTYxNCk7CiAgICAgICAgCiAgICAKICAgICAgICB2YXIgcG9wdXBfNWNhYmQwNjM2MWU4NDIyZjkwNWEzNjM4MzU3NzM2M2IgPSBMLnBvcHVwKHsibWF4V2lkdGgiOiAiMTAwJSJ9KTsKCiAgICAgICAgCiAgICAgICAgICAgIHZhciBodG1sXzgxOGM3OWEyYjcyMzQxOWVhYmNjZDQ5NTNjMDY2ZWVmID0gJChgPGRpdiBpZD0iaHRtbF84MThjNzlhMmI3MjM0MTllYWJjY2Q0OTUzYzA2NmVlZiIgc3R5bGU9IndpZHRoOiAxMDAuMCU7IGhlaWdodDogMTAwLjAlOyI+VmljdG9yaWEgVmlsbGFnZTwvZGl2PmApWzBdOwogICAgICAgICAgICBwb3B1cF81Y2FiZDA2MzYxZTg0MjJmOTA1YTM2MzgzNTc3MzYzYi5zZXRDb250ZW50KGh0bWxfODE4Yzc5YTJiNzIzNDE5ZWFiY2NkNDk1M2MwNjZlZWYpOwogICAgICAgIAoKICAgICAgICBtYXJrZXJfNGRmNzE3NzMzN2Q4NDcwMDgzMTE3YWVmMTE5Mjc0NjguYmluZFBvcHVwKHBvcHVwXzVjYWJkMDYzNjFlODQyMmY5MDVhMzYzODM1NzczNjNiKQogICAgICAgIDsKCiAgICAgICAgCiAgICAKICAgIAogICAgICAgICAgICB2YXIgbWFya2VyXzdiZWJmZmYxZTA2MTQyOTBiZDhiZmY0OGE3OTk1OTQ1ID0gTC5tYXJrZXIoCiAgICAgICAgICAgICAgICBbNDMuNjU0MjU5OSwgLTc5LjM2MDYzNTldLAogICAgICAgICAgICAgICAge30KICAgICAgICAgICAgKS5hZGRUbyhtYXBfYWQ0ZDY4Y2JiYmViNGM0MjhhM2JjZjA2MmFkNzE2MTQpOwogICAgICAgIAogICAgCiAgICAgICAgdmFyIHBvcHVwX2QyNzM2N2ExODY2MjQwMGJhYjFmMzIwMjY2OTI2MmVhID0gTC5wb3B1cCh7Im1heFdpZHRoIjogIjEwMCUifSk7CgogICAgICAgIAogICAgICAgICAgICB2YXIgaHRtbF9jNGNjYzZlYzJkMzY0MmYxOGVkY2QzMjEzNjg4ZGU3ZiA9ICQoYDxkaXYgaWQ9Imh0bWxfYzRjY2M2ZWMyZDM2NDJmMThlZGNkMzIxMzY4OGRlN2YiIHN0eWxlPSJ3aWR0aDogMTAwLjAlOyBoZWlnaHQ6IDEwMC4wJTsiPlJlZ2VudCBQYXJrICwgSGFyYm91cmZyb250PC9kaXY+YClbMF07CiAgICAgICAgICAgIHBvcHVwX2QyNzM2N2ExODY2MjQwMGJhYjFmMzIwMjY2OTI2MmVhLnNldENvbnRlbnQoaHRtbF9jNGNjYzZlYzJkMzY0MmYxOGVkY2QzMjEzNjg4ZGU3Zik7CiAgICAgICAgCgogICAgICAgIG1hcmtlcl83YmViZmZmMWUwNjE0MjkwYmQ4YmZmNDhhNzk5NTk0NS5iaW5kUG9wdXAocG9wdXBfZDI3MzY3YTE4NjYyNDAwYmFiMWYzMjAyNjY5MjYyZWEpCiAgICAgICAgOwoKICAgICAgICAKICAgIAogICAgCiAgICAgICAgICAgIHZhciBtYXJrZXJfY2I3YjUxY2UzN2JkNDNmNDhkZWM2MzFiODViM2E4YmQgPSBMLm1hcmtlcigKICAgICAgICAgICAgICAgIFs0My43MTg1MTc5OTk5OTk5OTYsIC03OS40NjQ3NjMyOTk5OTk5OV0sCiAgICAgICAgICAgICAgICB7fQogICAgICAgICAgICApLmFkZFRvKG1hcF9hZDRkNjhjYmJiZWI0YzQyOGEzYmNmMDYyYWQ3MTYxNCk7CiAgICAgICAgCiAgICAKICAgICAgICB2YXIgcG9wdXBfODRjNGNlYzAzMTA1NGZjYWE5N2Y0MDIxNTEyMjVhNGUgPSBMLnBvcHVwKHsibWF4V2lkdGgiOiAiMTAwJSJ9KTsKCiAgICAgICAgCiAgICAgICAgICAgIHZhciBodG1sX2FkYTExMzUzOGU5ZDQ3YTVhZDM0YmM4YzIwZjA2ZjNkID0gJChgPGRpdiBpZD0iaHRtbF9hZGExMTM1MzhlOWQ0N2E1YWQzNGJjOGMyMGYwNmYzZCIgc3R5bGU9IndpZHRoOiAxMDAuMCU7IGhlaWdodDogMTAwLjAlOyI+TGF3cmVuY2UgTWFub3IgLCBMYXdyZW5jZSBIZWlnaHRzPC9kaXY+YClbMF07CiAgICAgICAgICAgIHBvcHVwXzg0YzRjZWMwMzEwNTRmY2FhOTdmNDAyMTUxMjI1YTRlLnNldENvbnRlbnQoaHRtbF9hZGExMTM1MzhlOWQ0N2E1YWQzNGJjOGMyMGYwNmYzZCk7CiAgICAgICAgCgogICAgICAgIG1hcmtlcl9jYjdiNTFjZTM3YmQ0M2Y0OGRlYzYzMWI4NWIzYThiZC5iaW5kUG9wdXAocG9wdXBfODRjNGNlYzAzMTA1NGZjYWE5N2Y0MDIxNTEyMjVhNGUpCiAgICAgICAgOwoKICAgICAgICAKICAgIAogICAgCiAgICAgICAgICAgIHZhciBtYXJrZXJfOGZiMmIwYWMwYWRjNGRjOTg5YmY3NDA0YzM3MzkxYzAgPSBMLm1hcmtlcigKICAgICAgICAgICAgICAgIFs0My42NjIzMDE1LCAtNzkuMzg5NDkzOF0sCiAgICAgICAgICAgICAgICB7fQogICAgICAgICAgICApLmFkZFRvKG1hcF9hZDRkNjhjYmJiZWI0YzQyOGEzYmNmMDYyYWQ3MTYxNCk7CiAgICAgICAgCiAgICAKICAgICAgICB2YXIgcG9wdXBfYWU2YWU0YWM2YzBjNDJiZjhiMmZkN2QyNmY3MmJhOTAgPSBMLnBvcHVwKHsibWF4V2lkdGgiOiAiMTAwJSJ9KTsKCiAgICAgICAgCiAgICAgICAgICAgIHZhciBodG1sXzM2MjNiM2FjOGQzZjQ1MGY5OWY4ZDFhODRmNmM0ZDgxID0gJChgPGRpdiBpZD0iaHRtbF8zNjIzYjNhYzhkM2Y0NTBmOTlmOGQxYTg0ZjZjNGQ4MSIgc3R5bGU9IndpZHRoOiAxMDAuMCU7IGhlaWdodDogMTAwLjAlOyI+UXVlZW4ncyBQYXJrICwgT250YXJpbyBQcm92aW5jaWFsIEdvdmVybm1lbnQ8L2Rpdj5gKVswXTsKICAgICAgICAgICAgcG9wdXBfYWU2YWU0YWM2YzBjNDJiZjhiMmZkN2QyNmY3MmJhOTAuc2V0Q29udGVudChodG1sXzM2MjNiM2FjOGQzZjQ1MGY5OWY4ZDFhODRmNmM0ZDgxKTsKICAgICAgICAKCiAgICAgICAgbWFya2VyXzhmYjJiMGFjMGFkYzRkYzk4OWJmNzQwNGMzNzM5MWMwLmJpbmRQb3B1cChwb3B1cF9hZTZhZTRhYzZjMGM0MmJmOGIyZmQ3ZDI2ZjcyYmE5MCkKICAgICAgICA7CgogICAgICAgIAogICAgCiAgICAKICAgICAgICAgICAgdmFyIG1hcmtlcl8zZDE2OGM0NWNhOTA0MzRlYjlkNWM5YjM3NWI1NGM2OCA9IEwubWFya2VyKAogICAgICAgICAgICAgICAgWzQzLjY2Nzg1NTYsIC03OS41MzIyNDI0MDAwMDAwMl0sCiAgICAgICAgICAgICAgICB7fQogICAgICAgICAgICApLmFkZFRvKG1hcF9hZDRkNjhjYmJiZWI0YzQyOGEzYmNmMDYyYWQ3MTYxNCk7CiAgICAgICAgCiAgICAKICAgICAgICB2YXIgcG9wdXBfZDY1MDBmMmFmZGFjNDQ4M2I2MmJkMmIyM2Y3MGQ0YjQgPSBMLnBvcHVwKHsibWF4V2lkdGgiOiAiMTAwJSJ9KTsKCiAgICAgICAgCiAgICAgICAgICAgIHZhciBodG1sXzIwZGM3ZjZiZDg5ZjRmYmZhZjQxZjhkMjAzMWIxNzY1ID0gJChgPGRpdiBpZD0iaHRtbF8yMGRjN2Y2YmQ4OWY0ZmJmYWY0MWY4ZDIwMzFiMTc2NSIgc3R5bGU9IndpZHRoOiAxMDAuMCU7IGhlaWdodDogMTAwLjAlOyI+SXNsaW5ndG9uIEF2ZW51ZTwvZGl2PmApWzBdOwogICAgICAgICAgICBwb3B1cF9kNjUwMGYyYWZkYWM0NDgzYjYyYmQyYjIzZjcwZDRiNC5zZXRDb250ZW50KGh0bWxfMjBkYzdmNmJkODlmNGZiZmFmNDFmOGQyMDMxYjE3NjUpOwogICAgICAgIAoKICAgICAgICBtYXJrZXJfM2QxNjhjNDVjYTkwNDM0ZWI5ZDVjOWIzNzViNTRjNjguYmluZFBvcHVwKHBvcHVwX2Q2NTAwZjJhZmRhYzQ0ODNiNjJiZDJiMjNmNzBkNGI0KQogICAgICAgIDsKCiAgICAgICAgCiAgICAKICAgIAogICAgICAgICAgICB2YXIgbWFya2VyX2IzOGM4YWE2ZWRiNDQxMDc5ZGQ1ZWMyMWVmZTYyZmE5ID0gTC5tYXJrZXIoCiAgICAgICAgICAgICAgICBbNDMuODA2Njg2Mjk5OTk5OTk2LCAtNzkuMTk0MzUzNDAwMDAwMDFdLAogICAgICAgICAgICAgICAge30KICAgICAgICAgICAgKS5hZGRUbyhtYXBfYWQ0ZDY4Y2JiYmViNGM0MjhhM2JjZjA2MmFkNzE2MTQpOwogICAgICAgIAogICAgCiAgICAgICAgdmFyIHBvcHVwXzgxODY4YTExNGE1MzQ5Mjc5YmUyZGExMzljMDljNjA4ID0gTC5wb3B1cCh7Im1heFdpZHRoIjogIjEwMCUifSk7CgogICAgICAgIAogICAgICAgICAgICB2YXIgaHRtbF80MTljNWIyOTUyOTg0NDhjYjQ4NzU3OTdhNDFjNWNkYyA9ICQoYDxkaXYgaWQ9Imh0bWxfNDE5YzViMjk1Mjk4NDQ4Y2I0ODc1Nzk3YTQxYzVjZGMiIHN0eWxlPSJ3aWR0aDogMTAwLjAlOyBoZWlnaHQ6IDEwMC4wJTsiPk1hbHZlcm4gLCBSb3VnZTwvZGl2PmApWzBdOwogICAgICAgICAgICBwb3B1cF84MTg2OGExMTRhNTM0OTI3OWJlMmRhMTM5YzA5YzYwOC5zZXRDb250ZW50KGh0bWxfNDE5YzViMjk1Mjk4NDQ4Y2I0ODc1Nzk3YTQxYzVjZGMpOwogICAgICAgIAoKICAgICAgICBtYXJrZXJfYjM4YzhhYTZlZGI0NDEwNzlkZDVlYzIxZWZlNjJmYTkuYmluZFBvcHVwKHBvcHVwXzgxODY4YTExNGE1MzQ5Mjc5YmUyZGExMzljMDljNjA4KQogICAgICAgIDsKCiAgICAgICAgCiAgICAKICAgIAogICAgICAgICAgICB2YXIgbWFya2VyXzMyOGQ3YjJmYzc5NjRkMTJhYTcwOGUwM2NlYTkzNjAwID0gTC5tYXJrZXIoCiAgICAgICAgICAgICAgICBbNDMuNzQ1OTA1Nzk5OTk5OTk2LCAtNzkuMzUyMTg4XSwKICAgICAgICAgICAgICAgIHt9CiAgICAgICAgICAgICkuYWRkVG8obWFwX2FkNGQ2OGNiYmJlYjRjNDI4YTNiY2YwNjJhZDcxNjE0KTsKICAgICAgICAKICAgIAogICAgICAgIHZhciBwb3B1cF8xNjY4ZWY0MzA5ZWU0OThhYmM2NzQzMWIzYzNhNjc2ZSA9IEwucG9wdXAoeyJtYXhXaWR0aCI6ICIxMDAlIn0pOwoKICAgICAgICAKICAgICAgICAgICAgdmFyIGh0bWxfODI3YmE4NTA2ODA3NDYwZDg5M2QzZGY2YTRhYTY5ZjQgPSAkKGA8ZGl2IGlkPSJodG1sXzgyN2JhODUwNjgwNzQ2MGQ4OTNkM2RmNmE0YWE2OWY0IiBzdHlsZT0id2lkdGg6IDEwMC4wJTsgaGVpZ2h0OiAxMDAuMCU7Ij5Eb24gTWlsbHM8L2Rpdj5gKVswXTsKICAgICAgICAgICAgcG9wdXBfMTY2OGVmNDMwOWVlNDk4YWJjNjc0MzFiM2MzYTY3NmUuc2V0Q29udGVudChodG1sXzgyN2JhODUwNjgwNzQ2MGQ4OTNkM2RmNmE0YWE2OWY0KTsKICAgICAgICAKCiAgICAgICAgbWFya2VyXzMyOGQ3YjJmYzc5NjRkMTJhYTcwOGUwM2NlYTkzNjAwLmJpbmRQb3B1cChwb3B1cF8xNjY4ZWY0MzA5ZWU0OThhYmM2NzQzMWIzYzNhNjc2ZSkKICAgICAgICA7CgogICAgICAgIAogICAgCiAgICAKICAgICAgICAgICAgdmFyIG1hcmtlcl83NmZlZjNjMDY4ZGQ0N2EyOTFmYjgxN2RkNGVkZWM3NyA9IEwubWFya2VyKAogICAgICAgICAgICAgICAgWzQzLjcwNjM5NzIsIC03OS4zMDk5MzddLAogICAgICAgICAgICAgICAge30KICAgICAgICAgICAgKS5hZGRUbyhtYXBfYWQ0ZDY4Y2JiYmViNGM0MjhhM2JjZjA2MmFkNzE2MTQpOwogICAgICAgIAogICAgCiAgICAgICAgdmFyIHBvcHVwXzk0YmFlNDlhMmVmMTRhOTdiODNmZWIyYWU0NzQzNTA2ID0gTC5wb3B1cCh7Im1heFdpZHRoIjogIjEwMCUifSk7CgogICAgICAgIAogICAgICAgICAgICB2YXIgaHRtbF8yZjJjNThjZTJhNjY0ZWY5YmE1N2ZhZWViM2MyYTc2YiA9ICQoYDxkaXYgaWQ9Imh0bWxfMmYyYzU4Y2UyYTY2NGVmOWJhNTdmYWVlYjNjMmE3NmIiIHN0eWxlPSJ3aWR0aDogMTAwLjAlOyBoZWlnaHQ6IDEwMC4wJTsiPlBhcmt2aWV3IEhpbGwgLCBXb29kYmluZSBHYXJkZW5zPC9kaXY+YClbMF07CiAgICAgICAgICAgIHBvcHVwXzk0YmFlNDlhMmVmMTRhOTdiODNmZWIyYWU0NzQzNTA2LnNldENvbnRlbnQoaHRtbF8yZjJjNThjZTJhNjY0ZWY5YmE1N2ZhZWViM2MyYTc2Yik7CiAgICAgICAgCgogICAgICAgIG1hcmtlcl83NmZlZjNjMDY4ZGQ0N2EyOTFmYjgxN2RkNGVkZWM3Ny5iaW5kUG9wdXAocG9wdXBfOTRiYWU0OWEyZWYxNGE5N2I4M2ZlYjJhZTQ3NDM1MDYpCiAgICAgICAgOwoKICAgICAgICAKICAgIAogICAgCiAgICAgICAgICAgIHZhciBtYXJrZXJfMGFiYTgwYWYxMzI1NDUwOWI0MWRjMjAxYWMyYWEzYjcgPSBMLm1hcmtlcigKICAgICAgICAgICAgICAgIFs0My42NTcxNjE4LCAtNzkuMzc4OTM3MDk5OTk5OTldLAogICAgICAgICAgICAgICAge30KICAgICAgICAgICAgKS5hZGRUbyhtYXBfYWQ0ZDY4Y2JiYmViNGM0MjhhM2JjZjA2MmFkNzE2MTQpOwogICAgICAgIAogICAgCiAgICAgICAgdmFyIHBvcHVwX2MxNDUxZjE3NzFmYjRhNTE4ZDdjOTYxMGQ0YzlhMzNmID0gTC5wb3B1cCh7Im1heFdpZHRoIjogIjEwMCUifSk7CgogICAgICAgIAogICAgICAgICAgICB2YXIgaHRtbF8wMGYzMWYxMTdlNGY0NGMwOTBkYTNmYzk2MThhMWRmZCA9ICQoYDxkaXYgaWQ9Imh0bWxfMDBmMzFmMTE3ZTRmNDRjMDkwZGEzZmM5NjE4YTFkZmQiIHN0eWxlPSJ3aWR0aDogMTAwLjAlOyBoZWlnaHQ6IDEwMC4wJTsiPkdhcmRlbiBEaXN0cmljdCwgUnllcnNvbjwvZGl2PmApWzBdOwogICAgICAgICAgICBwb3B1cF9jMTQ1MWYxNzcxZmI0YTUxOGQ3Yzk2MTBkNGM5YTMzZi5zZXRDb250ZW50KGh0bWxfMDBmMzFmMTE3ZTRmNDRjMDkwZGEzZmM5NjE4YTFkZmQpOwogICAgICAgIAoKICAgICAgICBtYXJrZXJfMGFiYTgwYWYxMzI1NDUwOWI0MWRjMjAxYWMyYWEzYjcuYmluZFBvcHVwKHBvcHVwX2MxNDUxZjE3NzFmYjRhNTE4ZDdjOTYxMGQ0YzlhMzNmKQogICAgICAgIDsKCiAgICAgICAgCiAgICAKICAgIAogICAgICAgICAgICB2YXIgbWFya2VyX2I1NWYzYTlmMjNhNTRjYmJiZGJkMjFjOGVkNTZjODkyID0gTC5tYXJrZXIoCiAgICAgICAgICAgICAgICBbNDMuNzA5NTc3LCAtNzkuNDQ1MDcyNTk5OTk5OTldLAogICAgICAgICAgICAgICAge30KICAgICAgICAgICAgKS5hZGRUbyhtYXBfYWQ0ZDY4Y2JiYmViNGM0MjhhM2JjZjA2MmFkNzE2MTQpOwogICAgICAgIAogICAgCiAgICAgICAgdmFyIHBvcHVwXzM1ZmZiM2UzZGQyYjRkMGNiYjI0ZDE4NzY2MTA4MzAyID0gTC5wb3B1cCh7Im1heFdpZHRoIjogIjEwMCUifSk7CgogICAgICAgIAogICAgICAgICAgICB2YXIgaHRtbF82MjU3MWJlMjEyNjI0NWJhYWFjNjU1OTdmNzYxYTY0MCA9ICQoYDxkaXYgaWQ9Imh0bWxfNjI1NzFiZTIxMjYyNDViYWFhYzY1NTk3Zjc2MWE2NDAiIHN0eWxlPSJ3aWR0aDogMTAwLjAlOyBoZWlnaHQ6IDEwMC4wJTsiPkdsZW5jYWlybjwvZGl2PmApWzBdOwogICAgICAgICAgICBwb3B1cF8zNWZmYjNlM2RkMmI0ZDBjYmIyNGQxODc2NjEwODMwMi5zZXRDb250ZW50KGh0bWxfNjI1NzFiZTIxMjYyNDViYWFhYzY1NTk3Zjc2MWE2NDApOwogICAgICAgIAoKICAgICAgICBtYXJrZXJfYjU1ZjNhOWYyM2E1NGNiYmJkYmQyMWM4ZWQ1NmM4OTIuYmluZFBvcHVwKHBvcHVwXzM1ZmZiM2UzZGQyYjRkMGNiYjI0ZDE4NzY2MTA4MzAyKQogICAgICAgIDsKCiAgICAgICAgCiAgICAKICAgIAogICAgICAgICAgICB2YXIgbWFya2VyXzE0YjAyZmZhYjc0MTQ0OTNiNWRmNTJjMzIwMDRkZWRmID0gTC5tYXJrZXIoCiAgICAgICAgICAgICAgICBbNDMuNjUwOTQzMiwgLTc5LjU1NDcyNDQwMDAwMDAxXSwKICAgICAgICAgICAgICAgIHt9CiAgICAgICAgICAgICkuYWRkVG8obWFwX2FkNGQ2OGNiYmJlYjRjNDI4YTNiY2YwNjJhZDcxNjE0KTsKICAgICAgICAKICAgIAogICAgICAgIHZhciBwb3B1cF9hN2UxZTBiY2JjOTU0YzRhODJjMzU2Njc5ZDY1OGVmYSA9IEwucG9wdXAoeyJtYXhXaWR0aCI6ICIxMDAlIn0pOwoKICAgICAgICAKICAgICAgICAgICAgdmFyIGh0bWxfNjBiMmE2ZWY4YTg0NGM0NWExYjk5ZmVkYjExZDRlNzkgPSAkKGA8ZGl2IGlkPSJodG1sXzYwYjJhNmVmOGE4NDRjNDVhMWI5OWZlZGIxMWQ0ZTc5IiBzdHlsZT0id2lkdGg6IDEwMC4wJTsgaGVpZ2h0OiAxMDAuMCU7Ij5XZXN0IERlYW5lIFBhcmsgLCBQcmluY2VzcyBHYXJkZW5zICwgTWFydGluIEdyb3ZlICwgSXNsaW5ndG9uICwgQ2xvdmVyZGFsZTwvZGl2PmApWzBdOwogICAgICAgICAgICBwb3B1cF9hN2UxZTBiY2JjOTU0YzRhODJjMzU2Njc5ZDY1OGVmYS5zZXRDb250ZW50KGh0bWxfNjBiMmE2ZWY4YTg0NGM0NWExYjk5ZmVkYjExZDRlNzkpOwogICAgICAgIAoKICAgICAgICBtYXJrZXJfMTRiMDJmZmFiNzQxNDQ5M2I1ZGY1MmMzMjAwNGRlZGYuYmluZFBvcHVwKHBvcHVwX2E3ZTFlMGJjYmM5NTRjNGE4MmMzNTY2NzlkNjU4ZWZhKQogICAgICAgIDsKCiAgICAgICAgCiAgICAKICAgIAogICAgICAgICAgICB2YXIgbWFya2VyXzc4MmY3ZTc4NWNjODRhZjQ5NWUzOWE0YmFjZmNlN2NkID0gTC5tYXJrZXIoCiAgICAgICAgICAgICAgICBbNDMuNzg0NTM1MSwgLTc5LjE2MDQ5NzA5OTk5OTk5XSwKICAgICAgICAgICAgICAgIHt9CiAgICAgICAgICAgICkuYWRkVG8obWFwX2FkNGQ2OGNiYmJlYjRjNDI4YTNiY2YwNjJhZDcxNjE0KTsKICAgICAgICAKICAgIAogICAgICAgIHZhciBwb3B1cF81MzhmMWExM2M4OTg0OWM5YTY0NDIwMzFjZjlmNzZmNCA9IEwucG9wdXAoeyJtYXhXaWR0aCI6ICIxMDAlIn0pOwoKICAgICAgICAKICAgICAgICAgICAgdmFyIGh0bWxfODJlM2VmYThhYjE2NDkwOTkyYmI4YTlkOGJjOWFmYmUgPSAkKGA8ZGl2IGlkPSJodG1sXzgyZTNlZmE4YWIxNjQ5MDk5MmJiOGE5ZDhiYzlhZmJlIiBzdHlsZT0id2lkdGg6IDEwMC4wJTsgaGVpZ2h0OiAxMDAuMCU7Ij5Sb3VnZSBIaWxsICwgUG9ydCBVbmlvbiAsIEhpZ2hsYW5kIENyZWVrPC9kaXY+YClbMF07CiAgICAgICAgICAgIHBvcHVwXzUzOGYxYTEzYzg5ODQ5YzlhNjQ0MjAzMWNmOWY3NmY0LnNldENvbnRlbnQoaHRtbF84MmUzZWZhOGFiMTY0OTA5OTJiYjhhOWQ4YmM5YWZiZSk7CiAgICAgICAgCgogICAgICAgIG1hcmtlcl83ODJmN2U3ODVjYzg0YWY0OTVlMzlhNGJhY2ZjZTdjZC5iaW5kUG9wdXAocG9wdXBfNTM4ZjFhMTNjODk4NDljOWE2NDQyMDMxY2Y5Zjc2ZjQpCiAgICAgICAgOwoKICAgICAgICAKICAgIAogICAgCiAgICAgICAgICAgIHZhciBtYXJrZXJfODA3NGQ3YzZjZGRiNGVhMDg3MDc1Mzg4YTk3NjMyMjggPSBMLm1hcmtlcigKICAgICAgICAgICAgICAgIFs0My43MjU4OTk3MDAwMDAwMSwgLTc5LjM0MDkyM10sCiAgICAgICAgICAgICAgICB7fQogICAgICAgICAgICApLmFkZFRvKG1hcF9hZDRkNjhjYmJiZWI0YzQyOGEzYmNmMDYyYWQ3MTYxNCk7CiAgICAgICAgCiAgICAKICAgICAgICB2YXIgcG9wdXBfMWY3Nzc3ODRkMTdhNDUzOGJlMGExMGVhZjVjNGYwZWMgPSBMLnBvcHVwKHsibWF4V2lkdGgiOiAiMTAwJSJ9KTsKCiAgICAgICAgCiAgICAgICAgICAgIHZhciBodG1sXzEzYzNiYjRjMDVmMTRmZDg4MmI4NDdmZjdiY2M0M2NhID0gJChgPGRpdiBpZD0iaHRtbF8xM2MzYmI0YzA1ZjE0ZmQ4ODJiODQ3ZmY3YmNjNDNjYSIgc3R5bGU9IndpZHRoOiAxMDAuMCU7IGhlaWdodDogMTAwLjAlOyI+RG9uIE1pbGxzPC9kaXY+YClbMF07CiAgICAgICAgICAgIHBvcHVwXzFmNzc3Nzg0ZDE3YTQ1MzhiZTBhMTBlYWY1YzRmMGVjLnNldENvbnRlbnQoaHRtbF8xM2MzYmI0YzA1ZjE0ZmQ4ODJiODQ3ZmY3YmNjNDNjYSk7CiAgICAgICAgCgogICAgICAgIG1hcmtlcl84MDc0ZDdjNmNkZGI0ZWEwODcwNzUzODhhOTc2MzIyOC5iaW5kUG9wdXAocG9wdXBfMWY3Nzc3ODRkMTdhNDUzOGJlMGExMGVhZjVjNGYwZWMpCiAgICAgICAgOwoKICAgICAgICAKICAgIAogICAgCiAgICAgICAgICAgIHZhciBtYXJrZXJfZTFkZjlhYmE5OWJmNDA1NGFjMzkwOTNhMDBiOWY1OTkgPSBMLm1hcmtlcigKICAgICAgICAgICAgICAgIFs0My42OTUzNDM5MDAwMDAwMDUsIC03OS4zMTgzODg3XSwKICAgICAgICAgICAgICAgIHt9CiAgICAgICAgICAgICkuYWRkVG8obWFwX2FkNGQ2OGNiYmJlYjRjNDI4YTNiY2YwNjJhZDcxNjE0KTsKICAgICAgICAKICAgIAogICAgICAgIHZhciBwb3B1cF9mNjRlODM0ZTQwOGQ0ZmYwODk4OTc4ZTc4YTc1YmJiYyA9IEwucG9wdXAoeyJtYXhXaWR0aCI6ICIxMDAlIn0pOwoKICAgICAgICAKICAgICAgICAgICAgdmFyIGh0bWxfMGFmZDliOWUyYmYxNGMxMWFkMzdkZWU5Y2ZhYTQyNmMgPSAkKGA8ZGl2IGlkPSJodG1sXzBhZmQ5YjllMmJmMTRjMTFhZDM3ZGVlOWNmYWE0MjZjIiBzdHlsZT0id2lkdGg6IDEwMC4wJTsgaGVpZ2h0OiAxMDAuMCU7Ij5Xb29kYmluZSBIZWlnaHRzPC9kaXY+YClbMF07CiAgICAgICAgICAgIHBvcHVwX2Y2NGU4MzRlNDA4ZDRmZjA4OTg5NzhlNzhhNzViYmJjLnNldENvbnRlbnQoaHRtbF8wYWZkOWI5ZTJiZjE0YzExYWQzN2RlZTljZmFhNDI2Yyk7CiAgICAgICAgCgogICAgICAgIG1hcmtlcl9lMWRmOWFiYTk5YmY0MDU0YWMzOTA5M2EwMGI5ZjU5OS5iaW5kUG9wdXAocG9wdXBfZjY0ZTgzNGU0MDhkNGZmMDg5ODk3OGU3OGE3NWJiYmMpCiAgICAgICAgOwoKICAgICAgICAKICAgIAogICAgCiAgICAgICAgICAgIHZhciBtYXJrZXJfNGU5MjAxYWQyYmZhNGQ4MWJjZTBiN2ViNTI1NjYxNDkgPSBMLm1hcmtlcigKICAgICAgICAgICAgICAgIFs0My42NTE0OTM5LCAtNzkuMzc1NDE3OV0sCiAgICAgICAgICAgICAgICB7fQogICAgICAgICAgICApLmFkZFRvKG1hcF9hZDRkNjhjYmJiZWI0YzQyOGEzYmNmMDYyYWQ3MTYxNCk7CiAgICAgICAgCiAgICAKICAgICAgICB2YXIgcG9wdXBfNGU1MWQ0ZGRiNWM3NGM4N2JmY2ZhNDY3YzhmMGZiZWQgPSBMLnBvcHVwKHsibWF4V2lkdGgiOiAiMTAwJSJ9KTsKCiAgICAgICAgCiAgICAgICAgICAgIHZhciBodG1sXzUzZDRjZDY3NTEzZTQ1MTk5NTgwNDI3NzNiNTU5OGQ5ID0gJChgPGRpdiBpZD0iaHRtbF81M2Q0Y2Q2NzUxM2U0NTE5OTU4MDQyNzczYjU1OThkOSIgc3R5bGU9IndpZHRoOiAxMDAuMCU7IGhlaWdodDogMTAwLjAlOyI+U3QuIEphbWVzIFRvd248L2Rpdj5gKVswXTsKICAgICAgICAgICAgcG9wdXBfNGU1MWQ0ZGRiNWM3NGM4N2JmY2ZhNDY3YzhmMGZiZWQuc2V0Q29udGVudChodG1sXzUzZDRjZDY3NTEzZTQ1MTk5NTgwNDI3NzNiNTU5OGQ5KTsKICAgICAgICAKCiAgICAgICAgbWFya2VyXzRlOTIwMWFkMmJmYTRkODFiY2UwYjdlYjUyNTY2MTQ5LmJpbmRQb3B1cChwb3B1cF80ZTUxZDRkZGI1Yzc0Yzg3YmZjZmE0NjdjOGYwZmJlZCkKICAgICAgICA7CgogICAgICAgIAogICAgCiAgICAKICAgICAgICAgICAgdmFyIG1hcmtlcl9jMzMwOTYyOTViZjg0MTlkOWUwNWNhMGRmNzZmNGViOCA9IEwubWFya2VyKAogICAgICAgICAgICAgICAgWzQzLjY5Mzc4MTMsIC03OS40MjgxOTE0MDAwMDAwMl0sCiAgICAgICAgICAgICAgICB7fQogICAgICAgICAgICApLmFkZFRvKG1hcF9hZDRkNjhjYmJiZWI0YzQyOGEzYmNmMDYyYWQ3MTYxNCk7CiAgICAgICAgCiAgICAKICAgICAgICB2YXIgcG9wdXBfZjZjODdlZTVmNDEyNDQ4YjlmNTdkYzdlZWU1ZjMzMmEgPSBMLnBvcHVwKHsibWF4V2lkdGgiOiAiMTAwJSJ9KTsKCiAgICAgICAgCiAgICAgICAgICAgIHZhciBodG1sX2IxY2NjMmU5ODQ5ZTQ1MGNiNGZjNmZkY2Q4ZTI4NjU2ID0gJChgPGRpdiBpZD0iaHRtbF9iMWNjYzJlOTg0OWU0NTBjYjRmYzZmZGNkOGUyODY1NiIgc3R5bGU9IndpZHRoOiAxMDAuMCU7IGhlaWdodDogMTAwLjAlOyI+SHVtZXdvb2QtQ2VkYXJ2YWxlPC9kaXY+YClbMF07CiAgICAgICAgICAgIHBvcHVwX2Y2Yzg3ZWU1ZjQxMjQ0OGI5ZjU3ZGM3ZWVlNWYzMzJhLnNldENvbnRlbnQoaHRtbF9iMWNjYzJlOTg0OWU0NTBjYjRmYzZmZGNkOGUyODY1Nik7CiAgICAgICAgCgogICAgICAgIG1hcmtlcl9jMzMwOTYyOTViZjg0MTlkOWUwNWNhMGRmNzZmNGViOC5iaW5kUG9wdXAocG9wdXBfZjZjODdlZTVmNDEyNDQ4YjlmNTdkYzdlZWU1ZjMzMmEpCiAgICAgICAgOwoKICAgICAgICAKICAgIAogICAgCiAgICAgICAgICAgIHZhciBtYXJrZXJfMWU4NWU3ZWFhN2RjNDM2NTlmODM3NWM4MTg5ZjY5Y2UgPSBMLm1hcmtlcigKICAgICAgICAgICAgICAgIFs0My42NDM1MTUyLCAtNzkuNTc3MjAwNzk5OTk5OTldLAogICAgICAgICAgICAgICAge30KICAgICAgICAgICAgKS5hZGRUbyhtYXBfYWQ0ZDY4Y2JiYmViNGM0MjhhM2JjZjA2MmFkNzE2MTQpOwogICAgICAgIAogICAgCiAgICAgICAgdmFyIHBvcHVwXzhiYjAyMWMwY2YyYzRjZDViYzU0YjBiMWNhNzQ2Y2Y4ID0gTC5wb3B1cCh7Im1heFdpZHRoIjogIjEwMCUifSk7CgogICAgICAgIAogICAgICAgICAgICB2YXIgaHRtbF8xNWY1YTY2Mzg1OTc0MDM2ODMwMmQ1NTcwNzdhNDI2MyA9ICQoYDxkaXYgaWQ9Imh0bWxfMTVmNWE2NjM4NTk3NDAzNjgzMDJkNTU3MDc3YTQyNjMiIHN0eWxlPSJ3aWR0aDogMTAwLjAlOyBoZWlnaHQ6IDEwMC4wJTsiPkVyaW5nYXRlICwgQmxvb3JkYWxlIEdhcmRlbnMgLCBPbGQgQnVybmhhbXRob3JwZSAsIE1hcmtsYW5kIFdvb2Q8L2Rpdj5gKVswXTsKICAgICAgICAgICAgcG9wdXBfOGJiMDIxYzBjZjJjNGNkNWJjNTRiMGIxY2E3NDZjZjguc2V0Q29udGVudChodG1sXzE1ZjVhNjYzODU5NzQwMzY4MzAyZDU1NzA3N2E0MjYzKTsKICAgICAgICAKCiAgICAgICAgbWFya2VyXzFlODVlN2VhYTdkYzQzNjU5ZjgzNzVjODE4OWY2OWNlLmJpbmRQb3B1cChwb3B1cF84YmIwMjFjMGNmMmM0Y2Q1YmM1NGIwYjFjYTc0NmNmOCkKICAgICAgICA7CgogICAgICAgIAogICAgCiAgICAKICAgICAgICAgICAgdmFyIG1hcmtlcl9lZWI1MGMyNjFmZDU0YjliYmVjYjBlMzk4ZjgwM2MyZCA9IEwubWFya2VyKAogICAgICAgICAgICAgICAgWzQzLjc2MzU3MjYsIC03OS4xODg3MTE1XSwKICAgICAgICAgICAgICAgIHt9CiAgICAgICAgICAgICkuYWRkVG8obWFwX2FkNGQ2OGNiYmJlYjRjNDI4YTNiY2YwNjJhZDcxNjE0KTsKICAgICAgICAKICAgIAogICAgICAgIHZhciBwb3B1cF84NDhkZDNjMWIxNDU0YzhiOTc3MDUwMmZjZjY0Y2Y2NCA9IEwucG9wdXAoeyJtYXhXaWR0aCI6ICIxMDAlIn0pOwoKICAgICAgICAKICAgICAgICAgICAgdmFyIGh0bWxfNmZjZjM1ODIzMDMwNDY4ZDkwY2VkMzJkY2RjOTQxMDMgPSAkKGA8ZGl2IGlkPSJodG1sXzZmY2YzNTgyMzAzMDQ2OGQ5MGNlZDMyZGNkYzk0MTAzIiBzdHlsZT0id2lkdGg6IDEwMC4wJTsgaGVpZ2h0OiAxMDAuMCU7Ij5HdWlsZHdvb2QgLCBNb3JuaW5nc2lkZSAsIFdlc3QgSGlsbDwvZGl2PmApWzBdOwogICAgICAgICAgICBwb3B1cF84NDhkZDNjMWIxNDU0YzhiOTc3MDUwMmZjZjY0Y2Y2NC5zZXRDb250ZW50KGh0bWxfNmZjZjM1ODIzMDMwNDY4ZDkwY2VkMzJkY2RjOTQxMDMpOwogICAgICAgIAoKICAgICAgICBtYXJrZXJfZWViNTBjMjYxZmQ1NGI5YmJlY2IwZTM5OGY4MDNjMmQuYmluZFBvcHVwKHBvcHVwXzg0OGRkM2MxYjE0NTRjOGI5NzcwNTAyZmNmNjRjZjY0KQogICAgICAgIDsKCiAgICAgICAgCiAgICAKICAgIAogICAgICAgICAgICB2YXIgbWFya2VyXzQwMjY0ZGVkNTIzYjQ4NDNhYmRhMDU1MWM2NzQyY2ZhID0gTC5tYXJrZXIoCiAgICAgICAgICAgICAgICBbNDMuNjc2MzU3Mzk5OTk5OTksIC03OS4yOTMwMzEyXSwKICAgICAgICAgICAgICAgIHt9CiAgICAgICAgICAgICkuYWRkVG8obWFwX2FkNGQ2OGNiYmJlYjRjNDI4YTNiY2YwNjJhZDcxNjE0KTsKICAgICAgICAKICAgIAogICAgICAgIHZhciBwb3B1cF80NGNkYjE4ZDBiNzc0ZTAzYTc0YTliZTMxYzc4OWVlYiA9IEwucG9wdXAoeyJtYXhXaWR0aCI6ICIxMDAlIn0pOwoKICAgICAgICAKICAgICAgICAgICAgdmFyIGh0bWxfOTVjMzYyOTM5Y2YzNGE1YTlkYmIxMGNjZWUzNmRlNzYgPSAkKGA8ZGl2IGlkPSJodG1sXzk1YzM2MjkzOWNmMzRhNWE5ZGJiMTBjY2VlMzZkZTc2IiBzdHlsZT0id2lkdGg6IDEwMC4wJTsgaGVpZ2h0OiAxMDAuMCU7Ij5UaGUgQmVhY2hlczwvZGl2PmApWzBdOwogICAgICAgICAgICBwb3B1cF80NGNkYjE4ZDBiNzc0ZTAzYTc0YTliZTMxYzc4OWVlYi5zZXRDb250ZW50KGh0bWxfOTVjMzYyOTM5Y2YzNGE1YTlkYmIxMGNjZWUzNmRlNzYpOwogICAgICAgIAoKICAgICAgICBtYXJrZXJfNDAyNjRkZWQ1MjNiNDg0M2FiZGEwNTUxYzY3NDJjZmEuYmluZFBvcHVwKHBvcHVwXzQ0Y2RiMThkMGI3NzRlMDNhNzRhOWJlMzFjNzg5ZWViKQogICAgICAgIDsKCiAgICAgICAgCiAgICAKICAgIAogICAgICAgICAgICB2YXIgbWFya2VyXzI3MTNiNzcwM2M2ODQ2YWI4NTg4ZGFhODc4NWU4ODViID0gTC5tYXJrZXIoCiAgICAgICAgICAgICAgICBbNDMuNjQ0NzcwNzk5OTk5OTk2LCAtNzkuMzczMzA2NF0sCiAgICAgICAgICAgICAgICB7fQogICAgICAgICAgICApLmFkZFRvKG1hcF9hZDRkNjhjYmJiZWI0YzQyOGEzYmNmMDYyYWQ3MTYxNCk7CiAgICAgICAgCiAgICAKICAgICAgICB2YXIgcG9wdXBfMDhlMjcxN2I1YmM3NGQ5NDllMzczMWNlMDc2YTE1OTMgPSBMLnBvcHVwKHsibWF4V2lkdGgiOiAiMTAwJSJ9KTsKCiAgICAgICAgCiAgICAgICAgICAgIHZhciBodG1sX2ExMzZkYmQxYjlkOTQzOTY4OGM1NDFjYjRjYWEwYmQxID0gJChgPGRpdiBpZD0iaHRtbF9hMTM2ZGJkMWI5ZDk0Mzk2ODhjNTQxY2I0Y2FhMGJkMSIgc3R5bGU9IndpZHRoOiAxMDAuMCU7IGhlaWdodDogMTAwLjAlOyI+QmVyY3p5IFBhcms8L2Rpdj5gKVswXTsKICAgICAgICAgICAgcG9wdXBfMDhlMjcxN2I1YmM3NGQ5NDllMzczMWNlMDc2YTE1OTMuc2V0Q29udGVudChodG1sX2ExMzZkYmQxYjlkOTQzOTY4OGM1NDFjYjRjYWEwYmQxKTsKICAgICAgICAKCiAgICAgICAgbWFya2VyXzI3MTNiNzcwM2M2ODQ2YWI4NTg4ZGFhODc4NWU4ODViLmJpbmRQb3B1cChwb3B1cF8wOGUyNzE3YjViYzc0ZDk0OWUzNzMxY2UwNzZhMTU5MykKICAgICAgICA7CgogICAgICAgIAogICAgCiAgICAKICAgICAgICAgICAgdmFyIG1hcmtlcl9kNDQ3ZjBiOGZhYjk0OWM0OTg5ZTU3NGYzNjE2ODdlYSA9IEwubWFya2VyKAogICAgICAgICAgICAgICAgWzQzLjY4OTAyNTYsIC03OS40NTM1MTJdLAogICAgICAgICAgICAgICAge30KICAgICAgICAgICAgKS5hZGRUbyhtYXBfYWQ0ZDY4Y2JiYmViNGM0MjhhM2JjZjA2MmFkNzE2MTQpOwogICAgICAgIAogICAgCiAgICAgICAgdmFyIHBvcHVwX2I0ZjA0MWVkZjczYTRmMjZiMWFlYjM1YTVlYzhkYTBlID0gTC5wb3B1cCh7Im1heFdpZHRoIjogIjEwMCUifSk7CgogICAgICAgIAogICAgICAgICAgICB2YXIgaHRtbF8zM2IxMzE5NzdkNzM0ZDA0YTM1ZmQyYmM2ZjI4ZjRjNSA9ICQoYDxkaXYgaWQ9Imh0bWxfMzNiMTMxOTc3ZDczNGQwNGEzNWZkMmJjNmYyOGY0YzUiIHN0eWxlPSJ3aWR0aDogMTAwLjAlOyBoZWlnaHQ6IDEwMC4wJTsiPkNhbGVkb25pYS1GYWlyYmFua3M8L2Rpdj5gKVswXTsKICAgICAgICAgICAgcG9wdXBfYjRmMDQxZWRmNzNhNGYyNmIxYWViMzVhNWVjOGRhMGUuc2V0Q29udGVudChodG1sXzMzYjEzMTk3N2Q3MzRkMDRhMzVmZDJiYzZmMjhmNGM1KTsKICAgICAgICAKCiAgICAgICAgbWFya2VyX2Q0NDdmMGI4ZmFiOTQ5YzQ5ODllNTc0ZjM2MTY4N2VhLmJpbmRQb3B1cChwb3B1cF9iNGYwNDFlZGY3M2E0ZjI2YjFhZWIzNWE1ZWM4ZGEwZSkKICAgICAgICA7CgogICAgICAgIAogICAgCiAgICAKICAgICAgICAgICAgdmFyIG1hcmtlcl84YzVlYTY1YTJmZTU0YjI1OTE2MDMzZTQzMmY1YzE3MyA9IEwubWFya2VyKAogICAgICAgICAgICAgICAgWzQzLjc3MDk5MjEsIC03OS4yMTY5MTc0MDAwMDAwMV0sCiAgICAgICAgICAgICAgICB7fQogICAgICAgICAgICApLmFkZFRvKG1hcF9hZDRkNjhjYmJiZWI0YzQyOGEzYmNmMDYyYWQ3MTYxNCk7CiAgICAgICAgCiAgICAKICAgICAgICB2YXIgcG9wdXBfNGE5N2NhY2VkNjExNGExOGEyMDc0N2JkZTEwOWQ0MzYgPSBMLnBvcHVwKHsibWF4V2lkdGgiOiAiMTAwJSJ9KTsKCiAgICAgICAgCiAgICAgICAgICAgIHZhciBodG1sX2Y2ODBkNmRhNDg0NTRmOTViMjg3NDQ1M2VkOTIyNGFjID0gJChgPGRpdiBpZD0iaHRtbF9mNjgwZDZkYTQ4NDU0Zjk1YjI4NzQ0NTNlZDkyMjRhYyIgc3R5bGU9IndpZHRoOiAxMDAuMCU7IGhlaWdodDogMTAwLjAlOyI+V29idXJuPC9kaXY+YClbMF07CiAgICAgICAgICAgIHBvcHVwXzRhOTdjYWNlZDYxMTRhMThhMjA3NDdiZGUxMDlkNDM2LnNldENvbnRlbnQoaHRtbF9mNjgwZDZkYTQ4NDU0Zjk1YjI4NzQ0NTNlZDkyMjRhYyk7CiAgICAgICAgCgogICAgICAgIG1hcmtlcl84YzVlYTY1YTJmZTU0YjI1OTE2MDMzZTQzMmY1YzE3My5iaW5kUG9wdXAocG9wdXBfNGE5N2NhY2VkNjExNGExOGEyMDc0N2JkZTEwOWQ0MzYpCiAgICAgICAgOwoKICAgICAgICAKICAgIAogICAgCiAgICAgICAgICAgIHZhciBtYXJrZXJfZWVjOTlmNDhkOWM4NDg3YWExNDhiMjdmYjY5YzczMGMgPSBMLm1hcmtlcigKICAgICAgICAgICAgICAgIFs0My43MDkwNjA0LCAtNzkuMzYzNDUxN10sCiAgICAgICAgICAgICAgICB7fQogICAgICAgICAgICApLmFkZFRvKG1hcF9hZDRkNjhjYmJiZWI0YzQyOGEzYmNmMDYyYWQ3MTYxNCk7CiAgICAgICAgCiAgICAKICAgICAgICB2YXIgcG9wdXBfOTNiNmRhNDE4NTk4NDgyY2I0MGQzMjcyYjc4ZWE2Y2EgPSBMLnBvcHVwKHsibWF4V2lkdGgiOiAiMTAwJSJ9KTsKCiAgICAgICAgCiAgICAgICAgICAgIHZhciBodG1sX2Q2ODQ4YTBiYmM3YTRmOTY5MDA0YTdmNWVhMDU1NTcyID0gJChgPGRpdiBpZD0iaHRtbF9kNjg0OGEwYmJjN2E0Zjk2OTAwNGE3ZjVlYTA1NTU3MiIgc3R5bGU9IndpZHRoOiAxMDAuMCU7IGhlaWdodDogMTAwLjAlOyI+TGVhc2lkZTwvZGl2PmApWzBdOwogICAgICAgICAgICBwb3B1cF85M2I2ZGE0MTg1OTg0ODJjYjQwZDMyNzJiNzhlYTZjYS5zZXRDb250ZW50KGh0bWxfZDY4NDhhMGJiYzdhNGY5NjkwMDRhN2Y1ZWEwNTU1NzIpOwogICAgICAgIAoKICAgICAgICBtYXJrZXJfZWVjOTlmNDhkOWM4NDg3YWExNDhiMjdmYjY5YzczMGMuYmluZFBvcHVwKHBvcHVwXzkzYjZkYTQxODU5ODQ4MmNiNDBkMzI3MmI3OGVhNmNhKQogICAgICAgIDsKCiAgICAgICAgCiAgICAKICAgIAogICAgICAgICAgICB2YXIgbWFya2VyX2VhNjZkYzAxNTk5NTRlOTU5OWI3NDA2NjNhMTVmNmI5ID0gTC5tYXJrZXIoCiAgICAgICAgICAgICAgICBbNDMuNjU3OTUyNCwgLTc5LjM4NzM4MjZdLAogICAgICAgICAgICAgICAge30KICAgICAgICAgICAgKS5hZGRUbyhtYXBfYWQ0ZDY4Y2JiYmViNGM0MjhhM2JjZjA2MmFkNzE2MTQpOwogICAgICAgIAogICAgCiAgICAgICAgdmFyIHBvcHVwX2I3ZjlmZDE5M2NjYjRkOTM5YjU2ZWU1ZTYwNTliMThhID0gTC5wb3B1cCh7Im1heFdpZHRoIjogIjEwMCUifSk7CgogICAgICAgIAogICAgICAgICAgICB2YXIgaHRtbF9kZWUyMzZkNGMzNWM0OWFmYThiN2I3YjcxN2I4YTRmMyA9ICQoYDxkaXYgaWQ9Imh0bWxfZGVlMjM2ZDRjMzVjNDlhZmE4YjdiN2I3MTdiOGE0ZjMiIHN0eWxlPSJ3aWR0aDogMTAwLjAlOyBoZWlnaHQ6IDEwMC4wJTsiPkNlbnRyYWwgQmF5IFN0cmVldDwvZGl2PmApWzBdOwogICAgICAgICAgICBwb3B1cF9iN2Y5ZmQxOTNjY2I0ZDkzOWI1NmVlNWU2MDU5YjE4YS5zZXRDb250ZW50KGh0bWxfZGVlMjM2ZDRjMzVjNDlhZmE4YjdiN2I3MTdiOGE0ZjMpOwogICAgICAgIAoKICAgICAgICBtYXJrZXJfZWE2NmRjMDE1OTk1NGU5NTk5Yjc0MDY2M2ExNWY2YjkuYmluZFBvcHVwKHBvcHVwX2I3ZjlmZDE5M2NjYjRkOTM5YjU2ZWU1ZTYwNTliMThhKQogICAgICAgIDsKCiAgICAgICAgCiAgICAKICAgIAogICAgICAgICAgICB2YXIgbWFya2VyXzEwZTgyM2VlMjhjNzRhZWNhMTQxZmE0ZTE1M2Q1MTM4ID0gTC5tYXJrZXIoCiAgICAgICAgICAgICAgICBbNDMuNjY5NTQyLCAtNzkuNDIyNTYzN10sCiAgICAgICAgICAgICAgICB7fQogICAgICAgICAgICApLmFkZFRvKG1hcF9hZDRkNjhjYmJiZWI0YzQyOGEzYmNmMDYyYWQ3MTYxNCk7CiAgICAgICAgCiAgICAKICAgICAgICB2YXIgcG9wdXBfNTllMTZmMTM3ZDkwNDZhYmFiYTlkMGQ2NmQ5NDAxNWYgPSBMLnBvcHVwKHsibWF4V2lkdGgiOiAiMTAwJSJ9KTsKCiAgICAgICAgCiAgICAgICAgICAgIHZhciBodG1sXzgzYjY1MTY0ZTVjMzQwYzg4MzJiNWVkYTQ3ZjhkMWFkID0gJChgPGRpdiBpZD0iaHRtbF84M2I2NTE2NGU1YzM0MGM4ODMyYjVlZGE0N2Y4ZDFhZCIgc3R5bGU9IndpZHRoOiAxMDAuMCU7IGhlaWdodDogMTAwLjAlOyI+Q2hyaXN0aWU8L2Rpdj5gKVswXTsKICAgICAgICAgICAgcG9wdXBfNTllMTZmMTM3ZDkwNDZhYmFiYTlkMGQ2NmQ5NDAxNWYuc2V0Q29udGVudChodG1sXzgzYjY1MTY0ZTVjMzQwYzg4MzJiNWVkYTQ3ZjhkMWFkKTsKICAgICAgICAKCiAgICAgICAgbWFya2VyXzEwZTgyM2VlMjhjNzRhZWNhMTQxZmE0ZTE1M2Q1MTM4LmJpbmRQb3B1cChwb3B1cF81OWUxNmYxMzdkOTA0NmFiYWJhOWQwZDY2ZDk0MDE1ZikKICAgICAgICA7CgogICAgICAgIAogICAgCiAgICAKICAgICAgICAgICAgdmFyIG1hcmtlcl84MWVlMTU0ODg4MWI0MTJkYjQ5YjlhYzBkN2E2ZGQ0ZSA9IEwubWFya2VyKAogICAgICAgICAgICAgICAgWzQzLjc3MzEzNiwgLTc5LjIzOTQ3NjA5OTk5OTk5XSwKICAgICAgICAgICAgICAgIHt9CiAgICAgICAgICAgICkuYWRkVG8obWFwX2FkNGQ2OGNiYmJlYjRjNDI4YTNiY2YwNjJhZDcxNjE0KTsKICAgICAgICAKICAgIAogICAgICAgIHZhciBwb3B1cF81M2E4N2JmNTAwZWU0ZTMyYWQ4NzkyN2FjNDY5ZmRmYSA9IEwucG9wdXAoeyJtYXhXaWR0aCI6ICIxMDAlIn0pOwoKICAgICAgICAKICAgICAgICAgICAgdmFyIGh0bWxfYzQ0OThjNzQ1NmI5NDQ3NmI4Njk5YTQ2OGY0ZjkzYmMgPSAkKGA8ZGl2IGlkPSJodG1sX2M0NDk4Yzc0NTZiOTQ0NzZiODY5OWE0NjhmNGY5M2JjIiBzdHlsZT0id2lkdGg6IDEwMC4wJTsgaGVpZ2h0OiAxMDAuMCU7Ij5DZWRhcmJyYWU8L2Rpdj5gKVswXTsKICAgICAgICAgICAgcG9wdXBfNTNhODdiZjUwMGVlNGUzMmFkODc5MjdhYzQ2OWZkZmEuc2V0Q29udGVudChodG1sX2M0NDk4Yzc0NTZiOTQ0NzZiODY5OWE0NjhmNGY5M2JjKTsKICAgICAgICAKCiAgICAgICAgbWFya2VyXzgxZWUxNTQ4ODgxYjQxMmRiNDliOWFjMGQ3YTZkZDRlLmJpbmRQb3B1cChwb3B1cF81M2E4N2JmNTAwZWU0ZTMyYWQ4NzkyN2FjNDY5ZmRmYSkKICAgICAgICA7CgogICAgICAgIAogICAgCiAgICAKICAgICAgICAgICAgdmFyIG1hcmtlcl9iNzZiNjBkMjA2MGM0YzVmYWE1NDUzMjUxYWU1OTk5MCA9IEwubWFya2VyKAogICAgICAgICAgICAgICAgWzQzLjgwMzc2MjIsIC03OS4zNjM0NTE3XSwKICAgICAgICAgICAgICAgIHt9CiAgICAgICAgICAgICkuYWRkVG8obWFwX2FkNGQ2OGNiYmJlYjRjNDI4YTNiY2YwNjJhZDcxNjE0KTsKICAgICAgICAKICAgIAogICAgICAgIHZhciBwb3B1cF9kYzkzNmNmYzQwYTc0MzIwODZhNzNjNzg5M2QxZGE5NCA9IEwucG9wdXAoeyJtYXhXaWR0aCI6ICIxMDAlIn0pOwoKICAgICAgICAKICAgICAgICAgICAgdmFyIGh0bWxfZmUwYzkzNTRiZWFjNDE5MTk0NDI5MzA4NmNmYmJlNzkgPSAkKGA8ZGl2IGlkPSJodG1sX2ZlMGM5MzU0YmVhYzQxOTE5NDQyOTMwODZjZmJiZTc5IiBzdHlsZT0id2lkdGg6IDEwMC4wJTsgaGVpZ2h0OiAxMDAuMCU7Ij5IaWxsY3Jlc3QgVmlsbGFnZTwvZGl2PmApWzBdOwogICAgICAgICAgICBwb3B1cF9kYzkzNmNmYzQwYTc0MzIwODZhNzNjNzg5M2QxZGE5NC5zZXRDb250ZW50KGh0bWxfZmUwYzkzNTRiZWFjNDE5MTk0NDI5MzA4NmNmYmJlNzkpOwogICAgICAgIAoKICAgICAgICBtYXJrZXJfYjc2YjYwZDIwNjBjNGM1ZmFhNTQ1MzI1MWFlNTk5OTAuYmluZFBvcHVwKHBvcHVwX2RjOTM2Y2ZjNDBhNzQzMjA4NmE3M2M3ODkzZDFkYTk0KQogICAgICAgIDsKCiAgICAgICAgCiAgICAKICAgIAogICAgICAgICAgICB2YXIgbWFya2VyX2E2MWQ0Njg3Y2Q5MzQ5ZTM4YzkyODg2MDI5YmFjZTYxID0gTC5tYXJrZXIoCiAgICAgICAgICAgICAgICBbNDMuNzU0MzI4MywgLTc5LjQ0MjI1OTNdLAogICAgICAgICAgICAgICAge30KICAgICAgICAgICAgKS5hZGRUbyhtYXBfYWQ0ZDY4Y2JiYmViNGM0MjhhM2JjZjA2MmFkNzE2MTQpOwogICAgICAgIAogICAgCiAgICAgICAgdmFyIHBvcHVwXzcwYTQ2MWRhYTc5MjRiZTA4YTBkM2RmMjVkNWU0NjE4ID0gTC5wb3B1cCh7Im1heFdpZHRoIjogIjEwMCUifSk7CgogICAgICAgIAogICAgICAgICAgICB2YXIgaHRtbF9kYmNjYTY0YjJkZDc0OWY5OTZmNTY1ZjEyY2Q1ZGExZSA9ICQoYDxkaXYgaWQ9Imh0bWxfZGJjY2E2NGIyZGQ3NDlmOTk2ZjU2NWYxMmNkNWRhMWUiIHN0eWxlPSJ3aWR0aDogMTAwLjAlOyBoZWlnaHQ6IDEwMC4wJTsiPkJhdGh1cnN0IE1hbm9yICwgV2lsc29uIEhlaWdodHMgLCBEb3duc3ZpZXcgTm9ydGg8L2Rpdj5gKVswXTsKICAgICAgICAgICAgcG9wdXBfNzBhNDYxZGFhNzkyNGJlMDhhMGQzZGYyNWQ1ZTQ2MTguc2V0Q29udGVudChodG1sX2RiY2NhNjRiMmRkNzQ5Zjk5NmY1NjVmMTJjZDVkYTFlKTsKICAgICAgICAKCiAgICAgICAgbWFya2VyX2E2MWQ0Njg3Y2Q5MzQ5ZTM4YzkyODg2MDI5YmFjZTYxLmJpbmRQb3B1cChwb3B1cF83MGE0NjFkYWE3OTI0YmUwOGEwZDNkZjI1ZDVlNDYxOCkKICAgICAgICA7CgogICAgICAgIAogICAgCiAgICAKICAgICAgICAgICAgdmFyIG1hcmtlcl8zMTc1ZjE5Y2EwOWM0MTA3YWI0YTQ0NmRjYzc3MjYwYyA9IEwubWFya2VyKAogICAgICAgICAgICAgICAgWzQzLjcwNTM2ODksIC03OS4zNDkzNzE5MDAwMDAwMV0sCiAgICAgICAgICAgICAgICB7fQogICAgICAgICAgICApLmFkZFRvKG1hcF9hZDRkNjhjYmJiZWI0YzQyOGEzYmNmMDYyYWQ3MTYxNCk7CiAgICAgICAgCiAgICAKICAgICAgICB2YXIgcG9wdXBfNWIxMmI3ZmQ5N2MzNGIzM2IwMjk2N2NmNjdiY2NhODQgPSBMLnBvcHVwKHsibWF4V2lkdGgiOiAiMTAwJSJ9KTsKCiAgICAgICAgCiAgICAgICAgICAgIHZhciBodG1sXzE4ZWFmOGFhNWJiNTQzM2M4YjJjMjEyMmY2ZTM4ZDQ5ID0gJChgPGRpdiBpZD0iaHRtbF8xOGVhZjhhYTViYjU0MzNjOGIyYzIxMjJmNmUzOGQ0OSIgc3R5bGU9IndpZHRoOiAxMDAuMCU7IGhlaWdodDogMTAwLjAlOyI+VGhvcm5jbGlmZmUgUGFyazwvZGl2PmApWzBdOwogICAgICAgICAgICBwb3B1cF81YjEyYjdmZDk3YzM0YjMzYjAyOTY3Y2Y2N2JjY2E4NC5zZXRDb250ZW50KGh0bWxfMThlYWY4YWE1YmI1NDMzYzhiMmMyMTIyZjZlMzhkNDkpOwogICAgICAgIAoKICAgICAgICBtYXJrZXJfMzE3NWYxOWNhMDljNDEwN2FiNGE0NDZkY2M3NzI2MGMuYmluZFBvcHVwKHBvcHVwXzViMTJiN2ZkOTdjMzRiMzNiMDI5NjdjZjY3YmNjYTg0KQogICAgICAgIDsKCiAgICAgICAgCiAgICAKICAgIAogICAgICAgICAgICB2YXIgbWFya2VyXzY3M2Q1ZTI0ZGY1ZTQ4YmY4NzdhZjkxNTUyOWIzYTA0ID0gTC5tYXJrZXIoCiAgICAgICAgICAgICAgICBbNDMuNjUwNTcxMjAwMDAwMDEsIC03OS4zODQ1Njc1XSwKICAgICAgICAgICAgICAgIHt9CiAgICAgICAgICAgICkuYWRkVG8obWFwX2FkNGQ2OGNiYmJlYjRjNDI4YTNiY2YwNjJhZDcxNjE0KTsKICAgICAgICAKICAgIAogICAgICAgIHZhciBwb3B1cF9hNWIyOTdlYjFjN2U0MjlkODRhZTMxZThmNzAzM2I3MCA9IEwucG9wdXAoeyJtYXhXaWR0aCI6ICIxMDAlIn0pOwoKICAgICAgICAKICAgICAgICAgICAgdmFyIGh0bWxfOTQ2ZjY0ZDNlODhmNGQ0NGFmNjcyZjM3MjA3YjcyMmMgPSAkKGA8ZGl2IGlkPSJodG1sXzk0NmY2NGQzZTg4ZjRkNDRhZjY3MmYzNzIwN2I3MjJjIiBzdHlsZT0id2lkdGg6IDEwMC4wJTsgaGVpZ2h0OiAxMDAuMCU7Ij5SaWNobW9uZCAsIEFkZWxhaWRlICwgS2luZzwvZGl2PmApWzBdOwogICAgICAgICAgICBwb3B1cF9hNWIyOTdlYjFjN2U0MjlkODRhZTMxZThmNzAzM2I3MC5zZXRDb250ZW50KGh0bWxfOTQ2ZjY0ZDNlODhmNGQ0NGFmNjcyZjM3MjA3YjcyMmMpOwogICAgICAgIAoKICAgICAgICBtYXJrZXJfNjczZDVlMjRkZjVlNDhiZjg3N2FmOTE1NTI5YjNhMDQuYmluZFBvcHVwKHBvcHVwX2E1YjI5N2ViMWM3ZTQyOWQ4NGFlMzFlOGY3MDMzYjcwKQogICAgICAgIDsKCiAgICAgICAgCiAgICAKICAgIAogICAgICAgICAgICB2YXIgbWFya2VyX2NkODBjYjc3Nzk0YjRjZGFhMGNkNjk2ODRlOTE2Zjc3ID0gTC5tYXJrZXIoCiAgICAgICAgICAgICAgICBbNDMuNjY5MDA1MTAwMDAwMDEsIC03OS40NDIyNTkzXSwKICAgICAgICAgICAgICAgIHt9CiAgICAgICAgICAgICkuYWRkVG8obWFwX2FkNGQ2OGNiYmJlYjRjNDI4YTNiY2YwNjJhZDcxNjE0KTsKICAgICAgICAKICAgIAogICAgICAgIHZhciBwb3B1cF8wOTc0MDAwYjBiNWY0OGNiOGE2NmVhZThhZjljZDcxOSA9IEwucG9wdXAoeyJtYXhXaWR0aCI6ICIxMDAlIn0pOwoKICAgICAgICAKICAgICAgICAgICAgdmFyIGh0bWxfMTlkZmM1NDJiMDc5NGIyMzg2ZTI5ZDQ2YTk4ZGIwYzIgPSAkKGA8ZGl2IGlkPSJodG1sXzE5ZGZjNTQyYjA3OTRiMjM4NmUyOWQ0NmE5OGRiMGMyIiBzdHlsZT0id2lkdGg6IDEwMC4wJTsgaGVpZ2h0OiAxMDAuMCU7Ij5EdWZmZXJpbiAsIERvdmVyY291cnQgVmlsbGFnZTwvZGl2PmApWzBdOwogICAgICAgICAgICBwb3B1cF8wOTc0MDAwYjBiNWY0OGNiOGE2NmVhZThhZjljZDcxOS5zZXRDb250ZW50KGh0bWxfMTlkZmM1NDJiMDc5NGIyMzg2ZTI5ZDQ2YTk4ZGIwYzIpOwogICAgICAgIAoKICAgICAgICBtYXJrZXJfY2Q4MGNiNzc3OTRiNGNkYWEwY2Q2OTY4NGU5MTZmNzcuYmluZFBvcHVwKHBvcHVwXzA5NzQwMDBiMGI1ZjQ4Y2I4YTY2ZWFlOGFmOWNkNzE5KQogICAgICAgIDsKCiAgICAgICAgCiAgICAKICAgIAogICAgICAgICAgICB2YXIgbWFya2VyX2UwNmVjZjJjNzdhNjQ1OTc5ZGRmYjM2NGNmNDFkMjFiID0gTC5tYXJrZXIoCiAgICAgICAgICAgICAgICBbNDMuNzQ0NzM0MiwgLTc5LjIzOTQ3NjA5OTk5OTk5XSwKICAgICAgICAgICAgICAgIHt9CiAgICAgICAgICAgICkuYWRkVG8obWFwX2FkNGQ2OGNiYmJlYjRjNDI4YTNiY2YwNjJhZDcxNjE0KTsKICAgICAgICAKICAgIAogICAgICAgIHZhciBwb3B1cF9mYmFiODE3YzY5MzA0ZDZlYWQ5M2NmY2Y2M2E2ZTI0YSA9IEwucG9wdXAoeyJtYXhXaWR0aCI6ICIxMDAlIn0pOwoKICAgICAgICAKICAgICAgICAgICAgdmFyIGh0bWxfZjk2NzZiNDJlMGNhNDc2ZDgwYTg1YzZjMTM3YTlmYTYgPSAkKGA8ZGl2IGlkPSJodG1sX2Y5Njc2YjQyZTBjYTQ3NmQ4MGE4NWM2YzEzN2E5ZmE2IiBzdHlsZT0id2lkdGg6IDEwMC4wJTsgaGVpZ2h0OiAxMDAuMCU7Ij5TY2FyYm9yb3VnaCBWaWxsYWdlPC9kaXY+YClbMF07CiAgICAgICAgICAgIHBvcHVwX2ZiYWI4MTdjNjkzMDRkNmVhZDkzY2ZjZjYzYTZlMjRhLnNldENvbnRlbnQoaHRtbF9mOTY3NmI0MmUwY2E0NzZkODBhODVjNmMxMzdhOWZhNik7CiAgICAgICAgCgogICAgICAgIG1hcmtlcl9lMDZlY2YyYzc3YTY0NTk3OWRkZmIzNjRjZjQxZDIxYi5iaW5kUG9wdXAocG9wdXBfZmJhYjgxN2M2OTMwNGQ2ZWFkOTNjZmNmNjNhNmUyNGEpCiAgICAgICAgOwoKICAgICAgICAKICAgIAogICAgCiAgICAgICAgICAgIHZhciBtYXJrZXJfNTgyMmQ3OTc0ZmY3NGFiNTk3Y2NiMjE0OGRkZDIzZTIgPSBMLm1hcmtlcigKICAgICAgICAgICAgICAgIFs0My43Nzg1MTc1LCAtNzkuMzQ2NTU1N10sCiAgICAgICAgICAgICAgICB7fQogICAgICAgICAgICApLmFkZFRvKG1hcF9hZDRkNjhjYmJiZWI0YzQyOGEzYmNmMDYyYWQ3MTYxNCk7CiAgICAgICAgCiAgICAKICAgICAgICB2YXIgcG9wdXBfMDQ3NTlkYWY2OTY2NDk1ZTk5NmM3ODQ0ZWZlNTM5MTkgPSBMLnBvcHVwKHsibWF4V2lkdGgiOiAiMTAwJSJ9KTsKCiAgICAgICAgCiAgICAgICAgICAgIHZhciBodG1sX2Y4OGNkMjE1ZGQyYjQ2NThiZTllOTBmNTZlNjIyMjZkID0gJChgPGRpdiBpZD0iaHRtbF9mODhjZDIxNWRkMmI0NjU4YmU5ZTkwZjU2ZTYyMjI2ZCIgc3R5bGU9IndpZHRoOiAxMDAuMCU7IGhlaWdodDogMTAwLjAlOyI+RmFpcnZpZXcgLCBIZW5yeSBGYXJtICwgT3Jpb2xlPC9kaXY+YClbMF07CiAgICAgICAgICAgIHBvcHVwXzA0NzU5ZGFmNjk2NjQ5NWU5OTZjNzg0NGVmZTUzOTE5LnNldENvbnRlbnQoaHRtbF9mODhjZDIxNWRkMmI0NjU4YmU5ZTkwZjU2ZTYyMjI2ZCk7CiAgICAgICAgCgogICAgICAgIG1hcmtlcl81ODIyZDc5NzRmZjc0YWI1OTdjY2IyMTQ4ZGRkMjNlMi5iaW5kUG9wdXAocG9wdXBfMDQ3NTlkYWY2OTY2NDk1ZTk5NmM3ODQ0ZWZlNTM5MTkpCiAgICAgICAgOwoKICAgICAgICAKICAgIAogICAgCiAgICAgICAgICAgIHZhciBtYXJrZXJfODhmZjlkYWM3ZDIxNDBkN2FiYjNmMDRmYTMyN2I5M2QgPSBMLm1hcmtlcigKICAgICAgICAgICAgICAgIFs0My43Njc5ODAzLCAtNzkuNDg3MjYxOTAwMDAwMDFdLAogICAgICAgICAgICAgICAge30KICAgICAgICAgICAgKS5hZGRUbyhtYXBfYWQ0ZDY4Y2JiYmViNGM0MjhhM2JjZjA2MmFkNzE2MTQpOwogICAgICAgIAogICAgCiAgICAgICAgdmFyIHBvcHVwXzBiOGRkYTRiOWJkNTQ4OWE4ZjU3ZGMwZTA1ZWEwNmE5ID0gTC5wb3B1cCh7Im1heFdpZHRoIjogIjEwMCUifSk7CgogICAgICAgIAogICAgICAgICAgICB2YXIgaHRtbF8wNTc5YmE4NDM4YmM0YWVlOWM1ZjQxMjc5ODVkMWM2ZiA9ICQoYDxkaXYgaWQ9Imh0bWxfMDU3OWJhODQzOGJjNGFlZTljNWY0MTI3OTg1ZDFjNmYiIHN0eWxlPSJ3aWR0aDogMTAwLjAlOyBoZWlnaHQ6IDEwMC4wJTsiPk5vcnRod29vZCBQYXJrICwgWW9yayBVbml2ZXJzaXR5PC9kaXY+YClbMF07CiAgICAgICAgICAgIHBvcHVwXzBiOGRkYTRiOWJkNTQ4OWE4ZjU3ZGMwZTA1ZWEwNmE5LnNldENvbnRlbnQoaHRtbF8wNTc5YmE4NDM4YmM0YWVlOWM1ZjQxMjc5ODVkMWM2Zik7CiAgICAgICAgCgogICAgICAgIG1hcmtlcl84OGZmOWRhYzdkMjE0MGQ3YWJiM2YwNGZhMzI3YjkzZC5iaW5kUG9wdXAocG9wdXBfMGI4ZGRhNGI5YmQ1NDg5YThmNTdkYzBlMDVlYTA2YTkpCiAgICAgICAgOwoKICAgICAgICAKICAgIAogICAgCiAgICAgICAgICAgIHZhciBtYXJrZXJfNzFmNDA5OTRkNjJhNDU2NmJhOTJhYWJhNzdhZDQwZTUgPSBMLm1hcmtlcigKICAgICAgICAgICAgICAgIFs0My42ODUzNDcsIC03OS4zMzgxMDY1XSwKICAgICAgICAgICAgICAgIHt9CiAgICAgICAgICAgICkuYWRkVG8obWFwX2FkNGQ2OGNiYmJlYjRjNDI4YTNiY2YwNjJhZDcxNjE0KTsKICAgICAgICAKICAgIAogICAgICAgIHZhciBwb3B1cF9mMDg5Mjk1YmZlNWY0M2FkOTY2OGFiOWYzN2EwODAxNSA9IEwucG9wdXAoeyJtYXhXaWR0aCI6ICIxMDAlIn0pOwoKICAgICAgICAKICAgICAgICAgICAgdmFyIGh0bWxfYzgwYWJkMTRiNjUxNDdkMmEyOWM2MTM3YjZkYzBlZmQgPSAkKGA8ZGl2IGlkPSJodG1sX2M4MGFiZDE0YjY1MTQ3ZDJhMjljNjEzN2I2ZGMwZWZkIiBzdHlsZT0id2lkdGg6IDEwMC4wJTsgaGVpZ2h0OiAxMDAuMCU7Ij5FYXN0IFRvcm9udG88L2Rpdj5gKVswXTsKICAgICAgICAgICAgcG9wdXBfZjA4OTI5NWJmZTVmNDNhZDk2NjhhYjlmMzdhMDgwMTUuc2V0Q29udGVudChodG1sX2M4MGFiZDE0YjY1MTQ3ZDJhMjljNjEzN2I2ZGMwZWZkKTsKICAgICAgICAKCiAgICAgICAgbWFya2VyXzcxZjQwOTk0ZDYyYTQ1NjZiYTkyYWFiYTc3YWQ0MGU1LmJpbmRQb3B1cChwb3B1cF9mMDg5Mjk1YmZlNWY0M2FkOTY2OGFiOWYzN2EwODAxNSkKICAgICAgICA7CgogICAgICAgIAogICAgCiAgICAKICAgICAgICAgICAgdmFyIG1hcmtlcl9jMWFlYTE0ZDQyOTY0ZDlmYWM4MjU1ZTJjZTY4NGQwZSA9IEwubWFya2VyKAogICAgICAgICAgICAgICAgWzQzLjY0MDgxNTcsIC03OS4zODE3NTIyOTk5OTk5OV0sCiAgICAgICAgICAgICAgICB7fQogICAgICAgICAgICApLmFkZFRvKG1hcF9hZDRkNjhjYmJiZWI0YzQyOGEzYmNmMDYyYWQ3MTYxNCk7CiAgICAgICAgCiAgICAKICAgICAgICB2YXIgcG9wdXBfNmE4YWFiODEwNTI1NGRkYWFlODQ4ZTBmMGZiN2UwM2UgPSBMLnBvcHVwKHsibWF4V2lkdGgiOiAiMTAwJSJ9KTsKCiAgICAgICAgCiAgICAgICAgICAgIHZhciBodG1sX2EzNmRiYmU3M2Q3NDQ2MDI4YjllMDk4ZTNjYzE3M2E1ID0gJChgPGRpdiBpZD0iaHRtbF9hMzZkYmJlNzNkNzQ0NjAyOGI5ZTA5OGUzY2MxNzNhNSIgc3R5bGU9IndpZHRoOiAxMDAuMCU7IGhlaWdodDogMTAwLjAlOyI+SGFyYm91cmZyb250IEVhc3QgLCBVbmlvbiBTdGF0aW9uICwgVG9yb250byBJc2xhbmRzPC9kaXY+YClbMF07CiAgICAgICAgICAgIHBvcHVwXzZhOGFhYjgxMDUyNTRkZGFhZTg0OGUwZjBmYjdlMDNlLnNldENvbnRlbnQoaHRtbF9hMzZkYmJlNzNkNzQ0NjAyOGI5ZTA5OGUzY2MxNzNhNSk7CiAgICAgICAgCgogICAgICAgIG1hcmtlcl9jMWFlYTE0ZDQyOTY0ZDlmYWM4MjU1ZTJjZTY4NGQwZS5iaW5kUG9wdXAocG9wdXBfNmE4YWFiODEwNTI1NGRkYWFlODQ4ZTBmMGZiN2UwM2UpCiAgICAgICAgOwoKICAgICAgICAKICAgIAogICAgCiAgICAgICAgICAgIHZhciBtYXJrZXJfYTMwYTg5ZTg3NTFiNGEzZTliOTk4N2MyMDE3ZjdmZjkgPSBMLm1hcmtlcigKICAgICAgICAgICAgICAgIFs0My42NDc5MjY3MDAwMDAwMDYsIC03OS40MTk3NDk3XSwKICAgICAgICAgICAgICAgIHt9CiAgICAgICAgICAgICkuYWRkVG8obWFwX2FkNGQ2OGNiYmJlYjRjNDI4YTNiY2YwNjJhZDcxNjE0KTsKICAgICAgICAKICAgIAogICAgICAgIHZhciBwb3B1cF9mZWJlNGE4NzBkNmY0YzQ3OWVjOGExYmQ4YWFkODY0OSA9IEwucG9wdXAoeyJtYXhXaWR0aCI6ICIxMDAlIn0pOwoKICAgICAgICAKICAgICAgICAgICAgdmFyIGh0bWxfMWM3ZjIxZjk3MWUxNDdlM2IxZTc3YmFjZmNmZjY3ZWYgPSAkKGA8ZGl2IGlkPSJodG1sXzFjN2YyMWY5NzFlMTQ3ZTNiMWU3N2JhY2ZjZmY2N2VmIiBzdHlsZT0id2lkdGg6IDEwMC4wJTsgaGVpZ2h0OiAxMDAuMCU7Ij5MaXR0bGUgUG9ydHVnYWwgLCBUcmluaXR5PC9kaXY+YClbMF07CiAgICAgICAgICAgIHBvcHVwX2ZlYmU0YTg3MGQ2ZjRjNDc5ZWM4YTFiZDhhYWQ4NjQ5LnNldENvbnRlbnQoaHRtbF8xYzdmMjFmOTcxZTE0N2UzYjFlNzdiYWNmY2ZmNjdlZik7CiAgICAgICAgCgogICAgICAgIG1hcmtlcl9hMzBhODllODc1MWI0YTNlOWI5OTg3YzIwMTdmN2ZmOS5iaW5kUG9wdXAocG9wdXBfZmViZTRhODcwZDZmNGM0NzllYzhhMWJkOGFhZDg2NDkpCiAgICAgICAgOwoKICAgICAgICAKICAgIAogICAgCiAgICAgICAgICAgIHZhciBtYXJrZXJfNGUzNWFmY2NhNTkzNDQ3N2IyMmNmZDg0NzhiNGNlOTUgPSBMLm1hcmtlcigKICAgICAgICAgICAgICAgIFs0My43Mjc5MjkyLCAtNzkuMjYyMDI5NDAwMDAwMDJdLAogICAgICAgICAgICAgICAge30KICAgICAgICAgICAgKS5hZGRUbyhtYXBfYWQ0ZDY4Y2JiYmViNGM0MjhhM2JjZjA2MmFkNzE2MTQpOwogICAgICAgIAogICAgCiAgICAgICAgdmFyIHBvcHVwXzNmN2RjZjY0OGY5YzRlODM4NzJlYWMwMDEwZjNmYmI5ID0gTC5wb3B1cCh7Im1heFdpZHRoIjogIjEwMCUifSk7CgogICAgICAgIAogICAgICAgICAgICB2YXIgaHRtbF8wMzQ4MzVkNGM0NDI0MTYwYjY0NzQ5YzQ2Njk2MzJjNSA9ICQoYDxkaXYgaWQ9Imh0bWxfMDM0ODM1ZDRjNDQyNDE2MGI2NDc0OWM0NjY5NjMyYzUiIHN0eWxlPSJ3aWR0aDogMTAwLjAlOyBoZWlnaHQ6IDEwMC4wJTsiPktlbm5lZHkgUGFyayAsIElvbnZpZXcgLCBFYXN0IEJpcmNobW91bnQgUGFyazwvZGl2PmApWzBdOwogICAgICAgICAgICBwb3B1cF8zZjdkY2Y2NDhmOWM0ZTgzODcyZWFjMDAxMGYzZmJiOS5zZXRDb250ZW50KGh0bWxfMDM0ODM1ZDRjNDQyNDE2MGI2NDc0OWM0NjY5NjMyYzUpOwogICAgICAgIAoKICAgICAgICBtYXJrZXJfNGUzNWFmY2NhNTkzNDQ3N2IyMmNmZDg0NzhiNGNlOTUuYmluZFBvcHVwKHBvcHVwXzNmN2RjZjY0OGY5YzRlODM4NzJlYWMwMDEwZjNmYmI5KQogICAgICAgIDsKCiAgICAgICAgCiAgICAKICAgIAogICAgICAgICAgICB2YXIgbWFya2VyX2E3NjA0Yjk5OGE2MjRmYjA4ZDA0NjM4NjVmMTQ3NmFlID0gTC5tYXJrZXIoCiAgICAgICAgICAgICAgICBbNDMuNzg2OTQ3MywgLTc5LjM4NTk3NV0sCiAgICAgICAgICAgICAgICB7fQogICAgICAgICAgICApLmFkZFRvKG1hcF9hZDRkNjhjYmJiZWI0YzQyOGEzYmNmMDYyYWQ3MTYxNCk7CiAgICAgICAgCiAgICAKICAgICAgICB2YXIgcG9wdXBfNTJmODhmMWYxMzY2NDc4OWIzOWJjNTQ4ZThlZjdmNjAgPSBMLnBvcHVwKHsibWF4V2lkdGgiOiAiMTAwJSJ9KTsKCiAgICAgICAgCiAgICAgICAgICAgIHZhciBodG1sXzVmMmQ4MjQxMTg1NDQ4YmNiZjU1ODdlYjg2MTZiNDcxID0gJChgPGRpdiBpZD0iaHRtbF81ZjJkODI0MTE4NTQ0OGJjYmY1NTg3ZWI4NjE2YjQ3MSIgc3R5bGU9IndpZHRoOiAxMDAuMCU7IGhlaWdodDogMTAwLjAlOyI+QmF5dmlldyBWaWxsYWdlPC9kaXY+YClbMF07CiAgICAgICAgICAgIHBvcHVwXzUyZjg4ZjFmMTM2NjQ3ODliMzliYzU0OGU4ZWY3ZjYwLnNldENvbnRlbnQoaHRtbF81ZjJkODI0MTE4NTQ0OGJjYmY1NTg3ZWI4NjE2YjQ3MSk7CiAgICAgICAgCgogICAgICAgIG1hcmtlcl9hNzYwNGI5OThhNjI0ZmIwOGQwNDYzODY1ZjE0NzZhZS5iaW5kUG9wdXAocG9wdXBfNTJmODhmMWYxMzY2NDc4OWIzOWJjNTQ4ZThlZjdmNjApCiAgICAgICAgOwoKICAgICAgICAKICAgIAogICAgCiAgICAgICAgICAgIHZhciBtYXJrZXJfZTE5YzFmNmJkNDZiNDYyN2FhMmQyYWZjZTNkNzA3ZmEgPSBMLm1hcmtlcigKICAgICAgICAgICAgICAgIFs0My43Mzc0NzMyMDAwMDAwMDQsIC03OS40NjQ3NjMyOTk5OTk5OV0sCiAgICAgICAgICAgICAgICB7fQogICAgICAgICAgICApLmFkZFRvKG1hcF9hZDRkNjhjYmJiZWI0YzQyOGEzYmNmMDYyYWQ3MTYxNCk7CiAgICAgICAgCiAgICAKICAgICAgICB2YXIgcG9wdXBfMzQxNjQ0NWQ2MTYxNGY2YmE0NDVlODAzN2E0YjE1MjAgPSBMLnBvcHVwKHsibWF4V2lkdGgiOiAiMTAwJSJ9KTsKCiAgICAgICAgCiAgICAgICAgICAgIHZhciBodG1sXzY5YTlkZjQxZDRkNDRlMjk4NTA5Y2Q4OWEzMmNmOTNkID0gJChgPGRpdiBpZD0iaHRtbF82OWE5ZGY0MWQ0ZDQ0ZTI5ODUwOWNkODlhMzJjZjkzZCIgc3R5bGU9IndpZHRoOiAxMDAuMCU7IGhlaWdodDogMTAwLjAlOyI+RG93bnN2aWV3PC9kaXY+YClbMF07CiAgICAgICAgICAgIHBvcHVwXzM0MTY0NDVkNjE2MTRmNmJhNDQ1ZTgwMzdhNGIxNTIwLnNldENvbnRlbnQoaHRtbF82OWE5ZGY0MWQ0ZDQ0ZTI5ODUwOWNkODlhMzJjZjkzZCk7CiAgICAgICAgCgogICAgICAgIG1hcmtlcl9lMTljMWY2YmQ0NmI0NjI3YWEyZDJhZmNlM2Q3MDdmYS5iaW5kUG9wdXAocG9wdXBfMzQxNjQ0NWQ2MTYxNGY2YmE0NDVlODAzN2E0YjE1MjApCiAgICAgICAgOwoKICAgICAgICAKICAgIAogICAgCiAgICAgICAgICAgIHZhciBtYXJrZXJfOWRmZGZmNDA2YTA2NDgwODhmNDc0ZTQwYmY1OWEwY2IgPSBMLm1hcmtlcigKICAgICAgICAgICAgICAgIFs0My42Nzk1NTcxLCAtNzkuMzUyMTg4XSwKICAgICAgICAgICAgICAgIHt9CiAgICAgICAgICAgICkuYWRkVG8obWFwX2FkNGQ2OGNiYmJlYjRjNDI4YTNiY2YwNjJhZDcxNjE0KTsKICAgICAgICAKICAgIAogICAgICAgIHZhciBwb3B1cF83OWFjZmQ3ZGQ5MTU0OTEyYjZmMWE0NjNkNmY4YjBmZiA9IEwucG9wdXAoeyJtYXhXaWR0aCI6ICIxMDAlIn0pOwoKICAgICAgICAKICAgICAgICAgICAgdmFyIGh0bWxfOTZhMjE3NDZlZjYzNGJjOWE1NjJlYmQ4MGUxY2I2MDcgPSAkKGA8ZGl2IGlkPSJodG1sXzk2YTIxNzQ2ZWY2MzRiYzlhNTYyZWJkODBlMWNiNjA3IiBzdHlsZT0id2lkdGg6IDEwMC4wJTsgaGVpZ2h0OiAxMDAuMCU7Ij5UaGUgRGFuZm9ydGggV2VzdCAsIFJpdmVyZGFsZTwvZGl2PmApWzBdOwogICAgICAgICAgICBwb3B1cF83OWFjZmQ3ZGQ5MTU0OTEyYjZmMWE0NjNkNmY4YjBmZi5zZXRDb250ZW50KGh0bWxfOTZhMjE3NDZlZjYzNGJjOWE1NjJlYmQ4MGUxY2I2MDcpOwogICAgICAgIAoKICAgICAgICBtYXJrZXJfOWRmZGZmNDA2YTA2NDgwODhmNDc0ZTQwYmY1OWEwY2IuYmluZFBvcHVwKHBvcHVwXzc5YWNmZDdkZDkxNTQ5MTJiNmYxYTQ2M2Q2ZjhiMGZmKQogICAgICAgIDsKCiAgICAgICAgCiAgICAKICAgIAogICAgICAgICAgICB2YXIgbWFya2VyX2NkYTIyM2VkYWQ5NDQ2MWRhZDQ1NDliZDlhNjcyMjJkID0gTC5tYXJrZXIoCiAgICAgICAgICAgICAgICBbNDMuNjQ3MTc2OCwgLTc5LjM4MTU3NjQwMDAwMDAxXSwKICAgICAgICAgICAgICAgIHt9CiAgICAgICAgICAgICkuYWRkVG8obWFwX2FkNGQ2OGNiYmJlYjRjNDI4YTNiY2YwNjJhZDcxNjE0KTsKICAgICAgICAKICAgIAogICAgICAgIHZhciBwb3B1cF83YmJiZWRlZjI1OGU0ZTkyYTBjZjlhNmNlZTc3ZTFlOSA9IEwucG9wdXAoeyJtYXhXaWR0aCI6ICIxMDAlIn0pOwoKICAgICAgICAKICAgICAgICAgICAgdmFyIGh0bWxfOGJhNDFiZTkzNmIxNDdjNzkxZWM1YmI1ZWZkYjc0NjggPSAkKGA8ZGl2IGlkPSJodG1sXzhiYTQxYmU5MzZiMTQ3Yzc5MWVjNWJiNWVmZGI3NDY4IiBzdHlsZT0id2lkdGg6IDEwMC4wJTsgaGVpZ2h0OiAxMDAuMCU7Ij5Ub3JvbnRvIERvbWluaW9uIENlbnRyZSAsIERlc2lnbiBFeGNoYW5nZTwvZGl2PmApWzBdOwogICAgICAgICAgICBwb3B1cF83YmJiZWRlZjI1OGU0ZTkyYTBjZjlhNmNlZTc3ZTFlOS5zZXRDb250ZW50KGh0bWxfOGJhNDFiZTkzNmIxNDdjNzkxZWM1YmI1ZWZkYjc0NjgpOwogICAgICAgIAoKICAgICAgICBtYXJrZXJfY2RhMjIzZWRhZDk0NDYxZGFkNDU0OWJkOWE2NzIyMmQuYmluZFBvcHVwKHBvcHVwXzdiYmJlZGVmMjU4ZTRlOTJhMGNmOWE2Y2VlNzdlMWU5KQogICAgICAgIDsKCiAgICAgICAgCiAgICAKICAgIAogICAgICAgICAgICB2YXIgbWFya2VyXzZjZjEyNzlhYjU0ZDQ3MmM4ZGM5ODcyNDJkY2RlOWYwID0gTC5tYXJrZXIoCiAgICAgICAgICAgICAgICBbNDMuNjM2ODQ3MiwgLTc5LjQyODE5MTQwMDAwMDAyXSwKICAgICAgICAgICAgICAgIHt9CiAgICAgICAgICAgICkuYWRkVG8obWFwX2FkNGQ2OGNiYmJlYjRjNDI4YTNiY2YwNjJhZDcxNjE0KTsKICAgICAgICAKICAgIAogICAgICAgIHZhciBwb3B1cF8wMThkMjRjZDU3OWE0ZjNmOGQyNmE2MzViZTRlMDYyNyA9IEwucG9wdXAoeyJtYXhXaWR0aCI6ICIxMDAlIn0pOwoKICAgICAgICAKICAgICAgICAgICAgdmFyIGh0bWxfMjg5ZTBhNmM1YTg4NGEzYzlkMDk3ZDc2YjMyNzc1ZWYgPSAkKGA8ZGl2IGlkPSJodG1sXzI4OWUwYTZjNWE4ODRhM2M5ZDA5N2Q3NmIzMjc3NWVmIiBzdHlsZT0id2lkdGg6IDEwMC4wJTsgaGVpZ2h0OiAxMDAuMCU7Ij5Ccm9ja3RvbiAsIFBhcmtkYWxlIFZpbGxhZ2UgLCBFeGhpYml0aW9uIFBsYWNlPC9kaXY+YClbMF07CiAgICAgICAgICAgIHBvcHVwXzAxOGQyNGNkNTc5YTRmM2Y4ZDI2YTYzNWJlNGUwNjI3LnNldENvbnRlbnQoaHRtbF8yODllMGE2YzVhODg0YTNjOWQwOTdkNzZiMzI3NzVlZik7CiAgICAgICAgCgogICAgICAgIG1hcmtlcl82Y2YxMjc5YWI1NGQ0NzJjOGRjOTg3MjQyZGNkZTlmMC5iaW5kUG9wdXAocG9wdXBfMDE4ZDI0Y2Q1NzlhNGYzZjhkMjZhNjM1YmU0ZTA2MjcpCiAgICAgICAgOwoKICAgICAgICAKICAgIAogICAgCiAgICAgICAgICAgIHZhciBtYXJrZXJfM2NiM2ZlNTBkOTc2NDMxNDgyYjg5MDMwMGM3NGNmNTEgPSBMLm1hcmtlcigKICAgICAgICAgICAgICAgIFs0My43MTExMTE3MDAwMDAwMDQsIC03OS4yODQ1NzcyXSwKICAgICAgICAgICAgICAgIHt9CiAgICAgICAgICAgICkuYWRkVG8obWFwX2FkNGQ2OGNiYmJlYjRjNDI4YTNiY2YwNjJhZDcxNjE0KTsKICAgICAgICAKICAgIAogICAgICAgIHZhciBwb3B1cF80YWZhZmRiMTM4ZmQ0NTQ3ODJkZWQ3OTNlOWIzZjAyZCA9IEwucG9wdXAoeyJtYXhXaWR0aCI6ICIxMDAlIn0pOwoKICAgICAgICAKICAgICAgICAgICAgdmFyIGh0bWxfYzE0NDg3MWM1MTU4NDliZmFlNzUzN2ExYmQ3Mzg2MDcgPSAkKGA8ZGl2IGlkPSJodG1sX2MxNDQ4NzFjNTE1ODQ5YmZhZTc1MzdhMWJkNzM4NjA3IiBzdHlsZT0id2lkdGg6IDEwMC4wJTsgaGVpZ2h0OiAxMDAuMCU7Ij5Hb2xkZW4gTWlsZSAsIENsYWlybGVhICwgT2FrcmlkZ2U8L2Rpdj5gKVswXTsKICAgICAgICAgICAgcG9wdXBfNGFmYWZkYjEzOGZkNDU0NzgyZGVkNzkzZTliM2YwMmQuc2V0Q29udGVudChodG1sX2MxNDQ4NzFjNTE1ODQ5YmZhZTc1MzdhMWJkNzM4NjA3KTsKICAgICAgICAKCiAgICAgICAgbWFya2VyXzNjYjNmZTUwZDk3NjQzMTQ4MmI4OTAzMDBjNzRjZjUxLmJpbmRQb3B1cChwb3B1cF80YWZhZmRiMTM4ZmQ0NTQ3ODJkZWQ3OTNlOWIzZjAyZCkKICAgICAgICA7CgogICAgICAgIAogICAgCiAgICAKICAgICAgICAgICAgdmFyIG1hcmtlcl84ZjVjNDVkOGJhYzA0NjNjOGYxNjVjYTEzMTVhZDAzNyA9IEwubWFya2VyKAogICAgICAgICAgICAgICAgWzQzLjc1NzQ5MDIsIC03OS4zNzQ3MTQwOTk5OTk5OV0sCiAgICAgICAgICAgICAgICB7fQogICAgICAgICAgICApLmFkZFRvKG1hcF9hZDRkNjhjYmJiZWI0YzQyOGEzYmNmMDYyYWQ3MTYxNCk7CiAgICAgICAgCiAgICAKICAgICAgICB2YXIgcG9wdXBfZGZhOWU2NmY1MTFjNGQ1ZWI4YTg5MWM3OWUyMzgyYzYgPSBMLnBvcHVwKHsibWF4V2lkdGgiOiAiMTAwJSJ9KTsKCiAgICAgICAgCiAgICAgICAgICAgIHZhciBodG1sX2FlYjg1ZDAxN2ZlMjQ5YmFiNTczYTY4OWFkZTQwNzdmID0gJChgPGRpdiBpZD0iaHRtbF9hZWI4NWQwMTdmZTI0OWJhYjU3M2E2ODlhZGU0MDc3ZiIgc3R5bGU9IndpZHRoOiAxMDAuMCU7IGhlaWdodDogMTAwLjAlOyI+WW9yayBNaWxscyAsIFNpbHZlciBIaWxsczwvZGl2PmApWzBdOwogICAgICAgICAgICBwb3B1cF9kZmE5ZTY2ZjUxMWM0ZDVlYjhhODkxYzc5ZTIzODJjNi5zZXRDb250ZW50KGh0bWxfYWViODVkMDE3ZmUyNDliYWI1NzNhNjg5YWRlNDA3N2YpOwogICAgICAgIAoKICAgICAgICBtYXJrZXJfOGY1YzQ1ZDhiYWMwNDYzYzhmMTY1Y2ExMzE1YWQwMzcuYmluZFBvcHVwKHBvcHVwX2RmYTllNjZmNTExYzRkNWViOGE4OTFjNzllMjM4MmM2KQogICAgICAgIDsKCiAgICAgICAgCiAgICAKICAgIAogICAgICAgICAgICB2YXIgbWFya2VyXzczNTFkOTJlMWY3NjQxMTdhNjAzMThlNzQ4MGFlY2MxID0gTC5tYXJrZXIoCiAgICAgICAgICAgICAgICBbNDMuNzM5MDE0NiwgLTc5LjUwNjk0MzZdLAogICAgICAgICAgICAgICAge30KICAgICAgICAgICAgKS5hZGRUbyhtYXBfYWQ0ZDY4Y2JiYmViNGM0MjhhM2JjZjA2MmFkNzE2MTQpOwogICAgICAgIAogICAgCiAgICAgICAgdmFyIHBvcHVwXzIzMmI2ZjBiOTJkMjRmZDI5MzA0OTFjMzk5ZjA2Y2QxID0gTC5wb3B1cCh7Im1heFdpZHRoIjogIjEwMCUifSk7CgogICAgICAgIAogICAgICAgICAgICB2YXIgaHRtbF84MDU3NzFlY2ZlYWU0NGEwODRiN2RiNWZlNWE4ZjZjNiA9ICQoYDxkaXYgaWQ9Imh0bWxfODA1NzcxZWNmZWFlNDRhMDg0YjdkYjVmZTVhOGY2YzYiIHN0eWxlPSJ3aWR0aDogMTAwLjAlOyBoZWlnaHQ6IDEwMC4wJTsiPkRvd25zdmlldzwvZGl2PmApWzBdOwogICAgICAgICAgICBwb3B1cF8yMzJiNmYwYjkyZDI0ZmQyOTMwNDkxYzM5OWYwNmNkMS5zZXRDb250ZW50KGh0bWxfODA1NzcxZWNmZWFlNDRhMDg0YjdkYjVmZTVhOGY2YzYpOwogICAgICAgIAoKICAgICAgICBtYXJrZXJfNzM1MWQ5MmUxZjc2NDExN2E2MDMxOGU3NDgwYWVjYzEuYmluZFBvcHVwKHBvcHVwXzIzMmI2ZjBiOTJkMjRmZDI5MzA0OTFjMzk5ZjA2Y2QxKQogICAgICAgIDsKCiAgICAgICAgCiAgICAKICAgIAogICAgICAgICAgICB2YXIgbWFya2VyXzgwOWE5MDJkNzc1MDRhOTNiNTYyNGU5NWZmMmJhNTJmID0gTC5tYXJrZXIoCiAgICAgICAgICAgICAgICBbNDMuNjY4OTk4NSwgLTc5LjMxNTU3MTU5OTk5OTk4XSwKICAgICAgICAgICAgICAgIHt9CiAgICAgICAgICAgICkuYWRkVG8obWFwX2FkNGQ2OGNiYmJlYjRjNDI4YTNiY2YwNjJhZDcxNjE0KTsKICAgICAgICAKICAgIAogICAgICAgIHZhciBwb3B1cF80MTc2ZmQ4NGQ0ZmM0MzAzODRlN2Y5MTE2YmRjNDQyZSA9IEwucG9wdXAoeyJtYXhXaWR0aCI6ICIxMDAlIn0pOwoKICAgICAgICAKICAgICAgICAgICAgdmFyIGh0bWxfNzYyODUyZTYwMDAxNDI1NTgxYjg4YjY1MDJlY2UyOTkgPSAkKGA8ZGl2IGlkPSJodG1sXzc2Mjg1MmU2MDAwMTQyNTU4MWI4OGI2NTAyZWNlMjk5IiBzdHlsZT0id2lkdGg6IDEwMC4wJTsgaGVpZ2h0OiAxMDAuMCU7Ij5JbmRpYSBCYXphYXIgLCBUaGUgQmVhY2hlcyBXZXN0PC9kaXY+YClbMF07CiAgICAgICAgICAgIHBvcHVwXzQxNzZmZDg0ZDRmYzQzMDM4NGU3ZjkxMTZiZGM0NDJlLnNldENvbnRlbnQoaHRtbF83NjI4NTJlNjAwMDE0MjU1ODFiODhiNjUwMmVjZTI5OSk7CiAgICAgICAgCgogICAgICAgIG1hcmtlcl84MDlhOTAyZDc3NTA0YTkzYjU2MjRlOTVmZjJiYTUyZi5iaW5kUG9wdXAocG9wdXBfNDE3NmZkODRkNGZjNDMwMzg0ZTdmOTExNmJkYzQ0MmUpCiAgICAgICAgOwoKICAgICAgICAKICAgIAogICAgCiAgICAgICAgICAgIHZhciBtYXJrZXJfY2Q0N2ZkYTUxNTY2NDZjNmFkY2E2MWE5NWI3MzE3YTggPSBMLm1hcmtlcigKICAgICAgICAgICAgICAgIFs0My42NDgxOTg1LCAtNzkuMzc5ODE2OTAwMDAwMDFdLAogICAgICAgICAgICAgICAge30KICAgICAgICAgICAgKS5hZGRUbyhtYXBfYWQ0ZDY4Y2JiYmViNGM0MjhhM2JjZjA2MmFkNzE2MTQpOwogICAgICAgIAogICAgCiAgICAgICAgdmFyIHBvcHVwX2Q1NjAyOTZlMDk4ZTQ1N2Q4NjZmZDM5Yjc3ZTE1MTY4ID0gTC5wb3B1cCh7Im1heFdpZHRoIjogIjEwMCUifSk7CgogICAgICAgIAogICAgICAgICAgICB2YXIgaHRtbF81ZGFjMjNjM2MzMWE0Y2JiOWM4OGEyMmUxMzgzMjFjNyA9ICQoYDxkaXYgaWQ9Imh0bWxfNWRhYzIzYzNjMzFhNGNiYjljODhhMjJlMTM4MzIxYzciIHN0eWxlPSJ3aWR0aDogMTAwLjAlOyBoZWlnaHQ6IDEwMC4wJTsiPkNvbW1lcmNlIENvdXJ0ICwgVmljdG9yaWEgSG90ZWw8L2Rpdj5gKVswXTsKICAgICAgICAgICAgcG9wdXBfZDU2MDI5NmUwOThlNDU3ZDg2NmZkMzliNzdlMTUxNjguc2V0Q29udGVudChodG1sXzVkYWMyM2MzYzMxYTRjYmI5Yzg4YTIyZTEzODMyMWM3KTsKICAgICAgICAKCiAgICAgICAgbWFya2VyX2NkNDdmZGE1MTU2NjQ2YzZhZGNhNjFhOTViNzMxN2E4LmJpbmRQb3B1cChwb3B1cF9kNTYwMjk2ZTA5OGU0NTdkODY2ZmQzOWI3N2UxNTE2OCkKICAgICAgICA7CgogICAgICAgIAogICAgCiAgICAKICAgICAgICAgICAgdmFyIG1hcmtlcl9kZTgwMGNmNDAzNGU0ZDc2OWZhMzk5YjE2OGNhYmQ3OSA9IEwubWFya2VyKAogICAgICAgICAgICAgICAgWzQzLjcxMzc1NjIwMDAwMDAwNiwgLTc5LjQ5MDA3MzhdLAogICAgICAgICAgICAgICAge30KICAgICAgICAgICAgKS5hZGRUbyhtYXBfYWQ0ZDY4Y2JiYmViNGM0MjhhM2JjZjA2MmFkNzE2MTQpOwogICAgICAgIAogICAgCiAgICAgICAgdmFyIHBvcHVwX2Q2ZjQyY2JjYzczMzRhYmE4Y2E0ZjdiYmRjOWE0Mzg4ID0gTC5wb3B1cCh7Im1heFdpZHRoIjogIjEwMCUifSk7CgogICAgICAgIAogICAgICAgICAgICB2YXIgaHRtbF9hNmE4MzM4NDcxMmM0ZTZmOGY2ZGNkZmRjNGIwMWUzYyA9ICQoYDxkaXYgaWQ9Imh0bWxfYTZhODMzODQ3MTJjNGU2ZjhmNmRjZGZkYzRiMDFlM2MiIHN0eWxlPSJ3aWR0aDogMTAwLjAlOyBoZWlnaHQ6IDEwMC4wJTsiPk5vcnRoIFBhcmsgLCBNYXBsZSBMZWFmIFBhcmsgLCBVcHdvb2QgUGFyazwvZGl2PmApWzBdOwogICAgICAgICAgICBwb3B1cF9kNmY0MmNiY2M3MzM0YWJhOGNhNGY3YmJkYzlhNDM4OC5zZXRDb250ZW50KGh0bWxfYTZhODMzODQ3MTJjNGU2ZjhmNmRjZGZkYzRiMDFlM2MpOwogICAgICAgIAoKICAgICAgICBtYXJrZXJfZGU4MDBjZjQwMzRlNGQ3NjlmYTM5OWIxNjhjYWJkNzkuYmluZFBvcHVwKHBvcHVwX2Q2ZjQyY2JjYzczMzRhYmE4Y2E0ZjdiYmRjOWE0Mzg4KQogICAgICAgIDsKCiAgICAgICAgCiAgICAKICAgIAogICAgICAgICAgICB2YXIgbWFya2VyX2Y4NGY3ZjYzMWYyMDQ4YzRiYTcwZjEwNmJmMDI2ZjhiID0gTC5tYXJrZXIoCiAgICAgICAgICAgICAgICBbNDMuNzU2MzAzMywgLTc5LjU2NTk2MzI5OTk5OTk5XSwKICAgICAgICAgICAgICAgIHt9CiAgICAgICAgICAgICkuYWRkVG8obWFwX2FkNGQ2OGNiYmJlYjRjNDI4YTNiY2YwNjJhZDcxNjE0KTsKICAgICAgICAKICAgIAogICAgICAgIHZhciBwb3B1cF82ZjdmODhlNTExM2E0MDk3Yjk1MWVhZTBiMmRiZmJlMiA9IEwucG9wdXAoeyJtYXhXaWR0aCI6ICIxMDAlIn0pOwoKICAgICAgICAKICAgICAgICAgICAgdmFyIGh0bWxfYjQxZDhjNjNhMjU5NDExMDk5OGM4OWM2MWJmNDQ4NDkgPSAkKGA8ZGl2IGlkPSJodG1sX2I0MWQ4YzYzYTI1OTQxMTA5OThjODljNjFiZjQ0ODQ5IiBzdHlsZT0id2lkdGg6IDEwMC4wJTsgaGVpZ2h0OiAxMDAuMCU7Ij5IdW1iZXIgU3VtbWl0PC9kaXY+YClbMF07CiAgICAgICAgICAgIHBvcHVwXzZmN2Y4OGU1MTEzYTQwOTdiOTUxZWFlMGIyZGJmYmUyLnNldENvbnRlbnQoaHRtbF9iNDFkOGM2M2EyNTk0MTEwOTk4Yzg5YzYxYmY0NDg0OSk7CiAgICAgICAgCgogICAgICAgIG1hcmtlcl9mODRmN2Y2MzFmMjA0OGM0YmE3MGYxMDZiZjAyNmY4Yi5iaW5kUG9wdXAocG9wdXBfNmY3Zjg4ZTUxMTNhNDA5N2I5NTFlYWUwYjJkYmZiZTIpCiAgICAgICAgOwoKICAgICAgICAKICAgIAogICAgCiAgICAgICAgICAgIHZhciBtYXJrZXJfNjA5NTBkM2QwYWEzNGRiYmJmMzUzYjc4Mzg3OGExOGUgPSBMLm1hcmtlcigKICAgICAgICAgICAgICAgIFs0My43MTYzMTYsIC03OS4yMzk0NzYwOTk5OTk5OV0sCiAgICAgICAgICAgICAgICB7fQogICAgICAgICAgICApLmFkZFRvKG1hcF9hZDRkNjhjYmJiZWI0YzQyOGEzYmNmMDYyYWQ3MTYxNCk7CiAgICAgICAgCiAgICAKICAgICAgICB2YXIgcG9wdXBfZDZmN2Q2YWNmNDZmNGMxZmI5NjAyOTkzYzgzN2JjNzQgPSBMLnBvcHVwKHsibWF4V2lkdGgiOiAiMTAwJSJ9KTsKCiAgICAgICAgCiAgICAgICAgICAgIHZhciBodG1sXzg2NWU2MTIyZWY5MDQxMzNiYTc2OWRmZWYxOTAyMjk3ID0gJChgPGRpdiBpZD0iaHRtbF84NjVlNjEyMmVmOTA0MTMzYmE3NjlkZmVmMTkwMjI5NyIgc3R5bGU9IndpZHRoOiAxMDAuMCU7IGhlaWdodDogMTAwLjAlOyI+Q2xpZmZzaWRlICwgQ2xpZmZjcmVzdCAsIFNjYXJib3JvdWdoIFZpbGxhZ2UgV2VzdDwvZGl2PmApWzBdOwogICAgICAgICAgICBwb3B1cF9kNmY3ZDZhY2Y0NmY0YzFmYjk2MDI5OTNjODM3YmM3NC5zZXRDb250ZW50KGh0bWxfODY1ZTYxMjJlZjkwNDEzM2JhNzY5ZGZlZjE5MDIyOTcpOwogICAgICAgIAoKICAgICAgICBtYXJrZXJfNjA5NTBkM2QwYWEzNGRiYmJmMzUzYjc4Mzg3OGExOGUuYmluZFBvcHVwKHBvcHVwX2Q2ZjdkNmFjZjQ2ZjRjMWZiOTYwMjk5M2M4MzdiYzc0KQogICAgICAgIDsKCiAgICAgICAgCiAgICAKICAgIAogICAgICAgICAgICB2YXIgbWFya2VyX2ZmYTIyODgyODY4YTQ4MTBhYmFjZGVjYTBkMjhhN2VlID0gTC5tYXJrZXIoCiAgICAgICAgICAgICAgICBbNDMuNzg5MDUzLCAtNzkuNDA4NDkyNzk5OTk5OTldLAogICAgICAgICAgICAgICAge30KICAgICAgICAgICAgKS5hZGRUbyhtYXBfYWQ0ZDY4Y2JiYmViNGM0MjhhM2JjZjA2MmFkNzE2MTQpOwogICAgICAgIAogICAgCiAgICAgICAgdmFyIHBvcHVwXzU0ZTVmYTVjYzQ2ZDRlNzdiYzEyMjA4OTc5N2MwYTE1ID0gTC5wb3B1cCh7Im1heFdpZHRoIjogIjEwMCUifSk7CgogICAgICAgIAogICAgICAgICAgICB2YXIgaHRtbF8xYTJlNDdhYmZhNmY0YzkxYmU5M2Q5MjI0MzFkNjllYSA9ICQoYDxkaXYgaWQ9Imh0bWxfMWEyZTQ3YWJmYTZmNGM5MWJlOTNkOTIyNDMxZDY5ZWEiIHN0eWxlPSJ3aWR0aDogMTAwLjAlOyBoZWlnaHQ6IDEwMC4wJTsiPldpbGxvd2RhbGUgLCBOZXd0b25icm9vazwvZGl2PmApWzBdOwogICAgICAgICAgICBwb3B1cF81NGU1ZmE1Y2M0NmQ0ZTc3YmMxMjIwODk3OTdjMGExNS5zZXRDb250ZW50KGh0bWxfMWEyZTQ3YWJmYTZmNGM5MWJlOTNkOTIyNDMxZDY5ZWEpOwogICAgICAgIAoKICAgICAgICBtYXJrZXJfZmZhMjI4ODI4NjhhNDgxMGFiYWNkZWNhMGQyOGE3ZWUuYmluZFBvcHVwKHBvcHVwXzU0ZTVmYTVjYzQ2ZDRlNzdiYzEyMjA4OTc5N2MwYTE1KQogICAgICAgIDsKCiAgICAgICAgCiAgICAKICAgIAogICAgICAgICAgICB2YXIgbWFya2VyX2RjOWJjM2Q2MDliNDQ1ODY4OTM2ZWMyZWE4MWEzNWFlID0gTC5tYXJrZXIoCiAgICAgICAgICAgICAgICBbNDMuNzI4NDk2NCwgLTc5LjQ5NTY5NzQwMDAwMDAxXSwKICAgICAgICAgICAgICAgIHt9CiAgICAgICAgICAgICkuYWRkVG8obWFwX2FkNGQ2OGNiYmJlYjRjNDI4YTNiY2YwNjJhZDcxNjE0KTsKICAgICAgICAKICAgIAogICAgICAgIHZhciBwb3B1cF9hODM1Mzg2ODhhYmQ0NzY3ODEyOGUwZDMyZjVlZTg5NCA9IEwucG9wdXAoeyJtYXhXaWR0aCI6ICIxMDAlIn0pOwoKICAgICAgICAKICAgICAgICAgICAgdmFyIGh0bWxfNjJhNjVjNWQzNTExNDIyOTg5NTJjMjBiYWU2Mjc2NWEgPSAkKGA8ZGl2IGlkPSJodG1sXzYyYTY1YzVkMzUxMTQyMjk4OTUyYzIwYmFlNjI3NjVhIiBzdHlsZT0id2lkdGg6IDEwMC4wJTsgaGVpZ2h0OiAxMDAuMCU7Ij5Eb3duc3ZpZXc8L2Rpdj5gKVswXTsKICAgICAgICAgICAgcG9wdXBfYTgzNTM4Njg4YWJkNDc2NzgxMjhlMGQzMmY1ZWU4OTQuc2V0Q29udGVudChodG1sXzYyYTY1YzVkMzUxMTQyMjk4OTUyYzIwYmFlNjI3NjVhKTsKICAgICAgICAKCiAgICAgICAgbWFya2VyX2RjOWJjM2Q2MDliNDQ1ODY4OTM2ZWMyZWE4MWEzNWFlLmJpbmRQb3B1cChwb3B1cF9hODM1Mzg2ODhhYmQ0NzY3ODEyOGUwZDMyZjVlZTg5NCkKICAgICAgICA7CgogICAgICAgIAogICAgCiAgICAKICAgICAgICAgICAgdmFyIG1hcmtlcl8yYTc3ZmNhOWZlMzM0NzRmYmFlMzE2ZTc1MzIxMWU2YyA9IEwubWFya2VyKAogICAgICAgICAgICAgICAgWzQzLjY1OTUyNTUsIC03OS4zNDA5MjNdLAogICAgICAgICAgICAgICAge30KICAgICAgICAgICAgKS5hZGRUbyhtYXBfYWQ0ZDY4Y2JiYmViNGM0MjhhM2JjZjA2MmFkNzE2MTQpOwogICAgICAgIAogICAgCiAgICAgICAgdmFyIHBvcHVwXzkyYTAyZDg5MzhjNzQ5YWU5YzhhMDAyYWJmYzQ4Y2QwID0gTC5wb3B1cCh7Im1heFdpZHRoIjogIjEwMCUifSk7CgogICAgICAgIAogICAgICAgICAgICB2YXIgaHRtbF9iZjE0ZWRmYTNlYmQ0ZDU5YTA3MzIzYzU3NTdmNTQ0YSA9ICQoYDxkaXYgaWQ9Imh0bWxfYmYxNGVkZmEzZWJkNGQ1OWEwNzMyM2M1NzU3ZjU0NGEiIHN0eWxlPSJ3aWR0aDogMTAwLjAlOyBoZWlnaHQ6IDEwMC4wJTsiPlN0dWRpbyBEaXN0cmljdDwvZGl2PmApWzBdOwogICAgICAgICAgICBwb3B1cF85MmEwMmQ4OTM4Yzc0OWFlOWM4YTAwMmFiZmM0OGNkMC5zZXRDb250ZW50KGh0bWxfYmYxNGVkZmEzZWJkNGQ1OWEwNzMyM2M1NzU3ZjU0NGEpOwogICAgICAgIAoKICAgICAgICBtYXJrZXJfMmE3N2ZjYTlmZTMzNDc0ZmJhZTMxNmU3NTMyMTFlNmMuYmluZFBvcHVwKHBvcHVwXzkyYTAyZDg5MzhjNzQ5YWU5YzhhMDAyYWJmYzQ4Y2QwKQogICAgICAgIDsKCiAgICAgICAgCiAgICAKICAgIAogICAgICAgICAgICB2YXIgbWFya2VyXzgwMTYyYmE0MWM2YjRhZGRhNWY2MDYzOTgwMjUyZTliID0gTC5tYXJrZXIoCiAgICAgICAgICAgICAgICBbNDMuNzMzMjgyNSwgLTc5LjQxOTc0OTddLAogICAgICAgICAgICAgICAge30KICAgICAgICAgICAgKS5hZGRUbyhtYXBfYWQ0ZDY4Y2JiYmViNGM0MjhhM2JjZjA2MmFkNzE2MTQpOwogICAgICAgIAogICAgCiAgICAgICAgdmFyIHBvcHVwXzRmYWU2Y2QyM2VjMjQ3OGE5OWJmMDAzMDM2ZmZjYjIyID0gTC5wb3B1cCh7Im1heFdpZHRoIjogIjEwMCUifSk7CgogICAgICAgIAogICAgICAgICAgICB2YXIgaHRtbF9iMjAxZjQ5YmM4ZTY0NGM1YmQ0ODA4M2NmNGVjYWFjZSA9ICQoYDxkaXYgaWQ9Imh0bWxfYjIwMWY0OWJjOGU2NDRjNWJkNDgwODNjZjRlY2FhY2UiIHN0eWxlPSJ3aWR0aDogMTAwLjAlOyBoZWlnaHQ6IDEwMC4wJTsiPkJlZGZvcmQgUGFyayAsIExhd3JlbmNlIE1hbm9yIEVhc3Q8L2Rpdj5gKVswXTsKICAgICAgICAgICAgcG9wdXBfNGZhZTZjZDIzZWMyNDc4YTk5YmYwMDMwMzZmZmNiMjIuc2V0Q29udGVudChodG1sX2IyMDFmNDliYzhlNjQ0YzViZDQ4MDgzY2Y0ZWNhYWNlKTsKICAgICAgICAKCiAgICAgICAgbWFya2VyXzgwMTYyYmE0MWM2YjRhZGRhNWY2MDYzOTgwMjUyZTliLmJpbmRQb3B1cChwb3B1cF80ZmFlNmNkMjNlYzI0NzhhOTliZjAwMzAzNmZmY2IyMikKICAgICAgICA7CgogICAgICAgIAogICAgCiAgICAKICAgICAgICAgICAgdmFyIG1hcmtlcl8wZGIxZmRkNTdkYmY0MTIwYjMxMjRhNWVlZTQ2MDcyMCA9IEwubWFya2VyKAogICAgICAgICAgICAgICAgWzQzLjY5MTExNTgsIC03OS40NzYwMTMyOTk5OTk5OV0sCiAgICAgICAgICAgICAgICB7fQogICAgICAgICAgICApLmFkZFRvKG1hcF9hZDRkNjhjYmJiZWI0YzQyOGEzYmNmMDYyYWQ3MTYxNCk7CiAgICAgICAgCiAgICAKICAgICAgICB2YXIgcG9wdXBfMTQyNTE0ZjFkNGNiNDM0NjlkOGIxY2U4MGNiMDkyMDQgPSBMLnBvcHVwKHsibWF4V2lkdGgiOiAiMTAwJSJ9KTsKCiAgICAgICAgCiAgICAgICAgICAgIHZhciBodG1sX2Y1ZTQ5MTQ0ZjFlODRjZTE5MjU2ZGI4NGYyNThjZTAyID0gJChgPGRpdiBpZD0iaHRtbF9mNWU0OTE0NGYxZTg0Y2UxOTI1NmRiODRmMjU4Y2UwMiIgc3R5bGU9IndpZHRoOiAxMDAuMCU7IGhlaWdodDogMTAwLjAlOyI+RGVsIFJheSAsIE1vdW50IERlbm5pcyAsIEtlZWxzZGFsZSBhbmQgU2lsdmVydGhvcm48L2Rpdj5gKVswXTsKICAgICAgICAgICAgcG9wdXBfMTQyNTE0ZjFkNGNiNDM0NjlkOGIxY2U4MGNiMDkyMDQuc2V0Q29udGVudChodG1sX2Y1ZTQ5MTQ0ZjFlODRjZTE5MjU2ZGI4NGYyNThjZTAyKTsKICAgICAgICAKCiAgICAgICAgbWFya2VyXzBkYjFmZGQ1N2RiZjQxMjBiMzEyNGE1ZWVlNDYwNzIwLmJpbmRQb3B1cChwb3B1cF8xNDI1MTRmMWQ0Y2I0MzQ2OWQ4YjFjZTgwY2IwOTIwNCkKICAgICAgICA7CgogICAgICAgIAogICAgCiAgICAKICAgICAgICAgICAgdmFyIG1hcmtlcl9jNTU0MzFiNjM4Yjc0Mzk0ODUxMjExZjE5NDI4MWE5NCA9IEwubWFya2VyKAogICAgICAgICAgICAgICAgWzQzLjcyNDc2NTksIC03OS41MzIyNDI0MDAwMDAwMl0sCiAgICAgICAgICAgICAgICB7fQogICAgICAgICAgICApLmFkZFRvKG1hcF9hZDRkNjhjYmJiZWI0YzQyOGEzYmNmMDYyYWQ3MTYxNCk7CiAgICAgICAgCiAgICAKICAgICAgICB2YXIgcG9wdXBfNTI1NDM0OGE0M2FlNDIyNmI4MzZhNDMxMzQwNjk4NWYgPSBMLnBvcHVwKHsibWF4V2lkdGgiOiAiMTAwJSJ9KTsKCiAgICAgICAgCiAgICAgICAgICAgIHZhciBodG1sX2FjOTA1NWY3NjcyMTRmZTU4ZWIxZDYzZmMzZTUzMGQzID0gJChgPGRpdiBpZD0iaHRtbF9hYzkwNTVmNzY3MjE0ZmU1OGViMWQ2M2ZjM2U1MzBkMyIgc3R5bGU9IndpZHRoOiAxMDAuMCU7IGhlaWdodDogMTAwLjAlOyI+SHVtYmVybGVhICwgRW1lcnk8L2Rpdj5gKVswXTsKICAgICAgICAgICAgcG9wdXBfNTI1NDM0OGE0M2FlNDIyNmI4MzZhNDMxMzQwNjk4NWYuc2V0Q29udGVudChodG1sX2FjOTA1NWY3NjcyMTRmZTU4ZWIxZDYzZmMzZTUzMGQzKTsKICAgICAgICAKCiAgICAgICAgbWFya2VyX2M1NTQzMWI2MzhiNzQzOTQ4NTEyMTFmMTk0MjgxYTk0LmJpbmRQb3B1cChwb3B1cF81MjU0MzQ4YTQzYWU0MjI2YjgzNmE0MzEzNDA2OTg1ZikKICAgICAgICA7CgogICAgICAgIAogICAgCiAgICAKICAgICAgICAgICAgdmFyIG1hcmtlcl9hM2Q0M2ZhMjQzODY0OTIxYTdkY2NlMTcwMTc0NDIxNiA9IEwubWFya2VyKAogICAgICAgICAgICAgICAgWzQzLjY5MjY1NzAwMDAwMDAwNCwgLTc5LjI2NDg0ODFdLAogICAgICAgICAgICAgICAge30KICAgICAgICAgICAgKS5hZGRUbyhtYXBfYWQ0ZDY4Y2JiYmViNGM0MjhhM2JjZjA2MmFkNzE2MTQpOwogICAgICAgIAogICAgCiAgICAgICAgdmFyIHBvcHVwXzdjYWExYmUzZjgxMjQyYzY4MDIzZTBiMmQ3OGNiMDE0ID0gTC5wb3B1cCh7Im1heFdpZHRoIjogIjEwMCUifSk7CgogICAgICAgIAogICAgICAgICAgICB2YXIgaHRtbF84ZjliOWRhYWZhODE0OGVhOTRmYTlhNzEyOTVlNTY4NiA9ICQoYDxkaXYgaWQ9Imh0bWxfOGY5YjlkYWFmYTgxNDhlYTk0ZmE5YTcxMjk1ZTU2ODYiIHN0eWxlPSJ3aWR0aDogMTAwLjAlOyBoZWlnaHQ6IDEwMC4wJTsiPkJpcmNoIENsaWZmICwgQ2xpZmZzaWRlIFdlc3Q8L2Rpdj5gKVswXTsKICAgICAgICAgICAgcG9wdXBfN2NhYTFiZTNmODEyNDJjNjgwMjNlMGIyZDc4Y2IwMTQuc2V0Q29udGVudChodG1sXzhmOWI5ZGFhZmE4MTQ4ZWE5NGZhOWE3MTI5NWU1Njg2KTsKICAgICAgICAKCiAgICAgICAgbWFya2VyX2EzZDQzZmEyNDM4NjQ5MjFhN2RjY2UxNzAxNzQ0MjE2LmJpbmRQb3B1cChwb3B1cF83Y2FhMWJlM2Y4MTI0MmM2ODAyM2UwYjJkNzhjYjAxNCkKICAgICAgICA7CgogICAgICAgIAogICAgCiAgICAKICAgICAgICAgICAgdmFyIG1hcmtlcl84NzhhODgzOWYyNzE0MThkOWU1MGM1MTAxYmJiZTY2MCA9IEwubWFya2VyKAogICAgICAgICAgICAgICAgWzQzLjc3MDExOTksIC03OS40MDg0OTI3OTk5OTk5OV0sCiAgICAgICAgICAgICAgICB7fQogICAgICAgICAgICApLmFkZFRvKG1hcF9hZDRkNjhjYmJiZWI0YzQyOGEzYmNmMDYyYWQ3MTYxNCk7CiAgICAgICAgCiAgICAKICAgICAgICB2YXIgcG9wdXBfZjVjMGI0MmFhYTIxNGExM2E4NDE2MDFkZGQ2MTQzODIgPSBMLnBvcHVwKHsibWF4V2lkdGgiOiAiMTAwJSJ9KTsKCiAgICAgICAgCiAgICAgICAgICAgIHZhciBodG1sXzFjNDU5NmRhYjU5YjQxZmZiMGEyMWQ1OTliMGJiODkwID0gJChgPGRpdiBpZD0iaHRtbF8xYzQ1OTZkYWI1OWI0MWZmYjBhMjFkNTk5YjBiYjg5MCIgc3R5bGU9IndpZHRoOiAxMDAuMCU7IGhlaWdodDogMTAwLjAlOyI+V2lsbG93ZGFsZTwvZGl2PmApWzBdOwogICAgICAgICAgICBwb3B1cF9mNWMwYjQyYWFhMjE0YTEzYTg0MTYwMWRkZDYxNDM4Mi5zZXRDb250ZW50KGh0bWxfMWM0NTk2ZGFiNTliNDFmZmIwYTIxZDU5OWIwYmI4OTApOwogICAgICAgIAoKICAgICAgICBtYXJrZXJfODc4YTg4MzlmMjcxNDE4ZDllNTBjNTEwMWJiYmU2NjAuYmluZFBvcHVwKHBvcHVwX2Y1YzBiNDJhYWEyMTRhMTNhODQxNjAxZGRkNjE0MzgyKQogICAgICAgIDsKCiAgICAgICAgCiAgICAKICAgIAogICAgICAgICAgICB2YXIgbWFya2VyXzk2ZDUyMWI4ZjhmZTRiMzY4Mjk3MjgzZjhlYzNjZjAzID0gTC5tYXJrZXIoCiAgICAgICAgICAgICAgICBbNDMuNzYxNjMxMywgLTc5LjUyMDk5OTQwMDAwMDAxXSwKICAgICAgICAgICAgICAgIHt9CiAgICAgICAgICAgICkuYWRkVG8obWFwX2FkNGQ2OGNiYmJlYjRjNDI4YTNiY2YwNjJhZDcxNjE0KTsKICAgICAgICAKICAgIAogICAgICAgIHZhciBwb3B1cF9kZDlkZmY2OWJjZmU0N2I4OGEzNmYxNmI5MzUxMmFkOCA9IEwucG9wdXAoeyJtYXhXaWR0aCI6ICIxMDAlIn0pOwoKICAgICAgICAKICAgICAgICAgICAgdmFyIGh0bWxfZTM1MWQ3NmEzYTk0NDhmM2E0MmU0MDAzZmQ5MDAyOTMgPSAkKGA8ZGl2IGlkPSJodG1sX2UzNTFkNzZhM2E5NDQ4ZjNhNDJlNDAwM2ZkOTAwMjkzIiBzdHlsZT0id2lkdGg6IDEwMC4wJTsgaGVpZ2h0OiAxMDAuMCU7Ij5Eb3duc3ZpZXc8L2Rpdj5gKVswXTsKICAgICAgICAgICAgcG9wdXBfZGQ5ZGZmNjliY2ZlNDdiODhhMzZmMTZiOTM1MTJhZDguc2V0Q29udGVudChodG1sX2UzNTFkNzZhM2E5NDQ4ZjNhNDJlNDAwM2ZkOTAwMjkzKTsKICAgICAgICAKCiAgICAgICAgbWFya2VyXzk2ZDUyMWI4ZjhmZTRiMzY4Mjk3MjgzZjhlYzNjZjAzLmJpbmRQb3B1cChwb3B1cF9kZDlkZmY2OWJjZmU0N2I4OGEzNmYxNmI5MzUxMmFkOCkKICAgICAgICA7CgogICAgICAgIAogICAgCiAgICAKICAgICAgICAgICAgdmFyIG1hcmtlcl84ZjMxNWY2MDA1Y2E0MTZlODUzYzM0N2FkMmRhM2QzZSA9IEwubWFya2VyKAogICAgICAgICAgICAgICAgWzQzLjcyODAyMDUsIC03OS4zODg3OTAxXSwKICAgICAgICAgICAgICAgIHt9CiAgICAgICAgICAgICkuYWRkVG8obWFwX2FkNGQ2OGNiYmJlYjRjNDI4YTNiY2YwNjJhZDcxNjE0KTsKICAgICAgICAKICAgIAogICAgICAgIHZhciBwb3B1cF9iNzg2ZTA4NWExODU0NDQ3OTI0YmJhODYxNGU4YTVhZiA9IEwucG9wdXAoeyJtYXhXaWR0aCI6ICIxMDAlIn0pOwoKICAgICAgICAKICAgICAgICAgICAgdmFyIGh0bWxfZTE1NDU5NjFiNTRmNDRjMjgyNjIzZDhmYzJmYzU2YmQgPSAkKGA8ZGl2IGlkPSJodG1sX2UxNTQ1OTYxYjU0ZjQ0YzI4MjYyM2Q4ZmMyZmM1NmJkIiBzdHlsZT0id2lkdGg6IDEwMC4wJTsgaGVpZ2h0OiAxMDAuMCU7Ij5MYXdyZW5jZSBQYXJrPC9kaXY+YClbMF07CiAgICAgICAgICAgIHBvcHVwX2I3ODZlMDg1YTE4NTQ0NDc5MjRiYmE4NjE0ZThhNWFmLnNldENvbnRlbnQoaHRtbF9lMTU0NTk2MWI1NGY0NGMyODI2MjNkOGZjMmZjNTZiZCk7CiAgICAgICAgCgogICAgICAgIG1hcmtlcl84ZjMxNWY2MDA1Y2E0MTZlODUzYzM0N2FkMmRhM2QzZS5iaW5kUG9wdXAocG9wdXBfYjc4NmUwODVhMTg1NDQ0NzkyNGJiYTg2MTRlOGE1YWYpCiAgICAgICAgOwoKICAgICAgICAKICAgIAogICAgCiAgICAgICAgICAgIHZhciBtYXJrZXJfZDhkYjMzMmVkNmZiNDk3N2FiM2Q0YmFhOGIzMjljMTggPSBMLm1hcmtlcigKICAgICAgICAgICAgICAgIFs0My43MTE2OTQ4LCAtNzkuNDE2OTM1NTk5OTk5OTldLAogICAgICAgICAgICAgICAge30KICAgICAgICAgICAgKS5hZGRUbyhtYXBfYWQ0ZDY4Y2JiYmViNGM0MjhhM2JjZjA2MmFkNzE2MTQpOwogICAgICAgIAogICAgCiAgICAgICAgdmFyIHBvcHVwXzg5MjRkZDIzZTc0ZTQ5ZmZiYzMxOTQ3ZjNkYzhkNmI1ID0gTC5wb3B1cCh7Im1heFdpZHRoIjogIjEwMCUifSk7CgogICAgICAgIAogICAgICAgICAgICB2YXIgaHRtbF9iNDBjZDRkZDIxMzE0MjIzOWM5YmU0YTNkNTlmZDlhMyA9ICQoYDxkaXYgaWQ9Imh0bWxfYjQwY2Q0ZGQyMTMxNDIyMzljOWJlNGEzZDU5ZmQ5YTMiIHN0eWxlPSJ3aWR0aDogMTAwLjAlOyBoZWlnaHQ6IDEwMC4wJTsiPlJvc2VsYXduPC9kaXY+YClbMF07CiAgICAgICAgICAgIHBvcHVwXzg5MjRkZDIzZTc0ZTQ5ZmZiYzMxOTQ3ZjNkYzhkNmI1LnNldENvbnRlbnQoaHRtbF9iNDBjZDRkZDIxMzE0MjIzOWM5YmU0YTNkNTlmZDlhMyk7CiAgICAgICAgCgogICAgICAgIG1hcmtlcl9kOGRiMzMyZWQ2ZmI0OTc3YWIzZDRiYWE4YjMyOWMxOC5iaW5kUG9wdXAocG9wdXBfODkyNGRkMjNlNzRlNDlmZmJjMzE5NDdmM2RjOGQ2YjUpCiAgICAgICAgOwoKICAgICAgICAKICAgIAogICAgCiAgICAgICAgICAgIHZhciBtYXJrZXJfYTJiNjRhYmU5ZGM4NGNlZTllYTdiYTg0YjVlYzkwNTQgPSBMLm1hcmtlcigKICAgICAgICAgICAgICAgIFs0My42NzMxODUyOTk5OTk5OSwgLTc5LjQ4NzI2MTkwMDAwMDAxXSwKICAgICAgICAgICAgICAgIHt9CiAgICAgICAgICAgICkuYWRkVG8obWFwX2FkNGQ2OGNiYmJlYjRjNDI4YTNiY2YwNjJhZDcxNjE0KTsKICAgICAgICAKICAgIAogICAgICAgIHZhciBwb3B1cF8wNjYyNmU3ZTFkNDc0YTI1YWJiMzQzYmMxNTY5NGM3YyA9IEwucG9wdXAoeyJtYXhXaWR0aCI6ICIxMDAlIn0pOwoKICAgICAgICAKICAgICAgICAgICAgdmFyIGh0bWxfZGNlNTc4NmQ2NGM2NDMzNWFhZjAzYTMxZDk0ZGUxYWYgPSAkKGA8ZGl2IGlkPSJodG1sX2RjZTU3ODZkNjRjNjQzMzVhYWYwM2EzMWQ5NGRlMWFmIiBzdHlsZT0id2lkdGg6IDEwMC4wJTsgaGVpZ2h0OiAxMDAuMCU7Ij5SdW5ueW1lZGUgLCBUaGUgSnVuY3Rpb24gTm9ydGg8L2Rpdj5gKVswXTsKICAgICAgICAgICAgcG9wdXBfMDY2MjZlN2UxZDQ3NGEyNWFiYjM0M2JjMTU2OTRjN2Muc2V0Q29udGVudChodG1sX2RjZTU3ODZkNjRjNjQzMzVhYWYwM2EzMWQ5NGRlMWFmKTsKICAgICAgICAKCiAgICAgICAgbWFya2VyX2EyYjY0YWJlOWRjODRjZWU5ZWE3YmE4NGI1ZWM5MDU0LmJpbmRQb3B1cChwb3B1cF8wNjYyNmU3ZTFkNDc0YTI1YWJiMzQzYmMxNTY5NGM3YykKICAgICAgICA7CgogICAgICAgIAogICAgCiAgICAKICAgICAgICAgICAgdmFyIG1hcmtlcl9mZmEwYjY0NmNkMmQ0OTU4ODc4OWQ0Yzc4N2M1YmNiYyA9IEwubWFya2VyKAogICAgICAgICAgICAgICAgWzQzLjcwNjg3NiwgLTc5LjUxODE4ODQwMDAwMDAxXSwKICAgICAgICAgICAgICAgIHt9CiAgICAgICAgICAgICkuYWRkVG8obWFwX2FkNGQ2OGNiYmJlYjRjNDI4YTNiY2YwNjJhZDcxNjE0KTsKICAgICAgICAKICAgIAogICAgICAgIHZhciBwb3B1cF9hODBiZTM0YzgwOTU0ZjZjYjIwOTZiOWEyYzNjODUyNiA9IEwucG9wdXAoeyJtYXhXaWR0aCI6ICIxMDAlIn0pOwoKICAgICAgICAKICAgICAgICAgICAgdmFyIGh0bWxfMTQwNjU5MTJjMDA0NDZjMjllYThmOTZlYWFiNzYzZjggPSAkKGA8ZGl2IGlkPSJodG1sXzE0MDY1OTEyYzAwNDQ2YzI5ZWE4Zjk2ZWFhYjc2M2Y4IiBzdHlsZT0id2lkdGg6IDEwMC4wJTsgaGVpZ2h0OiAxMDAuMCU7Ij5XZXN0b248L2Rpdj5gKVswXTsKICAgICAgICAgICAgcG9wdXBfYTgwYmUzNGM4MDk1NGY2Y2IyMDk2YjlhMmMzYzg1MjYuc2V0Q29udGVudChodG1sXzE0MDY1OTEyYzAwNDQ2YzI5ZWE4Zjk2ZWFhYjc2M2Y4KTsKICAgICAgICAKCiAgICAgICAgbWFya2VyX2ZmYTBiNjQ2Y2QyZDQ5NTg4Nzg5ZDRjNzg3YzViY2JjLmJpbmRQb3B1cChwb3B1cF9hODBiZTM0YzgwOTU0ZjZjYjIwOTZiOWEyYzNjODUyNikKICAgICAgICA7CgogICAgICAgIAogICAgCiAgICAKICAgICAgICAgICAgdmFyIG1hcmtlcl8yMGY1ZDEzYTJhZjU0NDkzYTZhYTAxYTI5ZjQ5ODM0OCA9IEwubWFya2VyKAogICAgICAgICAgICAgICAgWzQzLjc1NzQwOTYsIC03OS4yNzMzMDQwMDAwMDAwMV0sCiAgICAgICAgICAgICAgICB7fQogICAgICAgICAgICApLmFkZFRvKG1hcF9hZDRkNjhjYmJiZWI0YzQyOGEzYmNmMDYyYWQ3MTYxNCk7CiAgICAgICAgCiAgICAKICAgICAgICB2YXIgcG9wdXBfZThhOWM2MDM2ZWU3NGFkZmI3ZjBjN2E4NTJiZWQ0M2YgPSBMLnBvcHVwKHsibWF4V2lkdGgiOiAiMTAwJSJ9KTsKCiAgICAgICAgCiAgICAgICAgICAgIHZhciBodG1sXzljZmRhZGQyZTQ5ZTRiZjhhNWE5ZDBkNDZjYzYwMmNmID0gJChgPGRpdiBpZD0iaHRtbF85Y2ZkYWRkMmU0OWU0YmY4YTVhOWQwZDQ2Y2M2MDJjZiIgc3R5bGU9IndpZHRoOiAxMDAuMCU7IGhlaWdodDogMTAwLjAlOyI+RG9yc2V0IFBhcmsgLCBXZXhmb3JkIEhlaWdodHMgLCBTY2FyYm9yb3VnaCBUb3duIENlbnRyZTwvZGl2PmApWzBdOwogICAgICAgICAgICBwb3B1cF9lOGE5YzYwMzZlZTc0YWRmYjdmMGM3YTg1MmJlZDQzZi5zZXRDb250ZW50KGh0bWxfOWNmZGFkZDJlNDllNGJmOGE1YTlkMGQ0NmNjNjAyY2YpOwogICAgICAgIAoKICAgICAgICBtYXJrZXJfMjBmNWQxM2EyYWY1NDQ5M2E2YWEwMWEyOWY0OTgzNDguYmluZFBvcHVwKHBvcHVwX2U4YTljNjAzNmVlNzRhZGZiN2YwYzdhODUyYmVkNDNmKQogICAgICAgIDsKCiAgICAgICAgCiAgICAKICAgIAogICAgICAgICAgICB2YXIgbWFya2VyX2FkZWI4YTczOWZiNjQ3MTI5M2NkNGIzZjE5YjhhY2UzID0gTC5tYXJrZXIoCiAgICAgICAgICAgICAgICBbNDMuNzUyNzU4Mjk5OTk5OTk2LCAtNzkuNDAwMDQ5M10sCiAgICAgICAgICAgICAgICB7fQogICAgICAgICAgICApLmFkZFRvKG1hcF9hZDRkNjhjYmJiZWI0YzQyOGEzYmNmMDYyYWQ3MTYxNCk7CiAgICAgICAgCiAgICAKICAgICAgICB2YXIgcG9wdXBfODY4YmNkYmNkODhiNDJjYjg0Yzc5ODQ0YmZjZDQzYzkgPSBMLnBvcHVwKHsibWF4V2lkdGgiOiAiMTAwJSJ9KTsKCiAgICAgICAgCiAgICAgICAgICAgIHZhciBodG1sXzRkMjExYjM5NjFiNzRkMGFhMDJjNTJmYmYzNWE4ZjgzID0gJChgPGRpdiBpZD0iaHRtbF80ZDIxMWIzOTYxYjc0ZDBhYTAyYzUyZmJmMzVhOGY4MyIgc3R5bGU9IndpZHRoOiAxMDAuMCU7IGhlaWdodDogMTAwLjAlOyI+WW9yayBNaWxscyBXZXN0PC9kaXY+YClbMF07CiAgICAgICAgICAgIHBvcHVwXzg2OGJjZGJjZDg4YjQyY2I4NGM3OTg0NGJmY2Q0M2M5LnNldENvbnRlbnQoaHRtbF80ZDIxMWIzOTYxYjc0ZDBhYTAyYzUyZmJmMzVhOGY4Myk7CiAgICAgICAgCgogICAgICAgIG1hcmtlcl9hZGViOGE3MzlmYjY0NzEyOTNjZDRiM2YxOWI4YWNlMy5iaW5kUG9wdXAocG9wdXBfODY4YmNkYmNkODhiNDJjYjg0Yzc5ODQ0YmZjZDQzYzkpCiAgICAgICAgOwoKICAgICAgICAKICAgIAogICAgCiAgICAgICAgICAgIHZhciBtYXJrZXJfZmQ5YTU1ZWJmNzNkNGEzMDg0ZGI0ZDg3YWUzYjdhMmMgPSBMLm1hcmtlcigKICAgICAgICAgICAgICAgIFs0My43MTI3NTExLCAtNzkuMzkwMTk3NV0sCiAgICAgICAgICAgICAgICB7fQogICAgICAgICAgICApLmFkZFRvKG1hcF9hZDRkNjhjYmJiZWI0YzQyOGEzYmNmMDYyYWQ3MTYxNCk7CiAgICAgICAgCiAgICAKICAgICAgICB2YXIgcG9wdXBfYmRiZjFiMTNhNThkNGY2YjgyNmYyMzI1ZmZhZWIwYzIgPSBMLnBvcHVwKHsibWF4V2lkdGgiOiAiMTAwJSJ9KTsKCiAgICAgICAgCiAgICAgICAgICAgIHZhciBodG1sX2NjNjUzNjNkYWMzZTRjODg5YjYwZWRhNDJkZDE3NmY0ID0gJChgPGRpdiBpZD0iaHRtbF9jYzY1MzYzZGFjM2U0Yzg4OWI2MGVkYTQyZGQxNzZmNCIgc3R5bGU9IndpZHRoOiAxMDAuMCU7IGhlaWdodDogMTAwLjAlOyI+RGF2aXN2aWxsZSBOb3J0aDwvZGl2PmApWzBdOwogICAgICAgICAgICBwb3B1cF9iZGJmMWIxM2E1OGQ0ZjZiODI2ZjIzMjVmZmFlYjBjMi5zZXRDb250ZW50KGh0bWxfY2M2NTM2M2RhYzNlNGM4ODliNjBlZGE0MmRkMTc2ZjQpOwogICAgICAgIAoKICAgICAgICBtYXJrZXJfZmQ5YTU1ZWJmNzNkNGEzMDg0ZGI0ZDg3YWUzYjdhMmMuYmluZFBvcHVwKHBvcHVwX2JkYmYxYjEzYTU4ZDRmNmI4MjZmMjMyNWZmYWViMGMyKQogICAgICAgIDsKCiAgICAgICAgCiAgICAKICAgIAogICAgICAgICAgICB2YXIgbWFya2VyX2FlZmE4NGM3ZWU4ZjQ2ODI4NzhlZTk3MTMxMjVlMTQ4ID0gTC5tYXJrZXIoCiAgICAgICAgICAgICAgICBbNDMuNjk2OTQ3NiwgLTc5LjQxMTMwNzIwMDAwMDAxXSwKICAgICAgICAgICAgICAgIHt9CiAgICAgICAgICAgICkuYWRkVG8obWFwX2FkNGQ2OGNiYmJlYjRjNDI4YTNiY2YwNjJhZDcxNjE0KTsKICAgICAgICAKICAgIAogICAgICAgIHZhciBwb3B1cF8zN2E1MWY3YWQ2YzQ0NTY3ODI5Y2VmMGJhZDY3OGE5ZiA9IEwucG9wdXAoeyJtYXhXaWR0aCI6ICIxMDAlIn0pOwoKICAgICAgICAKICAgICAgICAgICAgdmFyIGh0bWxfZWU2Y2IyYzhiYjY0NDAxYzhhMmI5YjdjN2Y2MzdhN2UgPSAkKGA8ZGl2IGlkPSJodG1sX2VlNmNiMmM4YmI2NDQwMWM4YTJiOWI3YzdmNjM3YTdlIiBzdHlsZT0id2lkdGg6IDEwMC4wJTsgaGVpZ2h0OiAxMDAuMCU7Ij5Gb3Jlc3QgSGlsbCBOb3J0aCAmIFdlc3Q8L2Rpdj5gKVswXTsKICAgICAgICAgICAgcG9wdXBfMzdhNTFmN2FkNmM0NDU2NzgyOWNlZjBiYWQ2NzhhOWYuc2V0Q29udGVudChodG1sX2VlNmNiMmM4YmI2NDQwMWM4YTJiOWI3YzdmNjM3YTdlKTsKICAgICAgICAKCiAgICAgICAgbWFya2VyX2FlZmE4NGM3ZWU4ZjQ2ODI4NzhlZTk3MTMxMjVlMTQ4LmJpbmRQb3B1cChwb3B1cF8zN2E1MWY3YWQ2YzQ0NTY3ODI5Y2VmMGJhZDY3OGE5ZikKICAgICAgICA7CgogICAgICAgIAogICAgCiAgICAKICAgICAgICAgICAgdmFyIG1hcmtlcl8yMzBmMjEwYmIwOWY0MDUxYTIwYmFjODNlNDRiNjM5ZSA9IEwubWFya2VyKAogICAgICAgICAgICAgICAgWzQzLjY2MTYwODMsIC03OS40NjQ3NjMyOTk5OTk5OV0sCiAgICAgICAgICAgICAgICB7fQogICAgICAgICAgICApLmFkZFRvKG1hcF9hZDRkNjhjYmJiZWI0YzQyOGEzYmNmMDYyYWQ3MTYxNCk7CiAgICAgICAgCiAgICAKICAgICAgICB2YXIgcG9wdXBfM2M5MTk5NzZiOGRjNDIyNGIwMTViYWYxYzUyMGUwZDEgPSBMLnBvcHVwKHsibWF4V2lkdGgiOiAiMTAwJSJ9KTsKCiAgICAgICAgCiAgICAgICAgICAgIHZhciBodG1sXzQwMmE0NDVhMDEyNjRlNTg4ZGEzMmQzZmRlMjhkODAwID0gJChgPGRpdiBpZD0iaHRtbF80MDJhNDQ1YTAxMjY0ZTU4OGRhMzJkM2ZkZTI4ZDgwMCIgc3R5bGU9IndpZHRoOiAxMDAuMCU7IGhlaWdodDogMTAwLjAlOyI+SGlnaCBQYXJrICwgVGhlIEp1bmN0aW9uIFNvdXRoPC9kaXY+YClbMF07CiAgICAgICAgICAgIHBvcHVwXzNjOTE5OTc2YjhkYzQyMjRiMDE1YmFmMWM1MjBlMGQxLnNldENvbnRlbnQoaHRtbF80MDJhNDQ1YTAxMjY0ZTU4OGRhMzJkM2ZkZTI4ZDgwMCk7CiAgICAgICAgCgogICAgICAgIG1hcmtlcl8yMzBmMjEwYmIwOWY0MDUxYTIwYmFjODNlNDRiNjM5ZS5iaW5kUG9wdXAocG9wdXBfM2M5MTk5NzZiOGRjNDIyNGIwMTViYWYxYzUyMGUwZDEpCiAgICAgICAgOwoKICAgICAgICAKICAgIAogICAgCiAgICAgICAgICAgIHZhciBtYXJrZXJfZWYzZjliNjFlNzQ4NDYxNjg0OTE5ZTU2Nzc5ZDc2ZjAgPSBMLm1hcmtlcigKICAgICAgICAgICAgICAgIFs0My42OTYzMTksIC03OS41MzIyNDI0MDAwMDAwMl0sCiAgICAgICAgICAgICAgICB7fQogICAgICAgICAgICApLmFkZFRvKG1hcF9hZDRkNjhjYmJiZWI0YzQyOGEzYmNmMDYyYWQ3MTYxNCk7CiAgICAgICAgCiAgICAKICAgICAgICB2YXIgcG9wdXBfZTkyMGY3NzE0NzU3NDE1MGFkZWRjZDUzMjUzOGFlMzQgPSBMLnBvcHVwKHsibWF4V2lkdGgiOiAiMTAwJSJ9KTsKCiAgICAgICAgCiAgICAgICAgICAgIHZhciBodG1sXzBjYWFhZmJiY2QwZDQxZGFiMTA5NGIyMDRiNzBhYzAxID0gJChgPGRpdiBpZD0iaHRtbF8wY2FhYWZiYmNkMGQ0MWRhYjEwOTRiMjA0YjcwYWMwMSIgc3R5bGU9IndpZHRoOiAxMDAuMCU7IGhlaWdodDogMTAwLjAlOyI+V2VzdG1vdW50PC9kaXY+YClbMF07CiAgICAgICAgICAgIHBvcHVwX2U5MjBmNzcxNDc1NzQxNTBhZGVkY2Q1MzI1MzhhZTM0LnNldENvbnRlbnQoaHRtbF8wY2FhYWZiYmNkMGQ0MWRhYjEwOTRiMjA0YjcwYWMwMSk7CiAgICAgICAgCgogICAgICAgIG1hcmtlcl9lZjNmOWI2MWU3NDg0NjE2ODQ5MTllNTY3NzlkNzZmMC5iaW5kUG9wdXAocG9wdXBfZTkyMGY3NzE0NzU3NDE1MGFkZWRjZDUzMjUzOGFlMzQpCiAgICAgICAgOwoKICAgICAgICAKICAgIAogICAgCiAgICAgICAgICAgIHZhciBtYXJrZXJfNjAxYWVjOGMxZTcyNGUzNjk1NjNmNWZmNzdlNzM4NTIgPSBMLm1hcmtlcigKICAgICAgICAgICAgICAgIFs0My43NTAwNzE1MDAwMDAwMDQsIC03OS4yOTU4NDkxXSwKICAgICAgICAgICAgICAgIHt9CiAgICAgICAgICAgICkuYWRkVG8obWFwX2FkNGQ2OGNiYmJlYjRjNDI4YTNiY2YwNjJhZDcxNjE0KTsKICAgICAgICAKICAgIAogICAgICAgIHZhciBwb3B1cF9jMDUxMDkwZjYzYjQ0NjdlODMyZmMwMzk3NTAwMTk5MSA9IEwucG9wdXAoeyJtYXhXaWR0aCI6ICIxMDAlIn0pOwoKICAgICAgICAKICAgICAgICAgICAgdmFyIGh0bWxfZjFkZDVhOTJlNzQ0NDk1ZTg5MDhlNjQ3NWI5MDRjOGEgPSAkKGA8ZGl2IGlkPSJodG1sX2YxZGQ1YTkyZTc0NDQ5NWU4OTA4ZTY0NzViOTA0YzhhIiBzdHlsZT0id2lkdGg6IDEwMC4wJTsgaGVpZ2h0OiAxMDAuMCU7Ij5XZXhmb3JkICwgTWFyeXZhbGU8L2Rpdj5gKVswXTsKICAgICAgICAgICAgcG9wdXBfYzA1MTA5MGY2M2I0NDY3ZTgzMmZjMDM5NzUwMDE5OTEuc2V0Q29udGVudChodG1sX2YxZGQ1YTkyZTc0NDQ5NWU4OTA4ZTY0NzViOTA0YzhhKTsKICAgICAgICAKCiAgICAgICAgbWFya2VyXzYwMWFlYzhjMWU3MjRlMzY5NTYzZjVmZjc3ZTczODUyLmJpbmRQb3B1cChwb3B1cF9jMDUxMDkwZjYzYjQ0NjdlODMyZmMwMzk3NTAwMTk5MSkKICAgICAgICA7CgogICAgICAgIAogICAgCiAgICAKICAgICAgICAgICAgdmFyIG1hcmtlcl81MDNkMGE2YjkxYWE0ZTk1YTFmNDYxMjc5MmJiYmRkNCA9IEwubWFya2VyKAogICAgICAgICAgICAgICAgWzQzLjc4MjczNjQsIC03OS40NDIyNTkzXSwKICAgICAgICAgICAgICAgIHt9CiAgICAgICAgICAgICkuYWRkVG8obWFwX2FkNGQ2OGNiYmJlYjRjNDI4YTNiY2YwNjJhZDcxNjE0KTsKICAgICAgICAKICAgIAogICAgICAgIHZhciBwb3B1cF9iODU0NjJlYzQ4YjE0YTkzYTM2Mzc1ZGRkYzFhNmI0YiA9IEwucG9wdXAoeyJtYXhXaWR0aCI6ICIxMDAlIn0pOwoKICAgICAgICAKICAgICAgICAgICAgdmFyIGh0bWxfNjBiYzlhNjlhZjNjNDE0NmE2MzRkYmI5NjIzMDYzNzMgPSAkKGA8ZGl2IGlkPSJodG1sXzYwYmM5YTY5YWYzYzQxNDZhNjM0ZGJiOTYyMzA2MzczIiBzdHlsZT0id2lkdGg6IDEwMC4wJTsgaGVpZ2h0OiAxMDAuMCU7Ij5XaWxsb3dkYWxlPC9kaXY+YClbMF07CiAgICAgICAgICAgIHBvcHVwX2I4NTQ2MmVjNDhiMTRhOTNhMzYzNzVkZGRjMWE2YjRiLnNldENvbnRlbnQoaHRtbF82MGJjOWE2OWFmM2M0MTQ2YTYzNGRiYjk2MjMwNjM3Myk7CiAgICAgICAgCgogICAgICAgIG1hcmtlcl81MDNkMGE2YjkxYWE0ZTk1YTFmNDYxMjc5MmJiYmRkNC5iaW5kUG9wdXAocG9wdXBfYjg1NDYyZWM0OGIxNGE5M2EzNjM3NWRkZGMxYTZiNGIpCiAgICAgICAgOwoKICAgICAgICAKICAgIAogICAgCiAgICAgICAgICAgIHZhciBtYXJrZXJfZjQ5MDY1NzlkYjliNGJkODljNTAwOGE1ZGZiMzI2YjkgPSBMLm1hcmtlcigKICAgICAgICAgICAgICAgIFs0My43MTUzODM0LCAtNzkuNDA1Njc4NDAwMDAwMDFdLAogICAgICAgICAgICAgICAge30KICAgICAgICAgICAgKS5hZGRUbyhtYXBfYWQ0ZDY4Y2JiYmViNGM0MjhhM2JjZjA2MmFkNzE2MTQpOwogICAgICAgIAogICAgCiAgICAgICAgdmFyIHBvcHVwX2U1NmNjMmQ4MjRkNDQ0OTRhOTgyZmU4ODEyNzE4ZmI0ID0gTC5wb3B1cCh7Im1heFdpZHRoIjogIjEwMCUifSk7CgogICAgICAgIAogICAgICAgICAgICB2YXIgaHRtbF9jYmFhNGQwNGFhMzg0OWRjYWFiOTliNDQwMDU2ZDc3NCA9ICQoYDxkaXYgaWQ9Imh0bWxfY2JhYTRkMDRhYTM4NDlkY2FhYjk5YjQ0MDA1NmQ3NzQiIHN0eWxlPSJ3aWR0aDogMTAwLjAlOyBoZWlnaHQ6IDEwMC4wJTsiPk5vcnRoIFRvcm9udG8gV2VzdDwvZGl2PmApWzBdOwogICAgICAgICAgICBwb3B1cF9lNTZjYzJkODI0ZDQ0NDk0YTk4MmZlODgxMjcxOGZiNC5zZXRDb250ZW50KGh0bWxfY2JhYTRkMDRhYTM4NDlkY2FhYjk5YjQ0MDA1NmQ3NzQpOwogICAgICAgIAoKICAgICAgICBtYXJrZXJfZjQ5MDY1NzlkYjliNGJkODljNTAwOGE1ZGZiMzI2YjkuYmluZFBvcHVwKHBvcHVwX2U1NmNjMmQ4MjRkNDQ0OTRhOTgyZmU4ODEyNzE4ZmI0KQogICAgICAgIDsKCiAgICAgICAgCiAgICAKICAgIAogICAgICAgICAgICB2YXIgbWFya2VyXzZmYmVjZTE4MGQ3YjRhNjViNGNiNGM4NmI2MTNhMjEwID0gTC5tYXJrZXIoCiAgICAgICAgICAgICAgICBbNDMuNjcyNzA5NywgLTc5LjQwNTY3ODQwMDAwMDAxXSwKICAgICAgICAgICAgICAgIHt9CiAgICAgICAgICAgICkuYWRkVG8obWFwX2FkNGQ2OGNiYmJlYjRjNDI4YTNiY2YwNjJhZDcxNjE0KTsKICAgICAgICAKICAgIAogICAgICAgIHZhciBwb3B1cF8zOTBhZjZjMDgzNTU0NWQyYjg5NTM5Mzk2ZjZhZWY4ZCA9IEwucG9wdXAoeyJtYXhXaWR0aCI6ICIxMDAlIn0pOwoKICAgICAgICAKICAgICAgICAgICAgdmFyIGh0bWxfY2RkNWE2Mjg3MDQwNDUxYzg2YmI5MDRlNzdkNjczMDMgPSAkKGA8ZGl2IGlkPSJodG1sX2NkZDVhNjI4NzA0MDQ1MWM4NmJiOTA0ZTc3ZDY3MzAzIiBzdHlsZT0id2lkdGg6IDEwMC4wJTsgaGVpZ2h0OiAxMDAuMCU7Ij5UaGUgQW5uZXggLCBOb3J0aCBNaWR0b3duICwgWW9ya3ZpbGxlPC9kaXY+YClbMF07CiAgICAgICAgICAgIHBvcHVwXzM5MGFmNmMwODM1NTQ1ZDJiODk1MzkzOTZmNmFlZjhkLnNldENvbnRlbnQoaHRtbF9jZGQ1YTYyODcwNDA0NTFjODZiYjkwNGU3N2Q2NzMwMyk7CiAgICAgICAgCgogICAgICAgIG1hcmtlcl82ZmJlY2UxODBkN2I0YTY1YjRjYjRjODZiNjEzYTIxMC5iaW5kUG9wdXAocG9wdXBfMzkwYWY2YzA4MzU1NDVkMmI4OTUzOTM5NmY2YWVmOGQpCiAgICAgICAgOwoKICAgICAgICAKICAgIAogICAgCiAgICAgICAgICAgIHZhciBtYXJrZXJfNzUxOGZiYTZlZGY1NGM0MWFiMjMxZmNkZDhkNjJlM2IgPSBMLm1hcmtlcigKICAgICAgICAgICAgICAgIFs0My42NDg5NTk3LCAtNzkuNDU2MzI1XSwKICAgICAgICAgICAgICAgIHt9CiAgICAgICAgICAgICkuYWRkVG8obWFwX2FkNGQ2OGNiYmJlYjRjNDI4YTNiY2YwNjJhZDcxNjE0KTsKICAgICAgICAKICAgIAogICAgICAgIHZhciBwb3B1cF9hZDE5OTQ4MjVkYTY0M2EyYWEyNDAzNzNjZTAzYmY4YSA9IEwucG9wdXAoeyJtYXhXaWR0aCI6ICIxMDAlIn0pOwoKICAgICAgICAKICAgICAgICAgICAgdmFyIGh0bWxfMWU5MjMwODRlZThiNDMzYjliMmRlNzZjNGE2NTdlMTMgPSAkKGA8ZGl2IGlkPSJodG1sXzFlOTIzMDg0ZWU4YjQzM2I5YjJkZTc2YzRhNjU3ZTEzIiBzdHlsZT0id2lkdGg6IDEwMC4wJTsgaGVpZ2h0OiAxMDAuMCU7Ij5QYXJrZGFsZSAsIFJvbmNlc3ZhbGxlczwvZGl2PmApWzBdOwogICAgICAgICAgICBwb3B1cF9hZDE5OTQ4MjVkYTY0M2EyYWEyNDAzNzNjZTAzYmY4YS5zZXRDb250ZW50KGh0bWxfMWU5MjMwODRlZThiNDMzYjliMmRlNzZjNGE2NTdlMTMpOwogICAgICAgIAoKICAgICAgICBtYXJrZXJfNzUxOGZiYTZlZGY1NGM0MWFiMjMxZmNkZDhkNjJlM2IuYmluZFBvcHVwKHBvcHVwX2FkMTk5NDgyNWRhNjQzYTJhYTI0MDM3M2NlMDNiZjhhKQogICAgICAgIDsKCiAgICAgICAgCiAgICAKICAgIAogICAgICAgICAgICB2YXIgbWFya2VyXzJiNzkxMzZkODFkYzQ0MjFhODA5MDUzMDQ3ZDQ2OWE0ID0gTC5tYXJrZXIoCiAgICAgICAgICAgICAgICBbNDMuNjM2OTY1NiwgLTc5LjYxNTgxODk5OTk5OTk5XSwKICAgICAgICAgICAgICAgIHt9CiAgICAgICAgICAgICkuYWRkVG8obWFwX2FkNGQ2OGNiYmJlYjRjNDI4YTNiY2YwNjJhZDcxNjE0KTsKICAgICAgICAKICAgIAogICAgICAgIHZhciBwb3B1cF83ODQ3ZDI2N2JjZDk0ZjM5YTc4YmYxMTA0MTBjMjgwZCA9IEwucG9wdXAoeyJtYXhXaWR0aCI6ICIxMDAlIn0pOwoKICAgICAgICAKICAgICAgICAgICAgdmFyIGh0bWxfYjNmMTRlN2M4MGYwNDUzMzgwNDQxMDQ5MjllYmNmNzggPSAkKGA8ZGl2IGlkPSJodG1sX2IzZjE0ZTdjODBmMDQ1MzM4MDQ0MTA0OTI5ZWJjZjc4IiBzdHlsZT0id2lkdGg6IDEwMC4wJTsgaGVpZ2h0OiAxMDAuMCU7Ij5DYW5hZGEgUG9zdCBHYXRld2F5IFByb2Nlc3NpbmcgQ2VudHJlPC9kaXY+YClbMF07CiAgICAgICAgICAgIHBvcHVwXzc4NDdkMjY3YmNkOTRmMzlhNzhiZjExMDQxMGMyODBkLnNldENvbnRlbnQoaHRtbF9iM2YxNGU3YzgwZjA0NTMzODA0NDEwNDkyOWViY2Y3OCk7CiAgICAgICAgCgogICAgICAgIG1hcmtlcl8yYjc5MTM2ZDgxZGM0NDIxYTgwOTA1MzA0N2Q0NjlhNC5iaW5kUG9wdXAocG9wdXBfNzg0N2QyNjdiY2Q5NGYzOWE3OGJmMTEwNDEwYzI4MGQpCiAgICAgICAgOwoKICAgICAgICAKICAgIAogICAgCiAgICAgICAgICAgIHZhciBtYXJrZXJfYTAwZDgwMWY2ODdhNDY2NzlkNGYyMTcwYzQ3NDU3NmQgPSBMLm1hcmtlcigKICAgICAgICAgICAgICAgIFs0My42ODg5MDU0LCAtNzkuNTU0NzI0NDAwMDAwMDFdLAogICAgICAgICAgICAgICAge30KICAgICAgICAgICAgKS5hZGRUbyhtYXBfYWQ0ZDY4Y2JiYmViNGM0MjhhM2JjZjA2MmFkNzE2MTQpOwogICAgICAgIAogICAgCiAgICAgICAgdmFyIHBvcHVwX2U0NTIwOGEzYzAxMDRkODFiM2M0N2VlYTdkNmY5Y2UwID0gTC5wb3B1cCh7Im1heFdpZHRoIjogIjEwMCUifSk7CgogICAgICAgIAogICAgICAgICAgICB2YXIgaHRtbF83Yzc1MTY1ZmU2ZjU0YTg1OTIwMTc4YjgwNGIyMGY0NCA9ICQoYDxkaXYgaWQ9Imh0bWxfN2M3NTE2NWZlNmY1NGE4NTkyMDE3OGI4MDRiMjBmNDQiIHN0eWxlPSJ3aWR0aDogMTAwLjAlOyBoZWlnaHQ6IDEwMC4wJTsiPktpbmdzdmlldyBWaWxsYWdlICwgU3QuIFBoaWxsaXBzICwgTWFydGluIEdyb3ZlIEdhcmRlbnMgLCBSaWNodmlldyBHYXJkZW5zPC9kaXY+YClbMF07CiAgICAgICAgICAgIHBvcHVwX2U0NTIwOGEzYzAxMDRkODFiM2M0N2VlYTdkNmY5Y2UwLnNldENvbnRlbnQoaHRtbF83Yzc1MTY1ZmU2ZjU0YTg1OTIwMTc4YjgwNGIyMGY0NCk7CiAgICAgICAgCgogICAgICAgIG1hcmtlcl9hMDBkODAxZjY4N2E0NjY3OWQ0ZjIxNzBjNDc0NTc2ZC5iaW5kUG9wdXAocG9wdXBfZTQ1MjA4YTNjMDEwNGQ4MWIzYzQ3ZWVhN2Q2ZjljZTApCiAgICAgICAgOwoKICAgICAgICAKICAgIAogICAgCiAgICAgICAgICAgIHZhciBtYXJrZXJfYjIwNjU5YmE1MWRhNGU0ZWJkMGI1NWVkYzg3MjUwNGQgPSBMLm1hcmtlcigKICAgICAgICAgICAgICAgIFs0My43OTQyMDAzLCAtNzkuMjYyMDI5NDAwMDAwMDJdLAogICAgICAgICAgICAgICAge30KICAgICAgICAgICAgKS5hZGRUbyhtYXBfYWQ0ZDY4Y2JiYmViNGM0MjhhM2JjZjA2MmFkNzE2MTQpOwogICAgICAgIAogICAgCiAgICAgICAgdmFyIHBvcHVwX2NmZjYwMGEzY2Y2ZDQ0Y2U5YzhkZWQ0ZTMzNTc5YTUyID0gTC5wb3B1cCh7Im1heFdpZHRoIjogIjEwMCUifSk7CgogICAgICAgIAogICAgICAgICAgICB2YXIgaHRtbF8wMGE4OGRmMjk5YWM0ODYzYTU1MjAyMTkwN2YyMjVjMiA9ICQoYDxkaXYgaWQ9Imh0bWxfMDBhODhkZjI5OWFjNDg2M2E1NTIwMjE5MDdmMjI1YzIiIHN0eWxlPSJ3aWR0aDogMTAwLjAlOyBoZWlnaHQ6IDEwMC4wJTsiPkFnaW5jb3VydDwvZGl2PmApWzBdOwogICAgICAgICAgICBwb3B1cF9jZmY2MDBhM2NmNmQ0NGNlOWM4ZGVkNGUzMzU3OWE1Mi5zZXRDb250ZW50KGh0bWxfMDBhODhkZjI5OWFjNDg2M2E1NTIwMjE5MDdmMjI1YzIpOwogICAgICAgIAoKICAgICAgICBtYXJrZXJfYjIwNjU5YmE1MWRhNGU0ZWJkMGI1NWVkYzg3MjUwNGQuYmluZFBvcHVwKHBvcHVwX2NmZjYwMGEzY2Y2ZDQ0Y2U5YzhkZWQ0ZTMzNTc5YTUyKQogICAgICAgIDsKCiAgICAgICAgCiAgICAKICAgIAogICAgICAgICAgICB2YXIgbWFya2VyX2I0ZjkwOGJjNWEyYzQ4NjFhNjRmMzk2NTYxMDM1NTUyID0gTC5tYXJrZXIoCiAgICAgICAgICAgICAgICBbNDMuNzA0MzI0NCwgLTc5LjM4ODc5MDFdLAogICAgICAgICAgICAgICAge30KICAgICAgICAgICAgKS5hZGRUbyhtYXBfYWQ0ZDY4Y2JiYmViNGM0MjhhM2JjZjA2MmFkNzE2MTQpOwogICAgICAgIAogICAgCiAgICAgICAgdmFyIHBvcHVwXzg3N2M0NmNhMDJkYjQ3YmM5YjVkM2NiOGUyMWNjMjVjID0gTC5wb3B1cCh7Im1heFdpZHRoIjogIjEwMCUifSk7CgogICAgICAgIAogICAgICAgICAgICB2YXIgaHRtbF9hYzNkMmFhZTZlMzg0NWZjYjMzOGQ4OThlMjUwZDc1MiA9ICQoYDxkaXYgaWQ9Imh0bWxfYWMzZDJhYWU2ZTM4NDVmY2IzMzhkODk4ZTI1MGQ3NTIiIHN0eWxlPSJ3aWR0aDogMTAwLjAlOyBoZWlnaHQ6IDEwMC4wJTsiPkRhdmlzdmlsbGU8L2Rpdj5gKVswXTsKICAgICAgICAgICAgcG9wdXBfODc3YzQ2Y2EwMmRiNDdiYzliNWQzY2I4ZTIxY2MyNWMuc2V0Q29udGVudChodG1sX2FjM2QyYWFlNmUzODQ1ZmNiMzM4ZDg5OGUyNTBkNzUyKTsKICAgICAgICAKCiAgICAgICAgbWFya2VyX2I0ZjkwOGJjNWEyYzQ4NjFhNjRmMzk2NTYxMDM1NTUyLmJpbmRQb3B1cChwb3B1cF84NzdjNDZjYTAyZGI0N2JjOWI1ZDNjYjhlMjFjYzI1YykKICAgICAgICA7CgogICAgICAgIAogICAgCiAgICAKICAgICAgICAgICAgdmFyIG1hcmtlcl8zY2YwNTUwOTQxYWY0MmY4ODAxYWU2ZWIzMmUzNmM5YiA9IEwubWFya2VyKAogICAgICAgICAgICAgICAgWzQzLjY2MjY5NTYsIC03OS40MDAwNDkzXSwKICAgICAgICAgICAgICAgIHt9CiAgICAgICAgICAgICkuYWRkVG8obWFwX2FkNGQ2OGNiYmJlYjRjNDI4YTNiY2YwNjJhZDcxNjE0KTsKICAgICAgICAKICAgIAogICAgICAgIHZhciBwb3B1cF8zZGM2ZDMzNjAwNmI0ODQ4OGRkOWI2NGE2MDE3NWFiNyA9IEwucG9wdXAoeyJtYXhXaWR0aCI6ICIxMDAlIn0pOwoKICAgICAgICAKICAgICAgICAgICAgdmFyIGh0bWxfYTc0ZGRlNmJkNTc0NDM0MGEzMTQxOWE2MzI2NWYxZWYgPSAkKGA8ZGl2IGlkPSJodG1sX2E3NGRkZTZiZDU3NDQzNDBhMzE0MTlhNjMyNjVmMWVmIiBzdHlsZT0id2lkdGg6IDEwMC4wJTsgaGVpZ2h0OiAxMDAuMCU7Ij5Vbml2ZXJzaXR5IG9mIFRvcm9udG8gLCBIYXJib3JkPC9kaXY+YClbMF07CiAgICAgICAgICAgIHBvcHVwXzNkYzZkMzM2MDA2YjQ4NDg4ZGQ5YjY0YTYwMTc1YWI3LnNldENvbnRlbnQoaHRtbF9hNzRkZGU2YmQ1NzQ0MzQwYTMxNDE5YTYzMjY1ZjFlZik7CiAgICAgICAgCgogICAgICAgIG1hcmtlcl8zY2YwNTUwOTQxYWY0MmY4ODAxYWU2ZWIzMmUzNmM5Yi5iaW5kUG9wdXAocG9wdXBfM2RjNmQzMzYwMDZiNDg0ODhkZDliNjRhNjAxNzVhYjcpCiAgICAgICAgOwoKICAgICAgICAKICAgIAogICAgCiAgICAgICAgICAgIHZhciBtYXJrZXJfMzE2MjhiNmM1MTllNDY4NjgwMzUyMGNhOTg3MWE4YmIgPSBMLm1hcmtlcigKICAgICAgICAgICAgICAgIFs0My42NTE1NzA2LCAtNzkuNDg0NDQ5OV0sCiAgICAgICAgICAgICAgICB7fQogICAgICAgICAgICApLmFkZFRvKG1hcF9hZDRkNjhjYmJiZWI0YzQyOGEzYmNmMDYyYWQ3MTYxNCk7CiAgICAgICAgCiAgICAKICAgICAgICB2YXIgcG9wdXBfNGYwZjhlZDYyNjU3NDNkMmE5MmM2M2MwNmFiMzA5ZWEgPSBMLnBvcHVwKHsibWF4V2lkdGgiOiAiMTAwJSJ9KTsKCiAgICAgICAgCiAgICAgICAgICAgIHZhciBodG1sX2Q1ODQ0YzNiZjU0NjQ0NDI5MTlmNTM2ZDMyMzg0ZjY3ID0gJChgPGRpdiBpZD0iaHRtbF9kNTg0NGMzYmY1NDY0NDQyOTE5ZjUzNmQzMjM4NGY2NyIgc3R5bGU9IndpZHRoOiAxMDAuMCU7IGhlaWdodDogMTAwLjAlOyI+UnVubnltZWRlICwgU3dhbnNlYTwvZGl2PmApWzBdOwogICAgICAgICAgICBwb3B1cF80ZjBmOGVkNjI2NTc0M2QyYTkyYzYzYzA2YWIzMDllYS5zZXRDb250ZW50KGh0bWxfZDU4NDRjM2JmNTQ2NDQ0MjkxOWY1MzZkMzIzODRmNjcpOwogICAgICAgIAoKICAgICAgICBtYXJrZXJfMzE2MjhiNmM1MTllNDY4NjgwMzUyMGNhOTg3MWE4YmIuYmluZFBvcHVwKHBvcHVwXzRmMGY4ZWQ2MjY1NzQzZDJhOTJjNjNjMDZhYjMwOWVhKQogICAgICAgIDsKCiAgICAgICAgCiAgICAKICAgIAogICAgICAgICAgICB2YXIgbWFya2VyXzBjNmJjYjAyZmRhYTRjY2E5MDUzNmNmZWJkMjU1OTljID0gTC5tYXJrZXIoCiAgICAgICAgICAgICAgICBbNDMuNzgxNjM3NSwgLTc5LjMwNDMwMjFdLAogICAgICAgICAgICAgICAge30KICAgICAgICAgICAgKS5hZGRUbyhtYXBfYWQ0ZDY4Y2JiYmViNGM0MjhhM2JjZjA2MmFkNzE2MTQpOwogICAgICAgIAogICAgCiAgICAgICAgdmFyIHBvcHVwX2QxNjgyY2YyMWExMDQyYzE5YWUwNjAyZjQzMjYxOGY2ID0gTC5wb3B1cCh7Im1heFdpZHRoIjogIjEwMCUifSk7CgogICAgICAgIAogICAgICAgICAgICB2YXIgaHRtbF84Y2JlYWRlYzEzZWI0NjJlYjE3YTM4OGEzNGE1OWRkZCA9ICQoYDxkaXYgaWQ9Imh0bWxfOGNiZWFkZWMxM2ViNDYyZWIxN2EzODhhMzRhNTlkZGQiIHN0eWxlPSJ3aWR0aDogMTAwLjAlOyBoZWlnaHQ6IDEwMC4wJTsiPkNsYXJrcyBDb3JuZXJzICwgVGFtIE8nU2hhbnRlciAsIFN1bGxpdmFuPC9kaXY+YClbMF07CiAgICAgICAgICAgIHBvcHVwX2QxNjgyY2YyMWExMDQyYzE5YWUwNjAyZjQzMjYxOGY2LnNldENvbnRlbnQoaHRtbF84Y2JlYWRlYzEzZWI0NjJlYjE3YTM4OGEzNGE1OWRkZCk7CiAgICAgICAgCgogICAgICAgIG1hcmtlcl8wYzZiY2IwMmZkYWE0Y2NhOTA1MzZjZmViZDI1NTk5Yy5iaW5kUG9wdXAocG9wdXBfZDE2ODJjZjIxYTEwNDJjMTlhZTA2MDJmNDMyNjE4ZjYpCiAgICAgICAgOwoKICAgICAgICAKICAgIAogICAgCiAgICAgICAgICAgIHZhciBtYXJrZXJfNGRhMjU0MjExZjg4NDgzMTlkNGRhZWJmNDdhNDYxOGEgPSBMLm1hcmtlcigKICAgICAgICAgICAgICAgIFs0My42ODk1NzQzLCAtNzkuMzgzMTU5OTAwMDAwMDFdLAogICAgICAgICAgICAgICAge30KICAgICAgICAgICAgKS5hZGRUbyhtYXBfYWQ0ZDY4Y2JiYmViNGM0MjhhM2JjZjA2MmFkNzE2MTQpOwogICAgICAgIAogICAgCiAgICAgICAgdmFyIHBvcHVwXzE1N2FjMTFlZjc0MzQwMTZiMjE0MWFhZmIzOGIyNTBjID0gTC5wb3B1cCh7Im1heFdpZHRoIjogIjEwMCUifSk7CgogICAgICAgIAogICAgICAgICAgICB2YXIgaHRtbF84MDRhNjM2NDJmZjA0ZGNlOTMxZGExMmVmZWIyOGUzYyA9ICQoYDxkaXYgaWQ9Imh0bWxfODA0YTYzNjQyZmYwNGRjZTkzMWRhMTJlZmViMjhlM2MiIHN0eWxlPSJ3aWR0aDogMTAwLjAlOyBoZWlnaHQ6IDEwMC4wJTsiPk1vb3JlIFBhcmsgLCBTdW1tZXJoaWxsIEVhc3Q8L2Rpdj5gKVswXTsKICAgICAgICAgICAgcG9wdXBfMTU3YWMxMWVmNzQzNDAxNmIyMTQxYWFmYjM4YjI1MGMuc2V0Q29udGVudChodG1sXzgwNGE2MzY0MmZmMDRkY2U5MzFkYTEyZWZlYjI4ZTNjKTsKICAgICAgICAKCiAgICAgICAgbWFya2VyXzRkYTI1NDIxMWY4ODQ4MzE5ZDRkYWViZjQ3YTQ2MThhLmJpbmRQb3B1cChwb3B1cF8xNTdhYzExZWY3NDM0MDE2YjIxNDFhYWZiMzhiMjUwYykKICAgICAgICA7CgogICAgICAgIAogICAgCiAgICAKICAgICAgICAgICAgdmFyIG1hcmtlcl8zMTIzNjRhMDU2OTY0NjRmOTYzYmI2MmFiOGE4MzVhYiA9IEwubWFya2VyKAogICAgICAgICAgICAgICAgWzQzLjY1MzIwNTcsIC03OS40MDAwNDkzXSwKICAgICAgICAgICAgICAgIHt9CiAgICAgICAgICAgICkuYWRkVG8obWFwX2FkNGQ2OGNiYmJlYjRjNDI4YTNiY2YwNjJhZDcxNjE0KTsKICAgICAgICAKICAgIAogICAgICAgIHZhciBwb3B1cF85MmFmZGE3ZTZlZTM0YTQ0OWVkZDRlMTEwNDEwMTM1NyA9IEwucG9wdXAoeyJtYXhXaWR0aCI6ICIxMDAlIn0pOwoKICAgICAgICAKICAgICAgICAgICAgdmFyIGh0bWxfZmVhN2Y0ZTIwMzg4NDhjYzg1ZGU3Y2JmNjI3YjMwMWEgPSAkKGA8ZGl2IGlkPSJodG1sX2ZlYTdmNGUyMDM4ODQ4Y2M4NWRlN2NiZjYyN2IzMDFhIiBzdHlsZT0id2lkdGg6IDEwMC4wJTsgaGVpZ2h0OiAxMDAuMCU7Ij5LZW5zaW5ndG9uIE1hcmtldCAsIENoaW5hdG93biAsIEdyYW5nZSBQYXJrPC9kaXY+YClbMF07CiAgICAgICAgICAgIHBvcHVwXzkyYWZkYTdlNmVlMzRhNDQ5ZWRkNGUxMTA0MTAxMzU3LnNldENvbnRlbnQoaHRtbF9mZWE3ZjRlMjAzODg0OGNjODVkZTdjYmY2MjdiMzAxYSk7CiAgICAgICAgCgogICAgICAgIG1hcmtlcl8zMTIzNjRhMDU2OTY0NjRmOTYzYmI2MmFiOGE4MzVhYi5iaW5kUG9wdXAocG9wdXBfOTJhZmRhN2U2ZWUzNGE0NDllZGQ0ZTExMDQxMDEzNTcpCiAgICAgICAgOwoKICAgICAgICAKICAgIAogICAgCiAgICAgICAgICAgIHZhciBtYXJrZXJfOTdmZWU5YWQyOTA5NDFmZjgwMDQzNjYzZDk1ZDZjOTcgPSBMLm1hcmtlcigKICAgICAgICAgICAgICAgIFs0My44MTUyNTIyLCAtNzkuMjg0NTc3Ml0sCiAgICAgICAgICAgICAgICB7fQogICAgICAgICAgICApLmFkZFRvKG1hcF9hZDRkNjhjYmJiZWI0YzQyOGEzYmNmMDYyYWQ3MTYxNCk7CiAgICAgICAgCiAgICAKICAgICAgICB2YXIgcG9wdXBfZDQ3YjFkZmNhODcwNDJiMWE4NjdjNGQxZDE2ZDEyZWQgPSBMLnBvcHVwKHsibWF4V2lkdGgiOiAiMTAwJSJ9KTsKCiAgICAgICAgCiAgICAgICAgICAgIHZhciBodG1sXzgwZDMyMTI0YTRhNTQ5ZmZiNmFjZWFjODc4NWI3NGM4ID0gJChgPGRpdiBpZD0iaHRtbF84MGQzMjEyNGE0YTU0OWZmYjZhY2VhYzg3ODViNzRjOCIgc3R5bGU9IndpZHRoOiAxMDAuMCU7IGhlaWdodDogMTAwLjAlOyI+TWlsbGlrZW4gLCBBZ2luY291cnQgTm9ydGggLCBTdGVlbGVzIEVhc3QgLCBMJ0Ftb3JlYXV4IEVhc3Q8L2Rpdj5gKVswXTsKICAgICAgICAgICAgcG9wdXBfZDQ3YjFkZmNhODcwNDJiMWE4NjdjNGQxZDE2ZDEyZWQuc2V0Q29udGVudChodG1sXzgwZDMyMTI0YTRhNTQ5ZmZiNmFjZWFjODc4NWI3NGM4KTsKICAgICAgICAKCiAgICAgICAgbWFya2VyXzk3ZmVlOWFkMjkwOTQxZmY4MDA0MzY2M2Q5NWQ2Yzk3LmJpbmRQb3B1cChwb3B1cF9kNDdiMWRmY2E4NzA0MmIxYTg2N2M0ZDFkMTZkMTJlZCkKICAgICAgICA7CgogICAgICAgIAogICAgCiAgICAKICAgICAgICAgICAgdmFyIG1hcmtlcl8yNDk4M2Y4NTk4Mzg0MDIxYWYyM2M3MjdlODA3ODg4OCA9IEwubWFya2VyKAogICAgICAgICAgICAgICAgWzQzLjY4NjQxMjI5OTk5OTk5LCAtNzkuNDAwMDQ5M10sCiAgICAgICAgICAgICAgICB7fQogICAgICAgICAgICApLmFkZFRvKG1hcF9hZDRkNjhjYmJiZWI0YzQyOGEzYmNmMDYyYWQ3MTYxNCk7CiAgICAgICAgCiAgICAKICAgICAgICB2YXIgcG9wdXBfM2RiMzZjYThmMTIxNGMzOGExNzBiNDA2YmQ1Y2NmNTIgPSBMLnBvcHVwKHsibWF4V2lkdGgiOiAiMTAwJSJ9KTsKCiAgICAgICAgCiAgICAgICAgICAgIHZhciBodG1sX2NiZDYzMTk1MzUwOTQyNDNiNjgwNTFlYTJmODY3NGZkID0gJChgPGRpdiBpZD0iaHRtbF9jYmQ2MzE5NTM1MDk0MjQzYjY4MDUxZWEyZjg2NzRmZCIgc3R5bGU9IndpZHRoOiAxMDAuMCU7IGhlaWdodDogMTAwLjAlOyI+U3VtbWVyaGlsbCBXZXN0ICwgUmF0aG5lbGx5ICwgU291dGggSGlsbCAsIEZvcmVzdCBIaWxsIFNFICwgRGVlciBQYXJrPC9kaXY+YClbMF07CiAgICAgICAgICAgIHBvcHVwXzNkYjM2Y2E4ZjEyMTRjMzhhMTcwYjQwNmJkNWNjZjUyLnNldENvbnRlbnQoaHRtbF9jYmQ2MzE5NTM1MDk0MjQzYjY4MDUxZWEyZjg2NzRmZCk7CiAgICAgICAgCgogICAgICAgIG1hcmtlcl8yNDk4M2Y4NTk4Mzg0MDIxYWYyM2M3MjdlODA3ODg4OC5iaW5kUG9wdXAocG9wdXBfM2RiMzZjYThmMTIxNGMzOGExNzBiNDA2YmQ1Y2NmNTIpCiAgICAgICAgOwoKICAgICAgICAKICAgIAogICAgCiAgICAgICAgICAgIHZhciBtYXJrZXJfY2EzMzllOTJmZTRiNDgzNzg2Mjc0MDBhODgyMGQzMmQgPSBMLm1hcmtlcigKICAgICAgICAgICAgICAgIFs0My42Mjg5NDY3LCAtNzkuMzk0NDE5OV0sCiAgICAgICAgICAgICAgICB7fQogICAgICAgICAgICApLmFkZFRvKG1hcF9hZDRkNjhjYmJiZWI0YzQyOGEzYmNmMDYyYWQ3MTYxNCk7CiAgICAgICAgCiAgICAKICAgICAgICB2YXIgcG9wdXBfNjQxMTZiZThlYWY3NGNiN2I1NmJlMWY1MjJkMGZhMTAgPSBMLnBvcHVwKHsibWF4V2lkdGgiOiAiMTAwJSJ9KTsKCiAgICAgICAgCiAgICAgICAgICAgIHZhciBodG1sXzA4NDcyNTFhYjc4ZTRkODliMTM4MjVmMWYxNWEwNjljID0gJChgPGRpdiBpZD0iaHRtbF8wODQ3MjUxYWI3OGU0ZDg5YjEzODI1ZjFmMTVhMDY5YyIgc3R5bGU9IndpZHRoOiAxMDAuMCU7IGhlaWdodDogMTAwLjAlOyI+Q04gVG93ZXIgLCBLaW5nIGFuZCBTcGFkaW5hICwgUmFpbHdheSBMYW5kcyAsIEhhcmJvdXJmcm9udCBXZXN0ICwgQmF0aHVyc3QgUXVheSAsIFNvdXRoIE5pYWdhcmEgLCBJc2xhbmQgYWlycG9ydDwvZGl2PmApWzBdOwogICAgICAgICAgICBwb3B1cF82NDExNmJlOGVhZjc0Y2I3YjU2YmUxZjUyMmQwZmExMC5zZXRDb250ZW50KGh0bWxfMDg0NzI1MWFiNzhlNGQ4OWIxMzgyNWYxZjE1YTA2OWMpOwogICAgICAgIAoKICAgICAgICBtYXJrZXJfY2EzMzllOTJmZTRiNDgzNzg2Mjc0MDBhODgyMGQzMmQuYmluZFBvcHVwKHBvcHVwXzY0MTE2YmU4ZWFmNzRjYjdiNTZiZTFmNTIyZDBmYTEwKQogICAgICAgIDsKCiAgICAgICAgCiAgICAKICAgIAogICAgICAgICAgICB2YXIgbWFya2VyXzExYTU3MDBiMWRkNTQ3MWNhOGI5ZTVhNjc5Yzc5ZDBkID0gTC5tYXJrZXIoCiAgICAgICAgICAgICAgICBbNDMuNjA1NjQ2NiwgLTc5LjUwMTMyMDcwMDAwMDAxXSwKICAgICAgICAgICAgICAgIHt9CiAgICAgICAgICAgICkuYWRkVG8obWFwX2FkNGQ2OGNiYmJlYjRjNDI4YTNiY2YwNjJhZDcxNjE0KTsKICAgICAgICAKICAgIAogICAgICAgIHZhciBwb3B1cF8xNDE3MzUzMmRmMzM0YjM5YTM5Yjk5ZGZmMDVkYWExZSA9IEwucG9wdXAoeyJtYXhXaWR0aCI6ICIxMDAlIn0pOwoKICAgICAgICAKICAgICAgICAgICAgdmFyIGh0bWxfOGJiZGZlMGUxMzNlNGYyNGFjY2MxNGRmOWM2MDAzNGEgPSAkKGA8ZGl2IGlkPSJodG1sXzhiYmRmZTBlMTMzZTRmMjRhY2NjMTRkZjljNjAwMzRhIiBzdHlsZT0id2lkdGg6IDEwMC4wJTsgaGVpZ2h0OiAxMDAuMCU7Ij5OZXcgVG9yb250byAsIE1pbWljbyBTb3V0aCAsIEh1bWJlciBCYXkgU2hvcmVzPC9kaXY+YClbMF07CiAgICAgICAgICAgIHBvcHVwXzE0MTczNTMyZGYzMzRiMzlhMzliOTlkZmYwNWRhYTFlLnNldENvbnRlbnQoaHRtbF84YmJkZmUwZTEzM2U0ZjI0YWNjYzE0ZGY5YzYwMDM0YSk7CiAgICAgICAgCgogICAgICAgIG1hcmtlcl8xMWE1NzAwYjFkZDU0NzFjYThiOWU1YTY3OWM3OWQwZC5iaW5kUG9wdXAocG9wdXBfMTQxNzM1MzJkZjMzNGIzOWEzOWI5OWRmZjA1ZGFhMWUpCiAgICAgICAgOwoKICAgICAgICAKICAgIAogICAgCiAgICAgICAgICAgIHZhciBtYXJrZXJfZGViNGQ3NDVlNzc0NDgxMDllZjY1MTE0MDdlZTQyMDEgPSBMLm1hcmtlcigKICAgICAgICAgICAgICAgIFs0My43Mzk0MTYzOTk5OTk5OTYsIC03OS41ODg0MzY5XSwKICAgICAgICAgICAgICAgIHt9CiAgICAgICAgICAgICkuYWRkVG8obWFwX2FkNGQ2OGNiYmJlYjRjNDI4YTNiY2YwNjJhZDcxNjE0KTsKICAgICAgICAKICAgIAogICAgICAgIHZhciBwb3B1cF85NGVkNTY5NTk0MTg0YjlmOTEyM2E5NmIxMzI1NWE2NSA9IEwucG9wdXAoeyJtYXhXaWR0aCI6ICIxMDAlIn0pOwoKICAgICAgICAKICAgICAgICAgICAgdmFyIGh0bWxfMzk4NGZkMmFlYjBkNDQ3YmFjNDUwM2MyNTExY2JjMTcgPSAkKGA8ZGl2IGlkPSJodG1sXzM5ODRmZDJhZWIwZDQ0N2JhYzQ1MDNjMjUxMWNiYzE3IiBzdHlsZT0id2lkdGg6IDEwMC4wJTsgaGVpZ2h0OiAxMDAuMCU7Ij5Tb3V0aCBTdGVlbGVzICwgU2lsdmVyc3RvbmUgLCBIdW1iZXJnYXRlICwgSmFtZXN0b3duICwgTW91bnQgT2xpdmUgLCBCZWF1bW9uZCBIZWlnaHRzICwgVGhpc3RsZXRvd24gLCBBbGJpb24gR2FyZGVuczwvZGl2PmApWzBdOwogICAgICAgICAgICBwb3B1cF85NGVkNTY5NTk0MTg0YjlmOTEyM2E5NmIxMzI1NWE2NS5zZXRDb250ZW50KGh0bWxfMzk4NGZkMmFlYjBkNDQ3YmFjNDUwM2MyNTExY2JjMTcpOwogICAgICAgIAoKICAgICAgICBtYXJrZXJfZGViNGQ3NDVlNzc0NDgxMDllZjY1MTE0MDdlZTQyMDEuYmluZFBvcHVwKHBvcHVwXzk0ZWQ1Njk1OTQxODRiOWY5MTIzYTk2YjEzMjU1YTY1KQogICAgICAgIDsKCiAgICAgICAgCiAgICAKICAgIAogICAgICAgICAgICB2YXIgbWFya2VyX2ZlZDJiNWNhMGUyNzQwNjBiYWY1ZmYzODlkM2VkOWEzID0gTC5tYXJrZXIoCiAgICAgICAgICAgICAgICBbNDMuNzk5NTI1MjAwMDAwMDA1LCAtNzkuMzE4Mzg4N10sCiAgICAgICAgICAgICAgICB7fQogICAgICAgICAgICApLmFkZFRvKG1hcF9hZDRkNjhjYmJiZWI0YzQyOGEzYmNmMDYyYWQ3MTYxNCk7CiAgICAgICAgCiAgICAKICAgICAgICB2YXIgcG9wdXBfYTljNmRkZjAzYzkxNGY2YzlhZjFkYjU2ZTE2ZGMzNzggPSBMLnBvcHVwKHsibWF4V2lkdGgiOiAiMTAwJSJ9KTsKCiAgICAgICAgCiAgICAgICAgICAgIHZhciBodG1sXzA2Y2U3YzMyMGNiYTRlMDA5OWZiY2ZkYzNlMDVjYzBjID0gJChgPGRpdiBpZD0iaHRtbF8wNmNlN2MzMjBjYmE0ZTAwOTlmYmNmZGMzZTA1Y2MwYyIgc3R5bGU9IndpZHRoOiAxMDAuMCU7IGhlaWdodDogMTAwLjAlOyI+U3RlZWxlcyBXZXN0ICwgTCdBbW9yZWF1eCBXZXN0PC9kaXY+YClbMF07CiAgICAgICAgICAgIHBvcHVwX2E5YzZkZGYwM2M5MTRmNmM5YWYxZGI1NmUxNmRjMzc4LnNldENvbnRlbnQoaHRtbF8wNmNlN2MzMjBjYmE0ZTAwOTlmYmNmZGMzZTA1Y2MwYyk7CiAgICAgICAgCgogICAgICAgIG1hcmtlcl9mZWQyYjVjYTBlMjc0MDYwYmFmNWZmMzg5ZDNlZDlhMy5iaW5kUG9wdXAocG9wdXBfYTljNmRkZjAzYzkxNGY2YzlhZjFkYjU2ZTE2ZGMzNzgpCiAgICAgICAgOwoKICAgICAgICAKICAgIAogICAgCiAgICAgICAgICAgIHZhciBtYXJrZXJfODZjNDcxNTRkNWE4NGZkODg0MDg5NmQ1NmQ2ZWZkNjMgPSBMLm1hcmtlcigKICAgICAgICAgICAgICAgIFs0My42Nzk1NjI2LCAtNzkuMzc3NTI5NDAwMDAwMDFdLAogICAgICAgICAgICAgICAge30KICAgICAgICAgICAgKS5hZGRUbyhtYXBfYWQ0ZDY4Y2JiYmViNGM0MjhhM2JjZjA2MmFkNzE2MTQpOwogICAgICAgIAogICAgCiAgICAgICAgdmFyIHBvcHVwX2VjNDE3NGMwZTFmZDQzNmI5ZDJiNmFhNmI4Mjk1ZWU5ID0gTC5wb3B1cCh7Im1heFdpZHRoIjogIjEwMCUifSk7CgogICAgICAgIAogICAgICAgICAgICB2YXIgaHRtbF8wMjFhYmQ2MDg4NDg0MjVlODgwMDU1MDg4YzViMGNiNCA9ICQoYDxkaXYgaWQ9Imh0bWxfMDIxYWJkNjA4ODQ4NDI1ZTg4MDA1NTA4OGM1YjBjYjQiIHN0eWxlPSJ3aWR0aDogMTAwLjAlOyBoZWlnaHQ6IDEwMC4wJTsiPlJvc2VkYWxlPC9kaXY+YClbMF07CiAgICAgICAgICAgIHBvcHVwX2VjNDE3NGMwZTFmZDQzNmI5ZDJiNmFhNmI4Mjk1ZWU5LnNldENvbnRlbnQoaHRtbF8wMjFhYmQ2MDg4NDg0MjVlODgwMDU1MDg4YzViMGNiNCk7CiAgICAgICAgCgogICAgICAgIG1hcmtlcl84NmM0NzE1NGQ1YTg0ZmQ4ODQwODk2ZDU2ZDZlZmQ2My5iaW5kUG9wdXAocG9wdXBfZWM0MTc0YzBlMWZkNDM2YjlkMmI2YWE2YjgyOTVlZTkpCiAgICAgICAgOwoKICAgICAgICAKICAgIAogICAgCiAgICAgICAgICAgIHZhciBtYXJrZXJfN2RlZjk4MmNlYTYxNDE5MDliMmY5ZDU0MDI3NTJhNjIgPSBMLm1hcmtlcigKICAgICAgICAgICAgICAgIFs0My42NDY0MzUyLCAtNzkuMzc0ODQ1OTk5OTk5OTldLAogICAgICAgICAgICAgICAge30KICAgICAgICAgICAgKS5hZGRUbyhtYXBfYWQ0ZDY4Y2JiYmViNGM0MjhhM2JjZjA2MmFkNzE2MTQpOwogICAgICAgIAogICAgCiAgICAgICAgdmFyIHBvcHVwX2Q0MWNjZDgyZDE2YTRhNmI5ZWRlNmFmMjYxM2RmN2M0ID0gTC5wb3B1cCh7Im1heFdpZHRoIjogIjEwMCUifSk7CgogICAgICAgIAogICAgICAgICAgICB2YXIgaHRtbF9iM2M2YjZiZDdkMTk0NDhjOTg1YjA5ZGM3ZmU2MjZkMCA9ICQoYDxkaXYgaWQ9Imh0bWxfYjNjNmI2YmQ3ZDE5NDQ4Yzk4NWIwOWRjN2ZlNjI2ZDAiIHN0eWxlPSJ3aWR0aDogMTAwLjAlOyBoZWlnaHQ6IDEwMC4wJTsiPlN0biBBIFBPIEJveGVzPC9kaXY+YClbMF07CiAgICAgICAgICAgIHBvcHVwX2Q0MWNjZDgyZDE2YTRhNmI5ZWRlNmFmMjYxM2RmN2M0LnNldENvbnRlbnQoaHRtbF9iM2M2YjZiZDdkMTk0NDhjOTg1YjA5ZGM3ZmU2MjZkMCk7CiAgICAgICAgCgogICAgICAgIG1hcmtlcl83ZGVmOTgyY2VhNjE0MTkwOWIyZjlkNTQwMjc1MmE2Mi5iaW5kUG9wdXAocG9wdXBfZDQxY2NkODJkMTZhNGE2YjllZGU2YWYyNjEzZGY3YzQpCiAgICAgICAgOwoKICAgICAgICAKICAgIAogICAgCiAgICAgICAgICAgIHZhciBtYXJrZXJfMjI1YWFmNzE0NzMwNGRhYmFjZDU2MjgyY2QyMjcyZTYgPSBMLm1hcmtlcigKICAgICAgICAgICAgICAgIFs0My42MDI0MTM3MDAwMDAwMSwgLTc5LjU0MzQ4NDA5OTk5OTk5XSwKICAgICAgICAgICAgICAgIHt9CiAgICAgICAgICAgICkuYWRkVG8obWFwX2FkNGQ2OGNiYmJlYjRjNDI4YTNiY2YwNjJhZDcxNjE0KTsKICAgICAgICAKICAgIAogICAgICAgIHZhciBwb3B1cF9mNzc0ZTkzOGYwODU0YjhhOTNlNDlhMWIxMGE4NThmNyA9IEwucG9wdXAoeyJtYXhXaWR0aCI6ICIxMDAlIn0pOwoKICAgICAgICAKICAgICAgICAgICAgdmFyIGh0bWxfZDM0ZTU5ZGIzYzExNDczNGJmNmM4Mjg2MTZmODA2MGEgPSAkKGA8ZGl2IGlkPSJodG1sX2QzNGU1OWRiM2MxMTQ3MzRiZjZjODI4NjE2ZjgwNjBhIiBzdHlsZT0id2lkdGg6IDEwMC4wJTsgaGVpZ2h0OiAxMDAuMCU7Ij5BbGRlcndvb2QgLCBMb25nIEJyYW5jaDwvZGl2PmApWzBdOwogICAgICAgICAgICBwb3B1cF9mNzc0ZTkzOGYwODU0YjhhOTNlNDlhMWIxMGE4NThmNy5zZXRDb250ZW50KGh0bWxfZDM0ZTU5ZGIzYzExNDczNGJmNmM4Mjg2MTZmODA2MGEpOwogICAgICAgIAoKICAgICAgICBtYXJrZXJfMjI1YWFmNzE0NzMwNGRhYmFjZDU2MjgyY2QyMjcyZTYuYmluZFBvcHVwKHBvcHVwX2Y3NzRlOTM4ZjA4NTRiOGE5M2U0OWExYjEwYTg1OGY3KQogICAgICAgIDsKCiAgICAgICAgCiAgICAKICAgIAogICAgICAgICAgICB2YXIgbWFya2VyX2Q1MjNiZDk0ODY1ODRjMDE5MDljMjY5OWRmNGZlOTM4ID0gTC5tYXJrZXIoCiAgICAgICAgICAgICAgICBbNDMuNzA2NzQ4Mjk5OTk5OTk0LCAtNzkuNTk0MDU0NF0sCiAgICAgICAgICAgICAgICB7fQogICAgICAgICAgICApLmFkZFRvKG1hcF9hZDRkNjhjYmJiZWI0YzQyOGEzYmNmMDYyYWQ3MTYxNCk7CiAgICAgICAgCiAgICAKICAgICAgICB2YXIgcG9wdXBfMjczMjIxYTc3YjUyNGYyOWE4ZjNjMGY3YWZjNjM2Y2EgPSBMLnBvcHVwKHsibWF4V2lkdGgiOiAiMTAwJSJ9KTsKCiAgICAgICAgCiAgICAgICAgICAgIHZhciBodG1sXzUwYTUyYmUyM2ZjNTQ0ZTZhYjFlN2JhNmU1Zjk3MTM2ID0gJChgPGRpdiBpZD0iaHRtbF81MGE1MmJlMjNmYzU0NGU2YWIxZTdiYTZlNWY5NzEzNiIgc3R5bGU9IndpZHRoOiAxMDAuMCU7IGhlaWdodDogMTAwLjAlOyI+Tm9ydGh3ZXN0PC9kaXY+YClbMF07CiAgICAgICAgICAgIHBvcHVwXzI3MzIyMWE3N2I1MjRmMjlhOGYzYzBmN2FmYzYzNmNhLnNldENvbnRlbnQoaHRtbF81MGE1MmJlMjNmYzU0NGU2YWIxZTdiYTZlNWY5NzEzNik7CiAgICAgICAgCgogICAgICAgIG1hcmtlcl9kNTIzYmQ5NDg2NTg0YzAxOTA5YzI2OTlkZjRmZTkzOC5iaW5kUG9wdXAocG9wdXBfMjczMjIxYTc3YjUyNGYyOWE4ZjNjMGY3YWZjNjM2Y2EpCiAgICAgICAgOwoKICAgICAgICAKICAgIAogICAgCiAgICAgICAgICAgIHZhciBtYXJrZXJfYWU2NzVkM2FiMDg1NDlhNTgzMzIzMzFmNDM1NDBiNjEgPSBMLm1hcmtlcigKICAgICAgICAgICAgICAgIFs0My44MzYxMjQ3MDAwMDAwMDYsIC03OS4yMDU2MzYwOTk5OTk5OV0sCiAgICAgICAgICAgICAgICB7fQogICAgICAgICAgICApLmFkZFRvKG1hcF9hZDRkNjhjYmJiZWI0YzQyOGEzYmNmMDYyYWQ3MTYxNCk7CiAgICAgICAgCiAgICAKICAgICAgICB2YXIgcG9wdXBfZDM3Y2I3ZTU5NWUyNDc5ODlhMWViMjM4N2Q3YzBiNDIgPSBMLnBvcHVwKHsibWF4V2lkdGgiOiAiMTAwJSJ9KTsKCiAgICAgICAgCiAgICAgICAgICAgIHZhciBodG1sX2JhZjMyMTFkNTA4MTQzYjJiYTI0MGQ4NTAyYTQ4N2M4ID0gJChgPGRpdiBpZD0iaHRtbF9iYWYzMjExZDUwODE0M2IyYmEyNDBkODUwMmE0ODdjOCIgc3R5bGU9IndpZHRoOiAxMDAuMCU7IGhlaWdodDogMTAwLjAlOyI+VXBwZXIgUm91Z2U8L2Rpdj5gKVswXTsKICAgICAgICAgICAgcG9wdXBfZDM3Y2I3ZTU5NWUyNDc5ODlhMWViMjM4N2Q3YzBiNDIuc2V0Q29udGVudChodG1sX2JhZjMyMTFkNTA4MTQzYjJiYTI0MGQ4NTAyYTQ4N2M4KTsKICAgICAgICAKCiAgICAgICAgbWFya2VyX2FlNjc1ZDNhYjA4NTQ5YTU4MzMyMzMxZjQzNTQwYjYxLmJpbmRQb3B1cChwb3B1cF9kMzdjYjdlNTk1ZTI0Nzk4OWExZWIyMzg3ZDdjMGI0MikKICAgICAgICA7CgogICAgICAgIAogICAgCiAgICAKICAgICAgICAgICAgdmFyIG1hcmtlcl9kNWY0YTY4Y2VjNTI0NThiOTNjZTM3ZjEwOGU1M2IwNSA9IEwubWFya2VyKAogICAgICAgICAgICAgICAgWzQzLjY2Nzk2NywgLTc5LjM2NzY3NTNdLAogICAgICAgICAgICAgICAge30KICAgICAgICAgICAgKS5hZGRUbyhtYXBfYWQ0ZDY4Y2JiYmViNGM0MjhhM2JjZjA2MmFkNzE2MTQpOwogICAgICAgIAogICAgCiAgICAgICAgdmFyIHBvcHVwX2RiMDdmZjhlMWIzYjQ1YTg4OWE2NjI1N2ZiNGZhNWY0ID0gTC5wb3B1cCh7Im1heFdpZHRoIjogIjEwMCUifSk7CgogICAgICAgIAogICAgICAgICAgICB2YXIgaHRtbF8yNzNjOGM1MWY0MWY0NzJiYTNmOWNkNmI5YmNhYmEwZCA9ICQoYDxkaXYgaWQ9Imh0bWxfMjczYzhjNTFmNDFmNDcyYmEzZjljZDZiOWJjYWJhMGQiIHN0eWxlPSJ3aWR0aDogMTAwLjAlOyBoZWlnaHQ6IDEwMC4wJTsiPlN0LiBKYW1lcyBUb3duICwgQ2FiYmFnZXRvd248L2Rpdj5gKVswXTsKICAgICAgICAgICAgcG9wdXBfZGIwN2ZmOGUxYjNiNDVhODg5YTY2MjU3ZmI0ZmE1ZjQuc2V0Q29udGVudChodG1sXzI3M2M4YzUxZjQxZjQ3MmJhM2Y5Y2Q2YjliY2FiYTBkKTsKICAgICAgICAKCiAgICAgICAgbWFya2VyX2Q1ZjRhNjhjZWM1MjQ1OGI5M2NlMzdmMTA4ZTUzYjA1LmJpbmRQb3B1cChwb3B1cF9kYjA3ZmY4ZTFiM2I0NWE4ODlhNjYyNTdmYjRmYTVmNCkKICAgICAgICA7CgogICAgICAgIAogICAgCiAgICAKICAgICAgICAgICAgdmFyIG1hcmtlcl9hMTVjODRmNzdiZDk0MmZmYmMyNWQyZDRkMzNhZDVmNSA9IEwubWFya2VyKAogICAgICAgICAgICAgICAgWzQzLjY0ODQyOTIsIC03OS4zODIyODAyXSwKICAgICAgICAgICAgICAgIHt9CiAgICAgICAgICAgICkuYWRkVG8obWFwX2FkNGQ2OGNiYmJlYjRjNDI4YTNiY2YwNjJhZDcxNjE0KTsKICAgICAgICAKICAgIAogICAgICAgIHZhciBwb3B1cF82Yjk1MDBiYzQyMzE0MmZlYTYxZjFjY2M4YjY2ZjVlNCA9IEwucG9wdXAoeyJtYXhXaWR0aCI6ICIxMDAlIn0pOwoKICAgICAgICAKICAgICAgICAgICAgdmFyIGh0bWxfMDZjZjJhNzc4NjU3NDg2ODhkZjQ5YTA3ZTI5NmNjOWQgPSAkKGA8ZGl2IGlkPSJodG1sXzA2Y2YyYTc3ODY1NzQ4Njg4ZGY0OWEwN2UyOTZjYzlkIiBzdHlsZT0id2lkdGg6IDEwMC4wJTsgaGVpZ2h0OiAxMDAuMCU7Ij5GaXJzdCBDYW5hZGlhbiBQbGFjZSAsIFVuZGVyZ3JvdW5kIGNpdHk8L2Rpdj5gKVswXTsKICAgICAgICAgICAgcG9wdXBfNmI5NTAwYmM0MjMxNDJmZWE2MWYxY2NjOGI2NmY1ZTQuc2V0Q29udGVudChodG1sXzA2Y2YyYTc3ODY1NzQ4Njg4ZGY0OWEwN2UyOTZjYzlkKTsKICAgICAgICAKCiAgICAgICAgbWFya2VyX2ExNWM4NGY3N2JkOTQyZmZiYzI1ZDJkNGQzM2FkNWY1LmJpbmRQb3B1cChwb3B1cF82Yjk1MDBiYzQyMzE0MmZlYTYxZjFjY2M4YjY2ZjVlNCkKICAgICAgICA7CgogICAgICAgIAogICAgCiAgICAKICAgICAgICAgICAgdmFyIG1hcmtlcl9mNjVlYWQ2MjE3NjM0NjQ0OTA0YTM0Y2Q5NzZmMWExYSA9IEwubWFya2VyKAogICAgICAgICAgICAgICAgWzQzLjY1MzY1MzYwMDAwMDAwNSwgLTc5LjUwNjk0MzZdLAogICAgICAgICAgICAgICAge30KICAgICAgICAgICAgKS5hZGRUbyhtYXBfYWQ0ZDY4Y2JiYmViNGM0MjhhM2JjZjA2MmFkNzE2MTQpOwogICAgICAgIAogICAgCiAgICAgICAgdmFyIHBvcHVwX2VjMzk3Yzk4NTlkZTQ5NjlhMjI3ZDJjZjliNDRjYWYxID0gTC5wb3B1cCh7Im1heFdpZHRoIjogIjEwMCUifSk7CgogICAgICAgIAogICAgICAgICAgICB2YXIgaHRtbF8wM2QwNGNmNWNjZDc0ODNlODBjZWZiMmQ3YjQwOTc1MiA9ICQoYDxkaXYgaWQ9Imh0bWxfMDNkMDRjZjVjY2Q3NDgzZTgwY2VmYjJkN2I0MDk3NTIiIHN0eWxlPSJ3aWR0aDogMTAwLjAlOyBoZWlnaHQ6IDEwMC4wJTsiPlRoZSBLaW5nc3dheSAsIE1vbnRnb21lcnkgUm9hZCAsIE9sZCBNaWxsIE5vcnRoPC9kaXY+YClbMF07CiAgICAgICAgICAgIHBvcHVwX2VjMzk3Yzk4NTlkZTQ5NjlhMjI3ZDJjZjliNDRjYWYxLnNldENvbnRlbnQoaHRtbF8wM2QwNGNmNWNjZDc0ODNlODBjZWZiMmQ3YjQwOTc1Mik7CiAgICAgICAgCgogICAgICAgIG1hcmtlcl9mNjVlYWQ2MjE3NjM0NjQ0OTA0YTM0Y2Q5NzZmMWExYS5iaW5kUG9wdXAocG9wdXBfZWMzOTdjOTg1OWRlNDk2OWEyMjdkMmNmOWI0NGNhZjEpCiAgICAgICAgOwoKICAgICAgICAKICAgIAogICAgCiAgICAgICAgICAgIHZhciBtYXJrZXJfYmQ0NTY5NDc2M2M4NDdiODg2ZjI2ZTBiMGNmZWE3NTQgPSBMLm1hcmtlcigKICAgICAgICAgICAgICAgIFs0My42NjU4NTk5LCAtNzkuMzgzMTU5OTAwMDAwMDFdLAogICAgICAgICAgICAgICAge30KICAgICAgICAgICAgKS5hZGRUbyhtYXBfYWQ0ZDY4Y2JiYmViNGM0MjhhM2JjZjA2MmFkNzE2MTQpOwogICAgICAgIAogICAgCiAgICAgICAgdmFyIHBvcHVwXzc0MTg3ZDgzMzQ5MDRlYWY5NDAxNGNhOTI4NWVhNTg5ID0gTC5wb3B1cCh7Im1heFdpZHRoIjogIjEwMCUifSk7CgogICAgICAgIAogICAgICAgICAgICB2YXIgaHRtbF80ODExY2JiMTgxYTY0ZDZkYmM4ZDA4YTI5MTc1Njc4YyA9ICQoYDxkaXYgaWQ9Imh0bWxfNDgxMWNiYjE4MWE2NGQ2ZGJjOGQwOGEyOTE3NTY3OGMiIHN0eWxlPSJ3aWR0aDogMTAwLjAlOyBoZWlnaHQ6IDEwMC4wJTsiPkNodXJjaCBhbmQgV2VsbGVzbGV5PC9kaXY+YClbMF07CiAgICAgICAgICAgIHBvcHVwXzc0MTg3ZDgzMzQ5MDRlYWY5NDAxNGNhOTI4NWVhNTg5LnNldENvbnRlbnQoaHRtbF80ODExY2JiMTgxYTY0ZDZkYmM4ZDA4YTI5MTc1Njc4Yyk7CiAgICAgICAgCgogICAgICAgIG1hcmtlcl9iZDQ1Njk0NzYzYzg0N2I4ODZmMjZlMGIwY2ZlYTc1NC5iaW5kUG9wdXAocG9wdXBfNzQxODdkODMzNDkwNGVhZjk0MDE0Y2E5Mjg1ZWE1ODkpCiAgICAgICAgOwoKICAgICAgICAKICAgIAogICAgCiAgICAgICAgICAgIHZhciBtYXJrZXJfMTU5NDkyYWE3ZGQwNDY3ODhkOTlhZDU5YWJmMjA4ZTggPSBMLm1hcmtlcigKICAgICAgICAgICAgICAgIFs0My42NjI3NDM5LCAtNzkuMzIxNTU4XSwKICAgICAgICAgICAgICAgIHt9CiAgICAgICAgICAgICkuYWRkVG8obWFwX2FkNGQ2OGNiYmJlYjRjNDI4YTNiY2YwNjJhZDcxNjE0KTsKICAgICAgICAKICAgIAogICAgICAgIHZhciBwb3B1cF9mY2M2ZDdiN2U5MmI0YmEzYWMxMmViNWZiZDRkN2YxMSA9IEwucG9wdXAoeyJtYXhXaWR0aCI6ICIxMDAlIn0pOwoKICAgICAgICAKICAgICAgICAgICAgdmFyIGh0bWxfZWQzNDYyMzc3MjI5NDA3MGJlOTEwOGQwNmMwMjE4NTggPSAkKGA8ZGl2IGlkPSJodG1sX2VkMzQ2MjM3NzIyOTQwNzBiZTkxMDhkMDZjMDIxODU4IiBzdHlsZT0id2lkdGg6IDEwMC4wJTsgaGVpZ2h0OiAxMDAuMCU7Ij5CdXNpbmVzcyByZXBseSBtYWlsIFByb2Nlc3NpbmcgQ2VudHJFPC9kaXY+YClbMF07CiAgICAgICAgICAgIHBvcHVwX2ZjYzZkN2I3ZTkyYjRiYTNhYzEyZWI1ZmJkNGQ3ZjExLnNldENvbnRlbnQoaHRtbF9lZDM0NjIzNzcyMjk0MDcwYmU5MTA4ZDA2YzAyMTg1OCk7CiAgICAgICAgCgogICAgICAgIG1hcmtlcl8xNTk0OTJhYTdkZDA0Njc4OGQ5OWFkNTlhYmYyMDhlOC5iaW5kUG9wdXAocG9wdXBfZmNjNmQ3YjdlOTJiNGJhM2FjMTJlYjVmYmQ0ZDdmMTEpCiAgICAgICAgOwoKICAgICAgICAKICAgIAogICAgCiAgICAgICAgICAgIHZhciBtYXJrZXJfOGYzNzZhNzhmODU4NGVmOWE4ZmZmOTlkMzNiMDAyZDggPSBMLm1hcmtlcigKICAgICAgICAgICAgICAgIFs0My42MzYyNTc5LCAtNzkuNDk4NTA5MDk5OTk5OTldLAogICAgICAgICAgICAgICAge30KICAgICAgICAgICAgKS5hZGRUbyhtYXBfYWQ0ZDY4Y2JiYmViNGM0MjhhM2JjZjA2MmFkNzE2MTQpOwogICAgICAgIAogICAgCiAgICAgICAgdmFyIHBvcHVwXzcyNzUyMzJhYTU4ZDRhMzE4YjViMzRjNjA4M2U2ZGNjID0gTC5wb3B1cCh7Im1heFdpZHRoIjogIjEwMCUifSk7CgogICAgICAgIAogICAgICAgICAgICB2YXIgaHRtbF82YjA1YjA1Y2E3YTM0Nzg4OTdmYmE2NDg5NzY0N2ViOSA9ICQoYDxkaXYgaWQ9Imh0bWxfNmIwNWIwNWNhN2EzNDc4ODk3ZmJhNjQ4OTc2NDdlYjkiIHN0eWxlPSJ3aWR0aDogMTAwLjAlOyBoZWlnaHQ6IDEwMC4wJTsiPk9sZCBNaWxsIFNvdXRoICwgS2luZydzIE1pbGwgUGFyayAsIFN1bm55bGVhICwgSHVtYmVyIEJheSAsIE1pbWljbyBORSAsIFRoZSBRdWVlbnN3YXkgRWFzdCAsIFJveWFsIFlvcmsgU291dGggRWFzdCAsIEtpbmdzd2F5IFBhcmsgU291dGggRWFzdDwvZGl2PmApWzBdOwogICAgICAgICAgICBwb3B1cF83Mjc1MjMyYWE1OGQ0YTMxOGI1YjM0YzYwODNlNmRjYy5zZXRDb250ZW50KGh0bWxfNmIwNWIwNWNhN2EzNDc4ODk3ZmJhNjQ4OTc2NDdlYjkpOwogICAgICAgIAoKICAgICAgICBtYXJrZXJfOGYzNzZhNzhmODU4NGVmOWE4ZmZmOTlkMzNiMDAyZDguYmluZFBvcHVwKHBvcHVwXzcyNzUyMzJhYTU4ZDRhMzE4YjViMzRjNjA4M2U2ZGNjKQogICAgICAgIDsKCiAgICAgICAgCiAgICAKICAgIAogICAgICAgICAgICB2YXIgbWFya2VyXzViYjRmZTM0Mjc3MzRiMDRiYmEwMzI1NTdkYTBmZTc1ID0gTC5tYXJrZXIoCiAgICAgICAgICAgICAgICBbNDMuNjI4ODQwOCwgLTc5LjUyMDk5OTQwMDAwMDAxXSwKICAgICAgICAgICAgICAgIHt9CiAgICAgICAgICAgICkuYWRkVG8obWFwX2FkNGQ2OGNiYmJlYjRjNDI4YTNiY2YwNjJhZDcxNjE0KTsKICAgICAgICAKICAgIAogICAgICAgIHZhciBwb3B1cF9iNzM3OWNjYWQyZWQ0NTZmYmNhNzVlNzYwODNlNWRmNSA9IEwucG9wdXAoeyJtYXhXaWR0aCI6ICIxMDAlIn0pOwoKICAgICAgICAKICAgICAgICAgICAgdmFyIGh0bWxfOThiNGRlY2Q4MmVhNGU0Njg5NDczMzFmOWNmY2MzYTYgPSAkKGA8ZGl2IGlkPSJodG1sXzk4YjRkZWNkODJlYTRlNDY4OTQ3MzMxZjljZmNjM2E2IiBzdHlsZT0id2lkdGg6IDEwMC4wJTsgaGVpZ2h0OiAxMDAuMCU7Ij5NaW1pY28gTlcgLCBUaGUgUXVlZW5zd2F5IFdlc3QgLCBTb3V0aCBvZiBCbG9vciAsIEtpbmdzd2F5IFBhcmsgU291dGggV2VzdCAsIFJveWFsIFlvcmsgU291dGggV2VzdDwvZGl2PmApWzBdOwogICAgICAgICAgICBwb3B1cF9iNzM3OWNjYWQyZWQ0NTZmYmNhNzVlNzYwODNlNWRmNS5zZXRDb250ZW50KGh0bWxfOThiNGRlY2Q4MmVhNGU0Njg5NDczMzFmOWNmY2MzYTYpOwogICAgICAgIAoKICAgICAgICBtYXJrZXJfNWJiNGZlMzQyNzczNGIwNGJiYTAzMjU1N2RhMGZlNzUuYmluZFBvcHVwKHBvcHVwX2I3Mzc5Y2NhZDJlZDQ1NmZiY2E3NWU3NjA4M2U1ZGY1KQogICAgICAgIDsKCiAgICAgICAgCiAgICAKPC9zY3JpcHQ+ onload=\"this.contentDocument.open();this.contentDocument.write(atob(this.getAttribute('data-html')));this.contentDocument.close();\" allowfullscreen webkitallowfullscreen mozallowfullscreen></iframe></div></div>"
      ],
      "text/plain": [
       "<folium.folium.Map at 0x19f3069b788>"
      ]
     },
     "execution_count": 15,
     "metadata": {},
     "output_type": "execute_result"
    }
   ],
   "source": [
    "toronto_map = folium.Map(location=[lat, long], zoom_start=11)\n",
    "\n",
    "toronto_feature_group = folium.map.FeatureGroup()\n",
    "\n",
    "for loc in zip(data_with_location[[\"Neighborhood\", \"Latitude\", \"Longitude\"]].values):\n",
    "    addr, lat, long = loc[0][0], loc[0][1], loc[0][2]\n",
    "    toronto_feature_group.add_child(folium.CircleMarker(location=[lat, long], radius=3, color=\"blue\", fill_color=\"blue\",\n",
    "                                                       fill_opacity=0.4, fill=True))\n",
    "    folium.Marker([lat, long], popup=str(addr)).add_to(toronto_map)\n",
    "    \n",
    "print(\"Processing the Map!\")    \n",
    "toronto_map"
   ]
  },
  {
   "cell_type": "code",
   "execution_count": null,
   "metadata": {},
   "outputs": [],
   "source": []
  },
  {
   "cell_type": "code",
   "execution_count": null,
   "metadata": {},
   "outputs": [],
   "source": []
  }
 ],
 "metadata": {
  "kernelspec": {
   "display_name": "Python 3",
   "language": "python",
   "name": "python3"
  },
  "language_info": {
   "codemirror_mode": {
    "name": "ipython",
    "version": 3
   },
   "file_extension": ".py",
   "mimetype": "text/x-python",
   "name": "python",
   "nbconvert_exporter": "python",
   "pygments_lexer": "ipython3",
   "version": "3.7.5"
  }
 },
 "nbformat": 4,
 "nbformat_minor": 4
}
